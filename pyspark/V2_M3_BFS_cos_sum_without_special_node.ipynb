{
 "cells": [
  {
   "cell_type": "code",
   "execution_count": 1,
   "id": "expanded-milwaukee",
   "metadata": {},
   "outputs": [],
   "source": [
    "import findspark\n",
    "import os\n",
    "#findspark.init() \n",
    "SPARK_HOME='/opt/cloudera/parcels/CDH/lib/spark'\n",
    "# SPARK_HOME='/home/qiany/.conda/envs/py37'\n",
    "# os.environ['SPARK_HOME'] = '/home/qiany/.conda/envs/py37'\n",
    "findspark.init(SPARK_HOME)"
   ]
  },
  {
   "cell_type": "code",
   "execution_count": 2,
   "id": "secondary-threat",
   "metadata": {},
   "outputs": [],
   "source": [
    "import time\n",
    "import math\n",
    "import copy\n",
    "import csv\n",
    "import json\n",
    "import os\n",
    "import codecs\n",
    "import subprocess\n",
    "#from hdfs import InsecureClient\n",
    "import numpy as np\n",
    "#from pyspark import SparkContext\n",
    "from pyspark import SQLContext\n",
    "from pyspark.sql import Row\n",
    "from pyspark.sql import functions as F\n",
    "from pyspark.sql.functions import coalesce,broadcast,collect_list, collect_set, udf, array_remove, log, lit, first, col, array, sort_array,split, explode, desc, asc, row_number,isnan, when, count\n",
    "from pyspark.sql.types import *\n",
    "import rtree\n",
    "from pyspark.sql import Window\n",
    "#import igraph\n",
    "#from igraph import Graph\n",
    "import geofeather\n",
    "from pyspark.storagelevel import StorageLevel"
   ]
  },
  {
   "cell_type": "code",
   "execution_count": 3,
   "id": "obvious-subcommittee",
   "metadata": {},
   "outputs": [
    {
     "name": "stdin",
     "output_type": "stream",
     "text": [
      "Here is a programe to compute the Forman gradient, please input the absolute or relative path to your TIN file: cos_sum.tri\n"
     ]
    },
    {
     "name": "stdout",
     "output_type": "stream",
     "text": [
      "\n",
      "********************\n",
      "tin_directory:  \n"
     ]
    },
    {
     "name": "stdin",
     "output_type": "stream",
     "text": [
      "Is the data stored in hdfs(0) or SigSpatial(1): 0\n"
     ]
    },
    {
     "name": "stdout",
     "output_type": "stream",
     "text": [
      "tin_basename:  cos_sum.tri\n",
      "tin_filename:  cos_sum\n",
      "tin_extension:  .tri\n",
      "\n",
      "********************\n"
     ]
    }
   ],
   "source": [
    "tin_file = input(\"Here is a programe to compute the Forman gradient, please input the absolute or relative path to your TIN file:\")\n",
    "print(\"\\n********************\")\n",
    "\n",
    "# get the directory to the TIN file\n",
    "tin_directory = os.path.dirname(tin_file)\n",
    "print(\"tin_directory: \", tin_directory)\n",
    "\n",
    "directory_type = input(\"Is the data stored in hdfs(0) or SigSpatial(1):\")\n",
    "if directory_type == '0':\n",
    "    directory = 'hdfs_data'\n",
    "else:\n",
    "    directory = 'SigSpatial_data'\n",
    "    \n",
    "# get the basename to the TIN file\n",
    "tin_basename = os.path.basename(tin_file) # input_vertices_2.off\n",
    "print(\"tin_basename: \", tin_basename)\n",
    "\n",
    "# get the filename of the TIN file\n",
    "tin_filename = os.path.splitext(tin_basename)[0] # input_vertices_2\n",
    "print(\"tin_filename: \", tin_filename)\n",
    "\n",
    "# get the type of TIN file: off, tri, etc\n",
    "tin_extension = os.path.splitext(tin_basename)[1] # .off\n",
    "print(\"tin_extension: \", tin_extension)\n",
    "print(\"\\n********************\")"
   ]
  },
  {
   "cell_type": "code",
   "execution_count": 4,
   "id": "comparative-frederick",
   "metadata": {},
   "outputs": [
    {
     "name": "stdin",
     "output_type": "stream",
     "text": [
      "spark.executor.instances: 4\n",
      "spark.executor.cores: 5\n",
      "spark.executor.memory? Please end with 'g': 10g\n",
      "spark.executor.memoryOverhead? Please end with 'g': 2g\n",
      "spark.sql.shuffle.partitions: 20\n"
     ]
    }
   ],
   "source": [
    "# filtra = input(\"Do you have filtration data?\")\n",
    "filtra = 'yes'\n",
    "\n",
    "# if filtra.lower() == 'no':\n",
    "#     Basic_Data = input(\"Do you have basic pts and tri data?\")\n",
    "    \n",
    "Num_executor = input(\"spark.executor.instances:\")\n",
    "Num_core_per_executor = input(\"spark.executor.cores:\")\n",
    "Memory_executor = input(\"spark.executor.memory? Please end with 'g':\")\n",
    "MemoryOverhead_executor = input(\"spark.executor.memoryOverhead? Please end with 'g':\")\n",
    "\n",
    "# Num_core_per_driver = Num_core_per_executor\n",
    "# Memory_driver = Memory_executor\n",
    "# MemoryOverhead_driver = MemoryOverhead_executor\n",
    "Num_core_per_driver = '5'\n",
    "Memory_driver = '12g'\n",
    "MemoryOverhead_driver = '4g'\n",
    "\n",
    "Num_shuffle_partitions = input(\"spark.sql.shuffle.partitions:\")\n",
    "# StorageFraction = input(\"spark.memory.storageFraction:\")\n",
    "# Num_subgraphs = int(input(\"How many subgraphs:\"))\n",
    "\n",
    "# Num_executor = '8'\n",
    "# Num_core_per_executor = '5'\n",
    "# Memory_executor = '7g'\n",
    "# MemoryOverhead_executor = '1g'\n",
    "# Num_shuffle_partitions = '120'\n",
    "# StorageFraction = '0.5'"
   ]
  },
  {
   "cell_type": "code",
   "execution_count": 5,
   "id": "aggregate-radiation",
   "metadata": {},
   "outputs": [],
   "source": [
    "from pyspark.sql import SparkSession\n",
    "from pyspark import StorageLevel\n",
    "import geopandas as gpd\n",
    "import pandas as pd\n",
    "from pyspark.sql.types import StructType, StructField, StringType, IntegerType, LongType, FloatType, ArrayType, MapType\n",
    "from shapely.geometry import Point\n",
    "from shapely.geometry import Polygon\n",
    "\n",
    "from sedona.register import SedonaRegistrator\n",
    "from sedona.core.SpatialRDD import SpatialRDD, PointRDD, CircleRDD, PolygonRDD, LineStringRDD\n",
    "from sedona.core.enums import FileDataSplitter\n",
    "from sedona.utils.adapter import Adapter\n",
    "from sedona.core.spatialOperator import KNNQuery\n",
    "from sedona.core.spatialOperator import JoinQuery\n",
    "from sedona.core.spatialOperator import JoinQueryRaw\n",
    "from sedona.core.spatialOperator import RangeQuery\n",
    "from sedona.core.spatialOperator import RangeQueryRaw\n",
    "from sedona.core.formatMapper.shapefileParser import ShapefileReader\n",
    "from sedona.core.formatMapper import WkbReader\n",
    "from sedona.core.formatMapper import WktReader\n",
    "from sedona.core.formatMapper import GeoJsonReader\n",
    "from sedona.sql.types import GeometryType\n",
    "from sedona.core.enums import GridType\n",
    "from sedona.core.SpatialRDD import RectangleRDD\n",
    "from sedona.core.enums import IndexType\n",
    "from sedona.core.geom.envelope import Envelope\n",
    "from sedona.utils import SedonaKryoRegistrator, KryoSerializer"
   ]
  },
  {
   "cell_type": "code",
   "execution_count": 6,
   "id": "stylish-estonia",
   "metadata": {},
   "outputs": [],
   "source": [
    "os.environ['PYSPARK_PYTHON'] = \"./environment/bin/python\"\n",
    "#os.environ['PYSPARK_PYTHON'] = \"/home/qiany/.conda/envs/py37/bin/python\"\n",
    "os.environ['YARN_CONF_DIR'] = \"/opt/cloudera/parcels/CDH/lib/spark/conf/yarn-conf\""
   ]
  },
  {
   "cell_type": "code",
   "execution_count": 7,
   "id": "buried-comparative",
   "metadata": {},
   "outputs": [
    {
     "name": "stdout",
     "output_type": "stream",
     "text": [
      "spark_app_name: V2_M3_BFS_cos_sum_03072024_1459\n"
     ]
    }
   ],
   "source": [
    "'''\n",
    "spark.executor.cores: # Number of concurrent tasks an executor can run, euqals to the number of cores to use on each executor\n",
    "spark.executor.instances: # Number of executors for the spark application\n",
    "spark.executor.memory: # Amount of memory to use for each executor that runs the task\n",
    "spark.executor.memoryOverhead:\n",
    "spark.driver.cores: # Number of cores to use for the driver process; the default number is 1\n",
    "spark.driver.memory: # Amount of memory to use for the driver\n",
    "spark.driver.maxResultSize: to define the maximum limit of the total size of the serialized result that a driver can store for each Spark collect action\n",
    "spark.default.parallelism: # Default number of partitions in RDDs returned by transformations like join, reduceByKey, and parallelize when not set by user. It can be set as spark.executor.instances * spark.executor.cores * 2\n",
    "spark.sql.shuffle.partitions: determine how many partitions are used when data is shuffled between nodes, e.g., joins or aggregations. usually 1~5 times of executor.instances * executor.cores\n",
    "spark.memory.storageFraction: determines the fraction of the heap space that is allocated to caching RDDs and DataFrames in memory.\n",
    "spark.kryoserializer.buffer.max: determine the maximum of data that can be serialized at once; this must be larger than any object we attempt to serialize\n",
    "spark.rpc.message.maxSize: # Maximum message size (in MiB) to allow in \"control plane\" communication; generally only applies to map output size information sent between executors and the driver. To communicate between the nodes, Spark uses a protocol called RPC (Remote Procedure Call), which sends messages back and forth. The spark.rpc.message.maxSize parameter limits how big these messages can be. \n",
    "spark.sql.broadcastTimeout: Spark will wait for this amount of time before giving up on broadcasting a table. Broadcasting can take a long time if the table is large or if there is a shuffle operation before it.\n",
    "spark.sql.autoBroadcastJoinThreshold: Spark will broadcast a table to all worker nodes when performing a join if its size is less than this value; -1 means disabling broadcasting\n",
    "'''\n",
    "# .config('spark.memory.storageFraction', StorageFraction) \\\n",
    "\n",
    "date = time.strftime(\"%m,%d,%Y\")\n",
    "date_name = date.split(',')[0] + date.split(',')[1] + date.split(',')[2]\n",
    "\n",
    "hour = time.strftime(\"%H,%M\")\n",
    "hour_name = hour.split(',')[0] + hour.split(',')[1]\n",
    "\n",
    "spark_app_name = \"V2_M3_BFS_\" + tin_filename + '_' + date_name + '_' + hour_name\n",
    "print(\"spark_app_name:\", spark_app_name)\n",
    "\n",
    "spark = SparkSession \\\n",
    ".builder \\\n",
    ".appName(spark_app_name) \\\n",
    ".master('yarn') \\\n",
    ".config(\"spark.serializer\", \"org.apache.spark.serializer.KryoSerializer\") \\\n",
    ".config(\"spark.kryo.registrator\", SedonaKryoRegistrator.getName) \\\n",
    ".config('spark.jars','sedona-core-2.4_2.11-1.0.0-incubating.jar,sedona-sql-2.4_2.11-1.0.0-incubating.jar,sedona-python-adapter-2.4_2.11-1.0.0-incubating.jar,sedona-viz-2.4_2.11-1.0.0-incubating.jar,geotools-wrapper-geotools-24.0.jar,graphframes-0.8.0-spark2.4-s_2.11.jar') \\\n",
    ".config('spark.executor.cores', Num_core_per_executor) \\\n",
    ".config('spark.executor.instances', Num_executor) \\\n",
    ".config('spark.executor.memory', Memory_executor) \\\n",
    ".config('spark.executor.memoryOverhead', MemoryOverhead_executor) \\\n",
    ".config('spark.driver.cores', Num_core_per_driver) \\\n",
    ".config('spark.driver.memory', Memory_driver) \\\n",
    ".config('spark.driver.memoryOverhead', MemoryOverhead_driver) \\\n",
    ".config('spark.driver.maxResultSize', '0') \\\n",
    ".config('spark.dynamicAllocation.enabled', 'false') \\\n",
    ".config('spark.network.timeout', '10000001s') \\\n",
    ".config('spark.executor.heartbeatInterval', '10000000s') \\\n",
    ".config('spark.sql.shuffle.partitions', Num_shuffle_partitions) \\\n",
    ".config(\"spark.default.parallelism\", '20') \\\n",
    ".config(\"spark.kryoserializer.buffer.max\", \"1024mb\") \\\n",
    ".config('spark.rpc.message.maxSize', '256') \\\n",
    ".config(\"spark.sql.broadcastTimeout\", \"36000\") \\\n",
    ".config(\"spark.sql.autoBroadcastJoinThreshold\", \"-1\") \\\n",
    ".config('spark.yarn.dist.archives', '/local/data/yuehui/py37.tar.gz#environment') \\\n",
    ".getOrCreate()"
   ]
  },
  {
   "cell_type": "code",
   "execution_count": 8,
   "id": "independent-annex",
   "metadata": {},
   "outputs": [
    {
     "data": {
      "text/plain": [
       "True"
      ]
     },
     "execution_count": 8,
     "metadata": {},
     "output_type": "execute_result"
    }
   ],
   "source": [
    "# Register function is essential for Apache Sedona Core and Apache Sedona SQL. \n",
    "SedonaRegistrator.registerAll(spark)"
   ]
  },
  {
   "cell_type": "code",
   "execution_count": 9,
   "id": "ideal-shareware",
   "metadata": {},
   "outputs": [
    {
     "data": {
      "text/plain": [
       "20"
      ]
     },
     "execution_count": 9,
     "metadata": {},
     "output_type": "execute_result"
    }
   ],
   "source": [
    "spark.sparkContext.defaultParallelism"
   ]
  },
  {
   "cell_type": "code",
   "execution_count": 10,
   "id": "suburban-nelson",
   "metadata": {},
   "outputs": [],
   "source": [
    "import sys\n",
    "sys.path.append(\"/local/data/yuehui/pyspark/FormanGradient/code\")"
   ]
  },
  {
   "cell_type": "code",
   "execution_count": 11,
   "id": "amateur-province",
   "metadata": {},
   "outputs": [],
   "source": [
    "import graphframes\n",
    "from graphframes import GraphFrame\n",
    "from graphframes import *\n",
    "from graphframes.lib import Pregel"
   ]
  },
  {
   "cell_type": "code",
   "execution_count": 12,
   "id": "collect-trading",
   "metadata": {},
   "outputs": [],
   "source": [
    "t_tri_order_0 = time.time()"
   ]
  },
  {
   "cell_type": "code",
   "execution_count": 13,
   "id": "paperback-insulation",
   "metadata": {},
   "outputs": [
    {
     "name": "stdout",
     "output_type": "stream",
     "text": [
      "root\n",
      " |-- x: float (nullable = true)\n",
      " |-- y: float (nullable = true)\n",
      " |-- ele: float (nullable = true)\n",
      " |-- self_index: integer (nullable = true)\n",
      " |-- self_order: integer (nullable = true)\n",
      "\n",
      "Number of partitions for df_ver_order: 1\n",
      "root\n",
      " |-- v1: integer (nullable = true)\n",
      " |-- v2: integer (nullable = true)\n",
      " |-- v3: integer (nullable = true)\n",
      " |-- tri_order: integer (nullable = true)\n",
      "\n",
      "Number of partitions for df_tri_origin: 1\n"
     ]
    }
   ],
   "source": [
    "# StructType is a collection of StructField’s which is used to define the column name, data type, and a flag for nullable or not.\n",
    "# StructType: https://sparkbyexamples.com/pyspark/pyspark-sql-types-datatype-with-examples/\n",
    "\n",
    "if filtra.lower() == 'yes':\n",
    "    # create a DataFrame for original vertices\n",
    "    schema_ver_origin = StructType([ \\\n",
    "        StructField(\"x\",FloatType(),True), \\\n",
    "        StructField(\"y\",FloatType(),True), \\\n",
    "        StructField(\"ele\",FloatType(),True), \\\n",
    "        StructField(\"self_index\",IntegerType(),True), \\\n",
    "        StructField(\"self_order\",IntegerType(),True) \\\n",
    "      ])\n",
    "    \n",
    "    # hdfs_tin_pts_origin = \"SigSpatial_data\" + \"/\" + tin_filename + '_filtra_pts_origin.csv'\n",
    "    hdfs_tin_pts_origin = \"hdfs_data\" + \"/\" + tin_filename + '_filtra_pts_origin.csv'\n",
    "\n",
    "    df_ver_order = spark.read.format(\"csv\") \\\n",
    "          .option(\"header\", False) \\\n",
    "          .schema(schema_ver_origin)\\\n",
    "          .load(hdfs_tin_pts_origin)\n",
    "    df_ver_order.printSchema()\n",
    "    print(\"Number of partitions for df_ver_order:\", df_ver_order.rdd.getNumPartitions())\n",
    "\n",
    "    \n",
    "    # create DataFrames for original triangles\n",
    "    schema_tri_origin = StructType([ \\\n",
    "        StructField(\"v1\",IntegerType(),True), \\\n",
    "        StructField(\"v2\",IntegerType(),True), \\\n",
    "        StructField(\"v3\",IntegerType(),True), \\\n",
    "        StructField(\"tri_order\",IntegerType(),True) \\\n",
    "      ])\n",
    "    \n",
    "    # hdfs_tin_tri_origin = \"SigSpatial_data\" + \"/\" + tin_filename + '_filtra_tri_origin.csv'\n",
    "    hdfs_tin_tri_origin = \"hdfs_data\" + \"/\" + tin_filename + '_filtra_tri_origin.csv'\n",
    "    \n",
    "    df_tri_origin = spark.read.format(\"csv\") \\\n",
    "          .option(\"header\", False) \\\n",
    "          .schema(schema_tri_origin)\\\n",
    "          .load(hdfs_tin_tri_origin)\n",
    "    df_tri_origin.printSchema()\n",
    "    print(\"Number of partitions for df_tri_origin:\", df_tri_origin.rdd.getNumPartitions())"
   ]
  },
  {
   "cell_type": "code",
   "execution_count": 14,
   "id": "first-kentucky",
   "metadata": {},
   "outputs": [],
   "source": [
    "if filtra.lower() == 'no':\n",
    "    # StructType is a collection of StructField’s which is used to define the column name, data type, and a flag for nullable or not.\n",
    "    # StructType: https://sparkbyexamples.com/pyspark/pyspark-sql-types-datatype-with-examples/\n",
    "    schema_ver_origin = StructType([ \\\n",
    "        StructField(\"x\",FloatType(),True), \\\n",
    "        StructField(\"y\",FloatType(),True), \\\n",
    "        StructField(\"ele\",FloatType(),True), \\\n",
    "        StructField(\"self_index\",IntegerType(),True) \\\n",
    "      ])\n",
    "    \n",
    "    hdfs_tin_pts_origin = \"SigSpatial_data\" + \"/\" + tin_filename + '_pts_origin.csv'\n",
    "\n",
    "    df_ver_origin = spark.read.format(\"csv\") \\\n",
    "          .option(\"header\", False) \\\n",
    "          .schema(schema_ver_origin)\\\n",
    "          .load(hdfs_tin_pts_origin)\n",
    "    \n",
    "    print(\"Number of partitions:\", df_ver_origin.rdd.getNumPartitions())\n",
    "    # df_ver_origin.printSchema()\n",
    "    \n",
    "    # define a window for the ordering\n",
    "    # row_number() function along with partitionBy() of other column populates the row number by group\n",
    "    # Since we want to order the whole DataFrame, so we don't need the partitionBy() function\n",
    "    w = Window().orderBy(col('ele').asc())\n",
    "    df_ver_order = df_ver_origin.withColumn(\"self_order\", F.row_number().over(w) -1) # let the row number start from 0\n",
    "    # df_ver_order = df_ver_origin.withColumn(\"self_order\", col(\"self_order\").cast(IntegerType())) # change the data type of self_order to LongType\n",
    "    \n",
    "    # df_ver_order.printSchema()\n",
    "    print(\"Number of partitions for df_ver_order:\", df_ver_order.rdd.getNumPartitions())\n",
    "\n",
    "    \n",
    "    # create DataFrames for original triangles\n",
    "    schema_tri_origin = StructType([ \\\n",
    "        StructField(\"v1\",IntegerType(),True), \\\n",
    "        StructField(\"v2\",IntegerType(),True), \\\n",
    "        StructField(\"v3\",IntegerType(),True), \\\n",
    "        StructField(\"tri_order\",IntegerType(),True) \\\n",
    "      ])\n",
    "    \n",
    "    hdfs_tin_tri_origin = \"SigSpatial_data\" + \"/\" + tin_filename + '_tri_origin.csv'\n",
    "    \n",
    "    df_tri_origin = spark.read.format(\"csv\") \\\n",
    "          .option(\"header\", False) \\\n",
    "          .schema(schema_tri_origin)\\\n",
    "          .load(hdfs_tin_tri_origin)\n",
    "    print(\"Number of partitions for df_tri_origin:\", df_tri_origin.rdd.getNumPartitions())"
   ]
  },
  {
   "cell_type": "code",
   "execution_count": 15,
   "id": "prepared-things",
   "metadata": {},
   "outputs": [
    {
     "name": "stdout",
     "output_type": "stream",
     "text": [
      "Total time cost for persisting df_ver_order: 7.677078247070312e-05\n"
     ]
    }
   ],
   "source": [
    "# persist df_ver_order\n",
    "t_persist_df_ver_order_0 = time.time()\n",
    "\n",
    "# df_ver_order.persist(StorageLevel.MEMORY_ONLY_SER)\n",
    "\n",
    "t_persist_df_ver_order_1 = time.time()\n",
    "print(\"Total time cost for persisting df_ver_order:\", t_persist_df_ver_order_1 - t_persist_df_ver_order_0)"
   ]
  },
  {
   "cell_type": "code",
   "execution_count": 14,
   "id": "wireless-happiness",
   "metadata": {},
   "outputs": [
    {
     "name": "stdout",
     "output_type": "stream",
     "text": [
      "root\n",
      " |-- tri_order: integer (nullable = true)\n",
      " |-- v1: integer (nullable = true)\n",
      " |-- v2: integer (nullable = true)\n",
      " |-- v3: integer (nullable = true)\n",
      " |-- r1: integer (nullable = true)\n",
      " |-- r1_ele: float (nullable = true)\n",
      "\n",
      "The number of partitions for df_tri_order_v1: 20\n"
     ]
    }
   ],
   "source": [
    "# join two DataFrames by df_tri_origin.v1 == df_ver_order.self_index\n",
    "# https://sparkbyexamples.com/pyspark/pyspark-join-explained-with-examples/\n",
    "df_tri_order_v1 = df_tri_origin.join(df_ver_order, df_tri_origin.v1 == df_ver_order.self_index, \"inner\")\n",
    "df_tri_order_v1 = df_tri_order_v1.select(col(\"tri_order\"), col(\"v1\"), col(\"v2\"), col(\"v3\"),col(\"self_order\").alias(\"r1\"), col(\"ele\").alias(\"r1_ele\"))\n",
    "df_tri_order_v1.printSchema()\n",
    "print(\"The number of partitions for df_tri_order_v1:\", df_tri_order_v1.rdd.getNumPartitions())\n",
    "# df_tri_order_v1.show()"
   ]
  },
  {
   "cell_type": "code",
   "execution_count": 15,
   "id": "prompt-amateur",
   "metadata": {},
   "outputs": [
    {
     "name": "stdout",
     "output_type": "stream",
     "text": [
      "root\n",
      " |-- tri_order: integer (nullable = true)\n",
      " |-- v1: integer (nullable = true)\n",
      " |-- v2: integer (nullable = true)\n",
      " |-- v3: integer (nullable = true)\n",
      " |-- r1: integer (nullable = true)\n",
      " |-- r2: integer (nullable = true)\n",
      " |-- r1_ele: float (nullable = true)\n",
      " |-- r2_ele: float (nullable = true)\n",
      "\n"
     ]
    }
   ],
   "source": [
    "# join two DataFrames by df_tri_order_v1.v2 == df_ver_order.self_index\n",
    "# https://sparkbyexamples.com/pyspark/pyspark-join-explained-with-examples/\n",
    "df_tri_order_v2 = df_tri_order_v1.join(df_ver_order, df_tri_order_v1.v2 == df_ver_order.self_index, \"inner\")\n",
    "df_tri_order_v2 = df_tri_order_v2.select(col(\"tri_order\"), col(\"v1\"), col(\"v2\"), col(\"v3\"), col(\"r1\"), col(\"self_order\").alias(\"r2\"), col(\"r1_ele\"), col(\"ele\").alias(\"r2_ele\"))\n",
    "df_tri_order_v2.printSchema()\n",
    "#df_tri_order_v2.show()"
   ]
  },
  {
   "cell_type": "code",
   "execution_count": 16,
   "id": "stock-theta",
   "metadata": {},
   "outputs": [
    {
     "name": "stdout",
     "output_type": "stream",
     "text": [
      "root\n",
      " |-- tri_order: integer (nullable = true)\n",
      " |-- v1: integer (nullable = true)\n",
      " |-- v2: integer (nullable = true)\n",
      " |-- v3: integer (nullable = true)\n",
      " |-- r1: integer (nullable = true)\n",
      " |-- r2: integer (nullable = true)\n",
      " |-- r3: integer (nullable = true)\n",
      " |-- r1_ele: float (nullable = true)\n",
      " |-- r2_ele: float (nullable = true)\n",
      " |-- r3_ele: float (nullable = true)\n",
      "\n"
     ]
    }
   ],
   "source": [
    "# join two DataFrames by df_tri_order_v1.v2 == df_ver_order.self_index\n",
    "# https://sparkbyexamples.com/pyspark/pyspark-join-explained-with-examples/\n",
    "df_tri_order_v3 = df_tri_order_v2.join(df_ver_order, df_tri_order_v2.v3 == df_ver_order.self_index, \"inner\")\n",
    "df_tri_order_v3 = df_tri_order_v3.select(col(\"tri_order\"), col(\"v1\"), col(\"v2\"), col(\"v3\"), col(\"r1\"), col(\"r2\"), col(\"self_order\").alias(\"r3\"), col(\"r1_ele\"), col(\"r2_ele\"), col(\"ele\").alias(\"r3_ele\"))\n",
    "df_tri_order_v3.printSchema()\n",
    "#df_tri_order_v3.show()"
   ]
  },
  {
   "cell_type": "code",
   "execution_count": 17,
   "id": "olympic-conditions",
   "metadata": {},
   "outputs": [
    {
     "name": "stdout",
     "output_type": "stream",
     "text": [
      "root\n",
      " |-- tri_order: integer (nullable = true)\n",
      " |-- r1: integer (nullable = true)\n",
      " |-- r2: integer (nullable = true)\n",
      " |-- r3: integer (nullable = true)\n",
      " |-- r1_ele: float (nullable = true)\n",
      " |-- r2_ele: float (nullable = true)\n",
      " |-- r3_ele: float (nullable = true)\n",
      "\n",
      "The number of partitions for df_tri_order: 20\n"
     ]
    }
   ],
   "source": [
    "# the new triangles DataFrame \n",
    "df_tri_order = df_tri_order_v3.select(col(\"tri_order\"), col(\"r1\"), col(\"r2\"), col(\"r3\"), col(\"r1_ele\"), col(\"r2_ele\"), col(\"r3_ele\"))\n",
    "df_tri_order.printSchema()\n",
    "print(\"The number of partitions for df_tri_order:\", df_tri_order.rdd.getNumPartitions())\n",
    "# df_tri_order.show()"
   ]
  },
  {
   "cell_type": "code",
   "execution_count": 18,
   "id": "satisfactory-representative",
   "metadata": {},
   "outputs": [
    {
     "name": "stdout",
     "output_type": "stream",
     "text": [
      "root\n",
      " |-- tri_order: integer (nullable = true)\n",
      " |-- r1: integer (nullable = true)\n",
      " |-- r2: integer (nullable = true)\n",
      " |-- r3: integer (nullable = true)\n",
      " |-- r1_ele: float (nullable = true)\n",
      " |-- r2_ele: float (nullable = true)\n",
      " |-- r3_ele: float (nullable = true)\n",
      " |-- tri: array (nullable = false)\n",
      " |    |-- element: integer (containsNull = true)\n",
      " |-- tri_ele: array (nullable = false)\n",
      " |    |-- element: float (containsNull = true)\n",
      "\n"
     ]
    },
    {
     "data": {
      "text/plain": [
       "20"
      ]
     },
     "execution_count": 18,
     "metadata": {},
     "output_type": "execute_result"
    }
   ],
   "source": [
    "# sort tri in ascending order\n",
    "\n",
    "'''\n",
    "def get_tri_array(r1, r2, r3):\n",
    "# get_multi_pt_index is used to obtain the adjacent vertexes index, including the vertex itself\n",
    "# pt_list1: partial adjacent vertex indexes of join result 1\n",
    "# pt_list2: partial adjacent vertex indexes of join result 2\n",
    "    tri = [r1, r2, r3]    \n",
    "    tri.sort(reverse=True)\n",
    "    \n",
    "    return tri\n",
    "\n",
    "# convert a function to an udf and determine the return type\n",
    "# https://spark.apache.org/docs/3.1.3/api/python/reference/api/pyspark.sql.functions.udf.html\n",
    "get_tri_array_udf = udf(get_tri_array, ArrayType(IntegerType()))\n",
    "df_tri_order = df_tri_order.withColumn(\"tri\", get_tri_array_udf(df_tri_order.r1, df_tri_order.r2, df_tri_order.r3))\n",
    "'''\n",
    "\n",
    "df_tri_order = df_tri_order.withColumn(\"tri_origin\", F.array(\"r1\", \"r2\", \"r3\")).withColumn(\"tri_ele_origin\", F.array(\"r1_ele\", \"r2_ele\", \"r3_ele\"))\n",
    "df_tri_order = df_tri_order.withColumn(\"tri\", sort_array(\"tri_origin\", False)).drop(\"tri_origin\") # sort_array(\"tri\", False), False means descending order\n",
    "df_tri_order = df_tri_order.withColumn(\"tri_ele\", sort_array(\"tri_ele_origin\", False)).drop(\"tri_ele_origin\") # sort_array(\"tri\", False), False means descending order\n",
    "\n",
    "df_tri_order.printSchema()\n",
    "df_tri_order.rdd.getNumPartitions()\n",
    "#df_tri_order.show()"
   ]
  },
  {
   "cell_type": "code",
   "execution_count": 21,
   "id": "turkish-hamilton",
   "metadata": {},
   "outputs": [
    {
     "name": "stdout",
     "output_type": "stream",
     "text": [
      "Total time cost for persisting df_tri_order: 4.5299530029296875e-05\n"
     ]
    }
   ],
   "source": [
    "# unpersist df_ver_order\n",
    "# df_ver_order.unpersist()\n",
    "\n",
    "# persist df_tri_order\n",
    "\n",
    "t_persist_0 = time.time()\n",
    "\n",
    "# df_tri_order.persist(StorageLevel.DISK_ONLY)\n",
    "\n",
    "t_persist_1 = time.time()\n",
    "print(\"Total time cost for persisting df_tri_order:\", t_persist_1 - t_persist_0)"
   ]
  },
  {
   "cell_type": "code",
   "execution_count": 22,
   "id": "aggressive-panel",
   "metadata": {},
   "outputs": [
    {
     "name": "stdout",
     "output_type": "stream",
     "text": [
      "time for preparing basic data: 1.8372502326965332\n"
     ]
    }
   ],
   "source": [
    "# num_df_ver_order = df_ver_order.count()\n",
    "# print(\"number of rows in df_ver_order:\", num_df_ver_order)\n",
    "\n",
    "# num_df_tri_origin = df_tri_origin.count()\n",
    "# print(\"number of rows in df_tri_origin:\", num_df_tri_origin)\n",
    "\n",
    "t_tri_order_1 = time.time()\n",
    "\n",
    "time_basic_data = t_tri_order_1-t_tri_order_0\n",
    "print(\"time for preparing basic data:\", time_basic_data)"
   ]
  },
  {
   "cell_type": "code",
   "execution_count": 19,
   "id": "caroline-terminal",
   "metadata": {},
   "outputs": [
    {
     "name": "stdout",
     "output_type": "stream",
     "text": [
      "root\n",
      " |-- r1: integer (nullable = true)\n",
      " |-- r1_ele: float (nullable = true)\n",
      " |-- multi_r2: array (nullable = true)\n",
      " |    |-- element: integer (containsNull = true)\n",
      " |-- multi_r3: array (nullable = true)\n",
      " |    |-- element: integer (containsNull = true)\n",
      " |-- multi_tri: array (nullable = true)\n",
      " |    |-- element: array (containsNull = true)\n",
      " |    |    |-- element: integer (containsNull = true)\n",
      " |-- multi_tri_ele: array (nullable = true)\n",
      " |    |-- element: array (containsNull = true)\n",
      " |    |    |-- element: float (containsNull = true)\n",
      "\n"
     ]
    }
   ],
   "source": [
    "# groupby and collect_set\n",
    "df_tri_group1 = df_tri_order.groupBy('r1','r1_ele').agg(collect_set('r2').alias('multi_r2'),collect_set('r3').alias('multi_r3'), collect_list('tri').alias('multi_tri'), collect_list('tri_ele').alias('multi_tri_ele'))\n",
    "# df_tri_group1 = df_tri_order.groupBy('r1').agg(collect_set('r1_ele').alias('r1_ele'), collect_set('r2').alias('multi_r2'),collect_set('r3').alias('multi_r3'), collect_list('tri').alias('multi_tri'), collect_list('tri_ele').alias('multi_tri_ele'))\n",
    "df_tri_group1.printSchema()\n",
    "# df_tri_group1.show()"
   ]
  },
  {
   "cell_type": "code",
   "execution_count": 20,
   "id": "smooth-sterling",
   "metadata": {},
   "outputs": [
    {
     "name": "stdout",
     "output_type": "stream",
     "text": [
      "root\n",
      " |-- r2: integer (nullable = true)\n",
      " |-- r2_ele: float (nullable = true)\n",
      " |-- multi_r1: array (nullable = true)\n",
      " |    |-- element: integer (containsNull = true)\n",
      " |-- multi_r3: array (nullable = true)\n",
      " |    |-- element: integer (containsNull = true)\n",
      " |-- multi_tri: array (nullable = true)\n",
      " |    |-- element: array (containsNull = true)\n",
      " |    |    |-- element: integer (containsNull = true)\n",
      " |-- multi_tri_ele: array (nullable = true)\n",
      " |    |-- element: array (containsNull = true)\n",
      " |    |    |-- element: float (containsNull = true)\n",
      "\n"
     ]
    }
   ],
   "source": [
    "# groupby and collect_set\n",
    "df_tri_group2 = df_tri_order.groupBy('r2','r2_ele').agg(collect_set('r1').alias('multi_r1'),collect_set('r3').alias('multi_r3'), collect_list('tri').alias('multi_tri'), collect_list('tri_ele').alias('multi_tri_ele'))\n",
    "# df_tri_group2 = df_tri_order.groupBy('r2').agg(collect_set('r2_ele').alias('r2_ele'), collect_set('r1').alias('multi_r1'),collect_set('r3').alias('multi_r3'), collect_list('tri').alias('multi_tri'), collect_list('tri_ele').alias('multi_tri_ele'))\n",
    "df_tri_group2.printSchema()\n",
    "# df_tri_group2.show()"
   ]
  },
  {
   "cell_type": "code",
   "execution_count": 21,
   "id": "public-seminar",
   "metadata": {},
   "outputs": [
    {
     "name": "stdout",
     "output_type": "stream",
     "text": [
      "root\n",
      " |-- r3: integer (nullable = true)\n",
      " |-- r3_ele: float (nullable = true)\n",
      " |-- multi_r1: array (nullable = true)\n",
      " |    |-- element: integer (containsNull = true)\n",
      " |-- multi_r2: array (nullable = true)\n",
      " |    |-- element: integer (containsNull = true)\n",
      " |-- multi_tri: array (nullable = true)\n",
      " |    |-- element: array (containsNull = true)\n",
      " |    |    |-- element: integer (containsNull = true)\n",
      " |-- multi_tri_ele: array (nullable = true)\n",
      " |    |-- element: array (containsNull = true)\n",
      " |    |    |-- element: float (containsNull = true)\n",
      "\n"
     ]
    }
   ],
   "source": [
    "# groupby and collect_set\n",
    "df_tri_group3 = df_tri_order.groupBy('r3', 'r3_ele').agg(collect_set('r1').alias('multi_r1'),collect_set('r2').alias('multi_r2'), collect_list('tri').alias('multi_tri'), collect_list('tri_ele').alias('multi_tri_ele'))\n",
    "# df_tri_group3 = df_tri_order.groupBy('r3').agg(collect_set('r3_ele').alias('r3_ele'), collect_set('r1').alias('multi_r1'),collect_set('r2').alias('multi_r2'), collect_list('tri').alias('multi_tri'), collect_list('tri_ele').alias('multi_tri_ele'))\n",
    "df_tri_group3.printSchema()\n",
    "# df_tri_group3.show()"
   ]
  },
  {
   "cell_type": "code",
   "execution_count": 22,
   "id": "lovely-dodge",
   "metadata": {},
   "outputs": [
    {
     "name": "stdout",
     "output_type": "stream",
     "text": [
      "root\n",
      " |-- r1: integer (nullable = true)\n",
      " |-- r1_ele: float (nullable = true)\n",
      " |-- multi_r2: array (nullable = true)\n",
      " |    |-- element: integer (containsNull = true)\n",
      " |-- multi_r3: array (nullable = true)\n",
      " |    |-- element: integer (containsNull = true)\n",
      " |-- multi_tri: array (nullable = true)\n",
      " |    |-- element: array (containsNull = true)\n",
      " |    |    |-- element: integer (containsNull = true)\n",
      " |-- multi_tri_ele: array (nullable = true)\n",
      " |    |-- element: array (containsNull = true)\n",
      " |    |    |-- element: float (containsNull = true)\n",
      "\n",
      "time: 0.018166065216064453\n"
     ]
    }
   ],
   "source": [
    "# concatenate the three dataframe in rows\n",
    "t0 = time.time()\n",
    "\n",
    "union12 = df_tri_group1.union(df_tri_group2) # the title of union12 will be the same as df_sj_group1\n",
    "union123 = union12.union(df_tri_group3) # the title of union123 will be the same as union12, so as df_sj_group1\n",
    "union123.printSchema()\n",
    "# union123.show()\n",
    "\n",
    "t1 = time.time()\n",
    "print(\"time:\",t1-t0)"
   ]
  },
  {
   "cell_type": "code",
   "execution_count": 23,
   "id": "heard-tumor",
   "metadata": {},
   "outputs": [
    {
     "name": "stdout",
     "output_type": "stream",
     "text": [
      "root\n",
      " |-- r1: integer (nullable = true)\n",
      " |-- r1_ele: float (nullable = true)\n",
      " |-- multi_r2_set: array (nullable = true)\n",
      " |    |-- element: array (containsNull = true)\n",
      " |    |    |-- element: integer (containsNull = true)\n",
      " |-- multi_r3_set: array (nullable = true)\n",
      " |    |-- element: array (containsNull = true)\n",
      " |    |    |-- element: integer (containsNull = true)\n",
      " |-- multi_tri_list: array (nullable = true)\n",
      " |    |-- element: array (containsNull = true)\n",
      " |    |    |-- element: array (containsNull = true)\n",
      " |    |    |    |-- element: integer (containsNull = true)\n",
      " |-- multi_tri_ele_list: array (nullable = true)\n",
      " |    |-- element: array (containsNull = true)\n",
      " |    |    |-- element: array (containsNull = true)\n",
      " |    |    |    |-- element: float (containsNull = true)\n",
      "\n",
      "number of partitions for union123_group: 20\n",
      "time: 0.8440008163452148\n"
     ]
    }
   ],
   "source": [
    "# groupby the first index to find entire VP relation\n",
    "# collect_set and collect_list: https://sparkbyexamples.com/spark/spark-collect-list-and-collect-set-functions/\n",
    "t0 = time.time()\n",
    "\n",
    "union123_group = union123.groupBy('r1','r1_ele').agg(collect_set('multi_r2').alias('multi_r2_set'),collect_set('multi_r3').alias('multi_r3_set'), collect_list('multi_tri').alias('multi_tri_list'), collect_list('multi_tri_ele').alias('multi_tri_ele_list'))\n",
    "# union123_group = union123.groupBy('r1').agg(collect_set('r1_ele'), collect_set('multi_r2').alias('multi_r2_set'),collect_set('multi_r3').alias('multi_r3_set'), collect_list('multi_tri').alias('multi_tri_list'), collect_list('multi_tri_ele').alias('multi_tri_ele_list'))\n",
    "union123_group.printSchema()\n",
    "print(\"number of partitions for union123_group:\", union123_group.rdd.getNumPartitions())\n",
    "# union123_group.show()\n",
    "\n",
    "t1 = time.time()\n",
    "print(\"time:\",t1-t0)"
   ]
  },
  {
   "cell_type": "code",
   "execution_count": 24,
   "id": "applicable-citation",
   "metadata": {},
   "outputs": [
    {
     "name": "stdout",
     "output_type": "stream",
     "text": [
      "root\n",
      " |-- Ver: integer (nullable = true)\n",
      " |-- Ver_ele: float (nullable = true)\n",
      " |-- VV: array (nullable = true)\n",
      " |    |-- element: integer (containsNull = true)\n",
      " |-- multi_tri_list: array (nullable = true)\n",
      " |    |-- element: array (containsNull = true)\n",
      " |    |    |-- element: array (containsNull = true)\n",
      " |    |    |    |-- element: integer (containsNull = true)\n",
      " |-- multi_tri_ele_list: array (nullable = true)\n",
      " |    |-- element: array (containsNull = true)\n",
      " |    |    |-- element: array (containsNull = true)\n",
      " |    |    |    |-- element: float (containsNull = true)\n",
      "\n"
     ]
    }
   ],
   "source": [
    "# obtain VV relation\n",
    "def get_multi_pt_order(pt_list1, pt_list2):\n",
    "# get_multi_pt_index is used to obtain the adjacent vertexes index, including the vertex itself\n",
    "# pt_list1: partial adjacent vertex indexes of join result 1\n",
    "# pt_list2: partial adjacent vertex indexes of join result 2\n",
    "    pt_set = set()\n",
    "    # pt_list.append(pt_self) # if we don't calculate roughness, we don't need self vertex\n",
    "    for i in range(len(pt_list1)):\n",
    "        pt_set.update(pt_list1[i]) # update() will add multiple elements to a set, while add() only add one element to a set\n",
    "                \n",
    "    for i in range(len(pt_list2)):\n",
    "        pt_set.update(pt_list2[i])\n",
    "    \n",
    "    pt_list = sorted(pt_set) # sorted(pt_set, reverse=False), False in ascending order while True in descending order\n",
    "    \n",
    "    return pt_list # directly return a list, e.g., [0, 1, 5, 6], the length of returned column list will be 12, incluing \"[\" and empty char\n",
    "\n",
    "# convert a function to an udf and determine the return type\n",
    "# https://spark.apache.org/docs/3.1.3/api/python/reference/api/pyspark.sql.functions.udf.html\n",
    "get_multi_pt_order_udf = udf(get_multi_pt_order, ArrayType(IntegerType()))\n",
    "\n",
    "union123_group_new = union123_group.withColumn(\"multi_pts_order\", get_multi_pt_order_udf(union123_group.multi_r2_set, union123_group.multi_r3_set))\n",
    "union123_group_new = union123_group_new.select(col(\"r1\").alias(\"Ver\"), col(\"r1_ele\").alias(\"Ver_ele\"), col(\"multi_pts_order\").alias(\"VV\"), col(\"multi_tri_list\"), col(\"multi_tri_ele_list\"))\n",
    "union123_group_new.printSchema()\n",
    "\n",
    "# we can also use the built-in flatten,array_union, and then sort_array to obtain sorted VV, but it is not efficient\n",
    "# union123_group_new = union123_group.withColumn(\"multi_pts_order\", array_union(flatten(col(\"multi_r2_set\")), flatten(col(\"multi_r3_set\"))))\n",
    "# union123_group_new = union123_group_new.select(col(\"r1\").alias(\"Ver\"), col(\"r1_ele\").alias(\"Ver_ele\"), sort_array(\"multi_pts_order\", True).alias(\"VV\"), col(\"multi_tri_list\"), col(\"multi_tri_ele_list\"))"
   ]
  },
  {
   "cell_type": "code",
   "execution_count": 25,
   "id": "cubic-animal",
   "metadata": {},
   "outputs": [
    {
     "name": "stdout",
     "output_type": "stream",
     "text": [
      "root\n",
      " |-- Ver: integer (nullable = true)\n",
      " |-- Ver_ele: float (nullable = true)\n",
      " |-- VV: array (nullable = true)\n",
      " |    |-- element: integer (containsNull = true)\n",
      " |-- VT_filtra: array (nullable = true)\n",
      " |    |-- element: array (containsNull = true)\n",
      " |    |    |-- element: integer (containsNull = true)\n",
      " |-- VT_ele: array (nullable = true)\n",
      " |    |-- element: array (containsNull = true)\n",
      " |    |    |-- element: float (containsNull = true)\n",
      "\n",
      "number of partitions for df_VV_VT: 20\n"
     ]
    }
   ],
   "source": [
    "# obtain VT relation\n",
    "def get_multi_tri_order(tri_list, tri_ele_list):\n",
    "# get_multi_tri_order is used to obtain the adjacent triangles, the results are in ascending order, but the triangle itself is in descending\n",
    "# e.g., [[3, 2, 1], [5, 2, 3], [5, 3, 1]]\n",
    "# tri_list: an array of array of array of integer\n",
    "# tri_ele_list: an array of array of array of float\n",
    "\n",
    "    tri = []\n",
    "    tri_ele = []\n",
    "    # pt_list.append(pt_self) # if we don't calculate roughness, we don't need self vertex\n",
    "    for i in range(len(tri_list)):\n",
    "        for j in range(len(tri_list[i])):\n",
    "            # if tri_list[i][j] not in tri: # we do not need to check if it exists in tri_list, because we can prove that each one is unique\n",
    "            tri.append(tri_list[i][j]) # update() will add multiple elements to a set, while add() only add one element to a set   \n",
    "            tri_ele.append(tri_ele_list[i][j])\n",
    "    \n",
    "    tri_copy = copy.deepcopy(tri) # deep copy tri\n",
    "    tri.sort() # sort the list of array, e.g., tri=[[3, 2, 1], [5, 2, 3], [5, 3, 1]], after sorting, [[3, 2, 1], [5, 2, 3], [5, 3, 1]]\n",
    "    \n",
    "    tri_ele_sort = []\n",
    "    # sort tri_ele according to the same rule as tri\n",
    "    for i in range(len(tri)):\n",
    "        index_in_tri_origin = tri_copy.index(tri[i])\n",
    "        tri_ele_sort.append(tri_ele[index_in_tri_origin])\n",
    "    \n",
    "    return tri, tri_ele_sort\n",
    "\n",
    "# convert a function to an udf and determine the return type\n",
    "# https://spark.apache.org/docs/3.1.3/api/python/reference/api/pyspark.sql.functions.udf.html\n",
    "\n",
    "# StructType for get_multi_tri_order        \n",
    "get_multi_tri_order_schema = StructType([\n",
    "    StructField(\"multi_tri_sort\", ArrayType(ArrayType(IntegerType())),True), \n",
    "    StructField('multi_tri_ele_sort',ArrayType(ArrayType(FloatType())),True)\n",
    "])\n",
    "\n",
    "get_multi_tri_order_udf = udf(get_multi_tri_order, get_multi_tri_order_schema)\n",
    "\n",
    "df_VV_VT = union123_group_new.withColumn(\"multi_tri_order\", get_multi_tri_order_udf(union123_group.multi_tri_list, union123_group.multi_tri_ele_list))\n",
    "df_VV_VT = df_VV_VT.select(\"Ver\", \"Ver_ele\", \"VV\", col(\"multi_tri_order.multi_tri_sort\").alias(\"VT_filtra\"), col(\"multi_tri_order.multi_tri_ele_sort\").alias(\"VT_ele\"))\n",
    "df_VV_VT.printSchema()\n",
    "print(\"number of partitions for df_VV_VT:\", df_VV_VT.rdd.getNumPartitions())\n",
    "# df_VV_VT.show()"
   ]
  },
  {
   "cell_type": "code",
   "execution_count": 30,
   "id": "moral-antarctica",
   "metadata": {},
   "outputs": [
    {
     "name": "stdout",
     "output_type": "stream",
     "text": [
      "time for preparing VV and VT: 2.1031179428100586\n"
     ]
    }
   ],
   "source": [
    "# num_df_VV_VT = df_VV_VT.count()\n",
    "# print(\"number of rows in df_VV_VT:\", num_df_VV_VT)\n",
    "\n",
    "t_df_VV_VT = time.time()\n",
    "\n",
    "time_VV_VT = t_df_VV_VT-t_tri_order_1\n",
    "print(\"time for preparing VV and VT:\", time_VV_VT)"
   ]
  },
  {
   "cell_type": "markdown",
   "id": "three-middle",
   "metadata": {},
   "source": [
    "obtain the lower star of each vertex"
   ]
  },
  {
   "cell_type": "code",
   "execution_count": 26,
   "id": "floating-sodium",
   "metadata": {},
   "outputs": [
    {
     "name": "stdout",
     "output_type": "stream",
     "text": [
      "root\n",
      " |-- Ver: integer (nullable = true)\n",
      " |-- Ver_ele: float (nullable = true)\n",
      " |-- VV: array (nullable = true)\n",
      " |    |-- element: integer (containsNull = true)\n",
      " |-- VT_filtra: array (nullable = true)\n",
      " |    |-- element: array (containsNull = true)\n",
      " |    |    |-- element: integer (containsNull = true)\n",
      " |-- VT_ele: array (nullable = true)\n",
      " |    |-- element: array (containsNull = true)\n",
      " |    |    |-- element: float (containsNull = true)\n",
      " |-- LS_edge: array (nullable = true)\n",
      " |    |-- element: array (containsNull = true)\n",
      " |    |    |-- element: integer (containsNull = true)\n",
      "\n",
      "number of partitions for df_LS_edge: 20\n"
     ]
    }
   ],
   "source": [
    "# obtain edges of Lower Star\n",
    "def get_LS_edge(Ver, VV):\n",
    "# get_LS_edge is used to obtain the edges of LS in ascending order\n",
    "# VV: an array of VV relation in ascending order\n",
    "    LS_edge = []\n",
    "    for i in range(len(VV)):\n",
    "        if VV[i] < int(Ver):\n",
    "            LS_edge.append([int(Ver),VV[i]])\n",
    "        \n",
    "    return LS_edge\n",
    "\n",
    "# convert a function to an udf and determine the return type\n",
    "# https://spark.apache.org/docs/3.1.3/api/python/reference/api/pyspark.sql.functions.udf.html\n",
    "get_LS_edge_udf = udf(get_LS_edge, ArrayType(ArrayType(IntegerType())))\n",
    "\n",
    "df_LS_edge = df_VV_VT.withColumn(\"LS_edge\", get_LS_edge_udf(df_VV_VT.Ver, df_VV_VT.VV))\n",
    "df_LS_edge.printSchema()\n",
    "print(\"number of partitions for df_LS_edge:\", df_LS_edge.rdd.getNumPartitions())\n",
    "#df_LS_edge.show()"
   ]
  },
  {
   "cell_type": "code",
   "execution_count": 27,
   "id": "private-jefferson",
   "metadata": {},
   "outputs": [
    {
     "name": "stdout",
     "output_type": "stream",
     "text": [
      "root\n",
      " |-- Ver: integer (nullable = true)\n",
      " |-- Ver_ele: float (nullable = true)\n",
      " |-- VV: array (nullable = true)\n",
      " |    |-- element: integer (containsNull = true)\n",
      " |-- VT_filtra: array (nullable = true)\n",
      " |    |-- element: array (containsNull = true)\n",
      " |    |    |-- element: integer (containsNull = true)\n",
      " |-- VT_ele: array (nullable = true)\n",
      " |    |-- element: array (containsNull = true)\n",
      " |    |    |-- element: float (containsNull = true)\n",
      " |-- LS_edge: array (nullable = true)\n",
      " |    |-- element: array (containsNull = true)\n",
      " |    |    |-- element: integer (containsNull = true)\n",
      " |-- LS_filtra: array (nullable = true)\n",
      " |    |-- element: array (containsNull = true)\n",
      " |    |    |-- element: integer (containsNull = true)\n",
      " |-- LS_ele: array (nullable = true)\n",
      " |    |-- element: array (containsNull = true)\n",
      " |    |    |-- element: float (containsNull = true)\n",
      "\n",
      "number of partitions for df_LS_tri: 20\n"
     ]
    }
   ],
   "source": [
    "# obtain triangle of Lower Star\n",
    "def get_LS_tri(Ver, VT_filtra, VT_ele):\n",
    "# get_LS_tri is used to obtain the triangles of LS in ascending order\n",
    "# VT_filtra: an array of VT relation in ascending order\n",
    "# VT_ele: elevation of corresponding triangles\n",
    "    LS_tri = []\n",
    "    LS_tri_ele = []\n",
    "    \n",
    "    for i in range(len(VT_filtra)):\n",
    "        if Ver >= max(VT_filtra[i]): # Ver_ele is not the maximum vertex\n",
    "            LS_tri.append(VT_filtra[i])\n",
    "            LS_tri_ele.append(VT_ele[i])\n",
    "                \n",
    "    return LS_tri, LS_tri_ele\n",
    "\n",
    "# convert a function to an udf and determine the return type\n",
    "# https://spark.apache.org/docs/3.1.3/api/python/reference/api/pyspark.sql.functions.udf.html\n",
    "# StructType for get_multi_tri_order        \n",
    "get_LS_tri_schema = StructType([\n",
    "    StructField(\"LS_filtra\", ArrayType(ArrayType(IntegerType())),True), \n",
    "    StructField('LS_ele',ArrayType(ArrayType(FloatType())),True)\n",
    "])\n",
    "\n",
    "get_LS_tri_udf = udf(get_LS_tri, get_LS_tri_schema)\n",
    "\n",
    "df_LS_tri = df_LS_edge.withColumn(\"LS_tri\", get_LS_tri_udf(df_LS_edge.Ver, df_LS_edge.VT_filtra, df_LS_edge.VT_ele))\n",
    "df_LS_tri = df_LS_tri.select(\"Ver\", \"Ver_ele\", \"VV\", \"VT_filtra\", \"VT_ele\", \"LS_edge\", col(\"LS_tri.LS_filtra\").alias(\"LS_filtra\"), col(\"LS_tri.LS_ele\").alias(\"LS_ele\"))\n",
    "\n",
    "df_LS_tri.printSchema()\n",
    "print(\"number of partitions for df_LS_tri:\", df_LS_tri.rdd.getNumPartitions())\n",
    "# df_LS_tri.show()"
   ]
  },
  {
   "cell_type": "code",
   "execution_count": 33,
   "id": "tamil-stress",
   "metadata": {},
   "outputs": [
    {
     "name": "stdout",
     "output_type": "stream",
     "text": [
      "time for preparing lower star: 1.6469717025756836\n"
     ]
    }
   ],
   "source": [
    "# num_df_LS_tri = df_LS_tri.count()\n",
    "# print(\"number of rows in df_LS_tri:\", num_df_LS_tri)\n",
    "\n",
    "t_df_LS_tri = time.time()\n",
    "\n",
    "time_lower_star = t_df_LS_tri-t_df_VV_VT\n",
    "print(\"time for preparing lower star:\", time_lower_star)"
   ]
  },
  {
   "cell_type": "code",
   "execution_count": 34,
   "id": "welsh-appointment",
   "metadata": {},
   "outputs": [],
   "source": [
    "# df_LS_tri.select([count(c) for c in df_LS_tri.columns]).show()"
   ]
  },
  {
   "cell_type": "markdown",
   "id": "north-subscription",
   "metadata": {},
   "source": [
    "compute Forman Gradient"
   ]
  },
  {
   "cell_type": "code",
   "execution_count": 28,
   "id": "miniature-chocolate",
   "metadata": {},
   "outputs": [],
   "source": [
    "from collections import deque"
   ]
  },
  {
   "cell_type": "code",
   "execution_count": 29,
   "id": "removable-tourism",
   "metadata": {},
   "outputs": [],
   "source": [
    "# Forman gradient\n",
    "def get_Forman(Ver, LS_edge, LS_filtra, LS_ele):\n",
    "# get_Forman is used to compute Forman gradient\n",
    "# LS_edge is triangles of lower star in ascending order\n",
    "# LS_tri is triangles of lower star in ascending order\n",
    "    # inner udf\n",
    "    def num_unpaired_edges(tri_inner, crit_cell_inner, Forman_vec_pair_VE_inner, Forman_vec_pair_ET_inner):\n",
    "        # compute the number of unpaired edges\n",
    "        edge0 = [tri_inner[0], tri_inner[1]]\n",
    "        edge1 = [tri_inner[0], tri_inner[2]]\n",
    "        \n",
    "        num_unpaired_edge = 2\n",
    "        paired_edge = []\n",
    "        for crit_inner_temp in crit_cell_inner:\n",
    "            if len(crit_inner_temp) == 2: # crit_inner_temp is a critical edge\n",
    "                paired_edge.append(crit_inner_temp)\n",
    "                \n",
    "        for pair_vec in Forman_vec_pair_VE_inner: # pair_vec is a vector, it can be (ver, edge) or (edge, tri)\n",
    "            paired_edge.append(pair_vec[1])\n",
    "            # if type(pair_vec[0]) != int and len(pair_vec[0]) == 2: # pair_vec[0] is a paired edge, like in (edge, tri)\n",
    "                # paired_edge.append(pair_vec[0])\n",
    "            # if len(pair_vec[1]) == 2: # pair_vec[1] is a paired edge, like in (ver, edge)\n",
    "                # paired_edge.append(pair_vec[1])\n",
    "        for pair_vec in Forman_vec_pair_ET_inner: # pair_vec is a vector, it can be (ver, edge) or (edge, tri)\n",
    "            paired_edge.append(pair_vec[0])\n",
    "                \n",
    "        if edge0 in paired_edge:\n",
    "            num_unpaired_edge = num_unpaired_edge - 1\n",
    "        if edge1 in paired_edge:\n",
    "            num_unpaired_edge = num_unpaired_edge - 1\n",
    "            \n",
    "        return num_unpaired_edge\n",
    "    \n",
    "    # inner udf\n",
    "    def pair_an_edge_from_PQzero(alpha_inner, PQzero_inner):\n",
    "    # alpha_inner is a triangle in [r0, r1, r2] format, and the vertext's elevation is in descending order\n",
    "    # PQzero_inner is a queue storing all other edges\n",
    "        alpha_e0 = [alpha_inner[0], alpha_inner[1]]\n",
    "        alpha_e1 = [alpha_inner[0], alpha_inner[2]]\n",
    "        for edge_inner in PQzero_inner:\n",
    "            if edge_inner == alpha_e0:\n",
    "                return edge_inner\n",
    "            if edge_inner == alpha_e1:\n",
    "                return edge_inner\n",
    "            \n",
    "    crit_cell = [] # crit_cell will store critical simplices\n",
    "    # Forman_vec_pair = [] # Forman_vec_pair will store all Forman gradient pairs as a vector\n",
    "    Forman_vec_pair_VE = []\n",
    "    Forman_vec_pair_ET = []\n",
    "    if (len(LS_edge)+len(LS_filtra)) == 0: # ver is a local minimum\n",
    "        crit_cell.append([Ver]) # store minimum as an array [Ver] though it has only one element\n",
    "    elif len(LS_edge) > 0:\n",
    "        Forman_vec_pair_VE.append([Ver, LS_edge[0]]) # LS_edge[0] is the minimum edge since it is in ascending order\n",
    "        \n",
    "        # define two queues, PQzero storing all other edges, PQone storing all triangles which have only one unpaired edge\n",
    "        PQzero = deque()\n",
    "        PQone = deque()\n",
    "        PQone_ele = deque()\n",
    "        for i in range(1, len(LS_edge)): # add the other edges to PQzero\n",
    "            PQzero.append(LS_edge[i])\n",
    "            \n",
    "        cell_temp_index_of_remove = []\n",
    "        index_temp = 0\n",
    "        for cell_temp in LS_filtra:\n",
    "            if num_unpaired_edges(cell_temp, crit_cell, Forman_vec_pair_VE, Forman_vec_pair_ET) == 1:\n",
    "                PQone.append(cell_temp) # storing cells with one unpaired edges, which are triangles in TIN\n",
    "                PQone_ele.append(LS_ele[index_temp])\n",
    "                # remove cell_temp from LS_filtra\n",
    "                # LS_filtra.remove(cell_temp)\n",
    "                cell_temp_index_of_remove.append(index_temp)\n",
    "            index_temp += 1\n",
    "            \n",
    "        # remove cell_temp from LS_filtra and LS_ele\n",
    "        for i in reversed(cell_temp_index_of_remove):\n",
    "            del LS_filtra[i]\n",
    "            del LS_ele[i]\n",
    "                \n",
    "        # sort PQone in ascending order, the initial queue is already sorted when creating\n",
    "        # PQone = sorted(PQone) # sort() is not supported but we can use sorted()\n",
    "        # PQone = deque(PQone) # after sorting, PQone one will be a list instead of a queue, we need to reconstruct this queue\n",
    "        while len(PQone) > 0 or len(PQzero) > 0:\n",
    "            while len(PQone) > 0:\n",
    "                # alpha = PQone.popleft() # alpha is a triangle in the PQone\n",
    "                # alpha should be a triangle with lower elevation when PQone have more than one triangle\n",
    "                if len(PQone) > 1 and abs(PQone_ele[0][1]-PQone_ele[1][1]) < 0.000001 and PQone_ele[0][2] > PQone_ele[1][2]:\n",
    "                    alpha = PQone[1] # alpha is the second triangle\n",
    "                    del PQone[1]\n",
    "                    del PQone_ele[1]\n",
    "                else:\n",
    "                    alpha = PQone.popleft() # alpha is the first triangle, which is the same as alpha=PQone[0], then del PQone[0]\n",
    "                    del PQone_ele[0]\n",
    "                \n",
    "                if num_unpaired_edges(alpha, crit_cell, Forman_vec_pair_VE, Forman_vec_pair_ET) == 0:\n",
    "                    PQzero.append(alpha)\n",
    "                else:\n",
    "                    pair_alpha = pair_an_edge_from_PQzero(alpha, PQzero) # pair_alpha is an edge, [pair_alpha, alpha] will be a new paired vector\n",
    "                    # if pair_alpha in PQzero:\n",
    "                    PQzero.remove(pair_alpha) # remove pair_alpha from PQzero\n",
    "                    # Forman_vec_pair.append([pair_alpha, alpha]) # add the [pair_alpha, alpha], which is [edge, tri]\n",
    "                    Forman_vec_pair_ET.append([pair_alpha, alpha]) # add the [pair_alpha, alpha], which is [edge, tri]\n",
    "                    \n",
    "                    beta_cell_temp_index_of_remove = []\n",
    "                    beta_index_temp = 0\n",
    "                    for cell_beta in LS_filtra: # this can be optimized\n",
    "                        if cell_beta not in PQone and num_unpaired_edges(cell_beta, crit_cell, Forman_vec_pair_VE, Forman_vec_pair_ET) == 1:\n",
    "                            PQone.append(cell_beta)\n",
    "                            PQone_ele.append(LS_ele[beta_index_temp])\n",
    "                            # remove cell_beta from LS_tri\n",
    "                            # LS_tri.remove(cell_beta)\n",
    "                            beta_cell_temp_index_of_remove.append(beta_index_temp)\n",
    "                        beta_index_temp += 1\n",
    "                    \n",
    "                    # remove cell_beta from LS_filtra and LS_ele\n",
    "                    for i in reversed(beta_cell_temp_index_of_remove):\n",
    "                        del LS_filtra[i]\n",
    "                        del LS_ele[i]\n",
    "                    \n",
    "                    PQone = sorted(PQone)\n",
    "                    PQone = deque(PQone) # after sorting, PQone one will be a list instead of a queue, we need to reconstruct this queue\n",
    "            if len(PQzero) > 0:\n",
    "                gama = PQzero.popleft() # gama is a critical simplex\n",
    "                crit_cell.append(gama)\n",
    "                \n",
    "                gama_cell_temp_index_of_remove = []\n",
    "                gama_index_temp = 0\n",
    "                for cell_gama in LS_filtra: # this can be optimized\n",
    "                    if cell_gama not in PQone and num_unpaired_edges(cell_gama, crit_cell, Forman_vec_pair_VE, Forman_vec_pair_ET) == 1:\n",
    "                        PQone.append(cell_gama)\n",
    "                        PQone_ele.append(LS_ele[gama_index_temp])\n",
    "                        # remove cell_gama from LS_tri\n",
    "                        # LS_tri.remove(cell_gama)\n",
    "                        gama_cell_temp_index_of_remove.append(gama_index_temp)\n",
    "                    gama_index_temp += 1\n",
    "                    \n",
    "                # remove cell_beta from LS_filtra and LS_ele\n",
    "                for i in reversed(gama_cell_temp_index_of_remove):\n",
    "                    del LS_filtra[i]\n",
    "                    del LS_ele[i]\n",
    "                        \n",
    "                PQone = sorted(PQone)\n",
    "                PQone = deque(PQone) # after sorting, PQone one will be a list instead of a queue, we need to reconstruct this queue\n",
    "                \n",
    "    return crit_cell, Forman_vec_pair_VE, Forman_vec_pair_ET\n",
    "\n",
    "# StructType for Crit_cell        \n",
    "add_Crit_cell_schema = StructType([\n",
    "    StructField('Crit_cell',ArrayType(IntegerType()),True)\n",
    "])\n",
    "\n",
    "# StructType for VE pairs        \n",
    "add_VE_schema = StructType([\n",
    "    StructField(\"VE_pair_V\", IntegerType(),True), \n",
    "    StructField('VE_pair_E',ArrayType(IntegerType()),True)\n",
    "])\n",
    "\n",
    "# StructType for ET pairs        \n",
    "add_multi_ET_schema = StructType([\n",
    "    StructField(\"ET_pair_E\", ArrayType(IntegerType()),True), \n",
    "    StructField('ET_pair_T',ArrayType(IntegerType()),True)\n",
    "])\n",
    " \n",
    "# the whole StructType\n",
    "get_Forman_schema = StructType([\n",
    "    StructField(\"Crit_cell\", ArrayType(ArrayType(IntegerType())), True),\n",
    "    StructField(\"VE_pair\", ArrayType(add_VE_schema), True),\n",
    "    StructField(\"ET_pair\", ArrayType(add_multi_ET_schema), True)\n",
    "])\n",
    "\n",
    "# convert a function to an udf and determine the return type\n",
    "# https://spark.apache.org/docs/3.1.3/api/python/reference/api/pyspark.sql.functions.udf.html\n",
    "get_Forman_udf = udf(get_Forman, get_Forman_schema)"
   ]
  },
  {
   "cell_type": "code",
   "execution_count": 30,
   "id": "turned-carolina",
   "metadata": {},
   "outputs": [
    {
     "name": "stdout",
     "output_type": "stream",
     "text": [
      "root\n",
      " |-- Ver: integer (nullable = true)\n",
      " |-- VT_filtra: array (nullable = true)\n",
      " |    |-- element: array (containsNull = true)\n",
      " |    |    |-- element: integer (containsNull = true)\n",
      " |-- Forman: struct (nullable = true)\n",
      " |    |-- Crit_cell: array (nullable = true)\n",
      " |    |    |-- element: array (containsNull = true)\n",
      " |    |    |    |-- element: integer (containsNull = true)\n",
      " |    |-- VE_pair: array (nullable = true)\n",
      " |    |    |-- element: struct (containsNull = true)\n",
      " |    |    |    |-- VE_pair_V: integer (nullable = true)\n",
      " |    |    |    |-- VE_pair_E: array (nullable = true)\n",
      " |    |    |    |    |-- element: integer (containsNull = true)\n",
      " |    |-- ET_pair: array (nullable = true)\n",
      " |    |    |-- element: struct (containsNull = true)\n",
      " |    |    |    |-- ET_pair_E: array (nullable = true)\n",
      " |    |    |    |    |-- element: integer (containsNull = true)\n",
      " |    |    |    |-- ET_pair_T: array (nullable = true)\n",
      " |    |    |    |    |-- element: integer (containsNull = true)\n",
      "\n",
      "The number of partitions for df_Forman: 20\n"
     ]
    }
   ],
   "source": [
    "df_Forman = df_LS_tri.withColumn(\"LS_Forman\", get_Forman_udf(df_LS_tri.Ver, df_LS_tri.LS_edge, df_LS_tri.LS_filtra, df_LS_tri.LS_ele))\n",
    "df_Forman = df_Forman.select(col(\"Ver\"), col(\"VT_filtra\"), col(\"LS_Forman\").alias(\"Forman\"))\n",
    "df_Forman.printSchema()\n",
    "print(\"The number of partitions for df_Forman:\", df_Forman.rdd.getNumPartitions())\n",
    "# df_Forman.show()"
   ]
  },
  {
   "cell_type": "code",
   "execution_count": 38,
   "id": "ignored-jackson",
   "metadata": {},
   "outputs": [
    {
     "name": "stdout",
     "output_type": "stream",
     "text": [
      "time for computing Forman gradient: 0.7583119869232178\n"
     ]
    }
   ],
   "source": [
    "# num_df_Forman = df_Forman.count()\n",
    "# print(\"number of rows in df_Forman:\", num_df_Forman)\n",
    "\n",
    "t_df_Forman = time.time()\n",
    "\n",
    "time_Forman = t_df_Forman - t_df_LS_tri\n",
    "print(\"time for computing Forman gradient:\", time_Forman)"
   ]
  },
  {
   "cell_type": "code",
   "execution_count": 39,
   "id": "hollywood-sierra",
   "metadata": {},
   "outputs": [
    {
     "name": "stdout",
     "output_type": "stream",
     "text": [
      "Total time cost for persisting df_Forman: 0.5005881786346436\n"
     ]
    }
   ],
   "source": [
    "# persist df_Forman\n",
    "t_persist_0 = time.time()\n",
    "\n",
    "df_Forman.persist(StorageLevel.DISK_ONLY)\n",
    "\n",
    "t_persist_1 = time.time()\n",
    "print(\"Total time cost for persisting df_Forman:\", t_persist_1 - t_persist_0)"
   ]
  },
  {
   "cell_type": "markdown",
   "id": "baking-democracy",
   "metadata": {},
   "source": [
    "# Extract critical vertices, edeges, and triangles"
   ]
  },
  {
   "cell_type": "code",
   "execution_count": 31,
   "id": "controlling-first",
   "metadata": {},
   "outputs": [
    {
     "name": "stdout",
     "output_type": "stream",
     "text": [
      "number of partitions for df_crit: 20\n",
      "root\n",
      " |-- Ver: integer (nullable = true)\n",
      " |-- Critical: array (nullable = true)\n",
      " |    |-- element: array (containsNull = true)\n",
      " |    |    |-- element: integer (containsNull = true)\n",
      "\n"
     ]
    }
   ],
   "source": [
    "df_crit = df_Forman.select(\"Ver\", col(\"Forman.Crit_cell\").alias(\"Critical\"))\n",
    "print(\"number of partitions for df_crit:\", df_crit.rdd.getNumPartitions())\n",
    "df_crit.printSchema()\n",
    "# df_crit.show()"
   ]
  },
  {
   "cell_type": "code",
   "execution_count": 32,
   "id": "inappropriate-pepper",
   "metadata": {},
   "outputs": [
    {
     "name": "stdout",
     "output_type": "stream",
     "text": [
      "number of partitions for df_crit_VET: 20\n",
      "root\n",
      " |-- Ver: integer (nullable = true)\n",
      " |-- Critical: array (nullable = true)\n",
      " |    |-- element: array (containsNull = true)\n",
      " |    |    |-- element: integer (containsNull = true)\n",
      " |-- crit_cell: struct (nullable = true)\n",
      " |    |-- crit_ver: integer (nullable = true)\n",
      " |    |-- crit_edge: array (nullable = true)\n",
      " |    |    |-- element: array (containsNull = true)\n",
      " |    |    |    |-- element: integer (containsNull = true)\n",
      " |    |-- crit_tri: array (nullable = true)\n",
      " |    |    |-- element: array (containsNull = true)\n",
      " |    |    |    |-- element: integer (containsNull = true)\n",
      "\n"
     ]
    }
   ],
   "source": [
    "# split column Critical and obtain critical vertices, edges, and triangles\n",
    "def get_crit_VET(crit_cell):\n",
    "    if len(crit_cell) < 1: # no critical simplices\n",
    "        return\n",
    "    else:\n",
    "        crit_ver = None\n",
    "        crit_edge = []\n",
    "        crit_tri = []\n",
    "        for icrit_cell_temp in crit_cell:\n",
    "            if len(icrit_cell_temp) == 1:\n",
    "                crit_ver = icrit_cell_temp[0]\n",
    "            if len(icrit_cell_temp) == 2:\n",
    "                crit_edge.append(icrit_cell_temp)\n",
    "            if len(icrit_cell_temp) == 3:\n",
    "                crit_tri.append(icrit_cell_temp)\n",
    "        if len(crit_edge) == 0:\n",
    "            crit_edge = None\n",
    "        if len(crit_tri) == 0:\n",
    "            crit_tri = None\n",
    "        return crit_ver, crit_edge, crit_tri\n",
    "        \n",
    "# the whole StructType\n",
    "get_crit_VET_schema = StructType([\n",
    "    StructField(\"crit_ver\", IntegerType(), True),\n",
    "    StructField(\"crit_edge\", ArrayType(ArrayType(IntegerType())), True),\n",
    "    StructField(\"crit_tri\", ArrayType(ArrayType(IntegerType())), True)\n",
    "])\n",
    "\n",
    "# convert a function to an udf and determine the return type\n",
    "# https://spark.apache.org/docs/3.1.3/api/python/reference/api/pyspark.sql.functions.udf.html\n",
    "get_crit_VET_udf = udf(get_crit_VET, get_crit_VET_schema)\n",
    "\n",
    "df_crit_VET = df_crit.withColumn(\"crit_cell\", get_crit_VET_udf(df_crit.Critical))\n",
    "print(\"number of partitions for df_crit_VET:\", df_crit_VET.rdd.getNumPartitions())\n",
    "df_crit_VET.printSchema()\n",
    "# df_crit_VET.show()"
   ]
  },
  {
   "cell_type": "code",
   "execution_count": 42,
   "id": "dirty-sunday",
   "metadata": {},
   "outputs": [
    {
     "data": {
      "text/plain": [
       "'\\n# critical vertices\\ndf_crit_V = df_crit_VET.select(col(\"Ver\"), col(\"crit_cell.crit_ver\").alias(\"Min_ver\")).na.drop()\\ndf_crit_V.printSchema()\\nprint(\"number of partitions for df_crit_V:\", df_crit_V.rdd.getNumPartitions())\\n# df_crit_V.show()\\n'"
      ]
     },
     "execution_count": 42,
     "metadata": {},
     "output_type": "execute_result"
    }
   ],
   "source": [
    "'''\n",
    "# critical vertices\n",
    "df_crit_V = df_crit_VET.select(col(\"Ver\"), col(\"crit_cell.crit_ver\").alias(\"Min_ver\")).na.drop()\n",
    "df_crit_V.printSchema()\n",
    "print(\"number of partitions for df_crit_V:\", df_crit_V.rdd.getNumPartitions())\n",
    "# df_crit_V.show()\n",
    "'''"
   ]
  },
  {
   "cell_type": "code",
   "execution_count": 43,
   "id": "instructional-virus",
   "metadata": {},
   "outputs": [],
   "source": [
    "# num_crit_V = df_crit_V.count()\n",
    "# print(\"number of critical vertices:\", num_crit_V)"
   ]
  },
  {
   "cell_type": "code",
   "execution_count": 33,
   "id": "prime-serve",
   "metadata": {},
   "outputs": [
    {
     "name": "stdout",
     "output_type": "stream",
     "text": [
      "number of partitions for df_crit_E: 20\n",
      "root\n",
      " |-- Ver: integer (nullable = true)\n",
      " |-- Saddle_edge: array (nullable = true)\n",
      " |    |-- element: integer (containsNull = true)\n",
      "\n",
      "number of partitions for df_crit_E: 20\n"
     ]
    }
   ],
   "source": [
    "# critical edges\n",
    "df_crit_E_init = df_crit_VET.select(col(\"Ver\"), col(\"crit_cell.crit_edge\").alias(\"Saddle_edge_init\")).na.drop()\n",
    "\n",
    "# there may be multiple saddles inside one lower star\n",
    "df_crit_E = df_crit_E_init.select(col(\"Ver\"), explode(\"Saddle_edge_init\").alias(\"Saddle_edge\"))\n",
    "print(\"number of partitions for df_crit_E:\", df_crit_E.rdd.getNumPartitions())\n",
    "\n",
    "df_crit_E.printSchema()\n",
    "print(\"number of partitions for df_crit_E:\", df_crit_E.rdd.getNumPartitions())\n",
    "# df_crit_E.show()"
   ]
  },
  {
   "cell_type": "code",
   "execution_count": 45,
   "id": "enabling-fleet",
   "metadata": {},
   "outputs": [
    {
     "name": "stdout",
     "output_type": "stream",
     "text": [
      "Total time cost for persisting df_crit_E: 0.026323795318603516\n"
     ]
    }
   ],
   "source": [
    "# persist df_Forman\n",
    "t_persist_0 = time.time()\n",
    "\n",
    "df_crit_E.persist(StorageLevel.DISK_ONLY)\n",
    "\n",
    "t_persist_1 = time.time()\n",
    "print(\"Total time cost for persisting df_crit_E:\", t_persist_1 - t_persist_0)"
   ]
  },
  {
   "cell_type": "code",
   "execution_count": 46,
   "id": "clean-morrison",
   "metadata": {},
   "outputs": [],
   "source": [
    "# num_crit_E = df_crit_E.count()\n",
    "# print(\"number of critical edges:\", num_crit_E)"
   ]
  },
  {
   "cell_type": "code",
   "execution_count": 47,
   "id": "compliant-runner",
   "metadata": {},
   "outputs": [
    {
     "data": {
      "text/plain": [
       "'\\n# critical triangles\\ndf_crit_T_init = df_crit_VET.select(col(\"Ver\"), col(\"crit_cell.crit_tri\").alias(\"Max_tri_init\")).na.drop()\\n\\n# critical triangles\\ndf_crit_T = df_crit_T_init.select(col(\"Ver\"), explode(\"Max_tri_init\").alias(\"Max_tri\")).na.drop()\\nprint(\"number of partitions for df_crit_T:\", df_crit_T.rdd.getNumPartitions())\\ndf_crit_T.printSchema()\\n# df_crit_T.show()\\n'"
      ]
     },
     "execution_count": 47,
     "metadata": {},
     "output_type": "execute_result"
    }
   ],
   "source": [
    "'''\n",
    "# critical triangles\n",
    "df_crit_T_init = df_crit_VET.select(col(\"Ver\"), col(\"crit_cell.crit_tri\").alias(\"Max_tri_init\")).na.drop()\n",
    "\n",
    "# critical triangles\n",
    "df_crit_T = df_crit_T_init.select(col(\"Ver\"), explode(\"Max_tri_init\").alias(\"Max_tri\")).na.drop()\n",
    "print(\"number of partitions for df_crit_T:\", df_crit_T.rdd.getNumPartitions())\n",
    "df_crit_T.printSchema()\n",
    "# df_crit_T.show()\n",
    "'''"
   ]
  },
  {
   "cell_type": "code",
   "execution_count": 48,
   "id": "found-robin",
   "metadata": {},
   "outputs": [],
   "source": [
    "# num_crit_T = df_crit_T.count()\n",
    "# print(\"number of critical triangles:\", num_crit_T)"
   ]
  },
  {
   "cell_type": "markdown",
   "id": "protecting-client",
   "metadata": {},
   "source": [
    "# Methods to build Graph_ET"
   ]
  },
  {
   "cell_type": "markdown",
   "id": "false-acrylic",
   "metadata": {},
   "source": [
    "### prepare nodes of a graph"
   ]
  },
  {
   "cell_type": "code",
   "execution_count": 34,
   "id": "aggressive-refund",
   "metadata": {},
   "outputs": [
    {
     "name": "stdout",
     "output_type": "stream",
     "text": [
      "root\n",
      " |-- tri_order: integer (nullable = true)\n",
      " |-- tri: array (nullable = false)\n",
      " |    |-- element: integer (containsNull = true)\n",
      "\n"
     ]
    }
   ],
   "source": [
    "# all triangles are nodes of graph V2\n",
    "df_graph_V2_node = df_tri_order.select(col(\"tri_order\"), col(\"tri\"))\n",
    "df_graph_V2_node.printSchema()\n",
    "#df_graph_V2_node.show()"
   ]
  },
  {
   "cell_type": "code",
   "execution_count": 35,
   "id": "cleared-soundtrack",
   "metadata": {},
   "outputs": [
    {
     "name": "stdout",
     "output_type": "stream",
     "text": [
      "root\n",
      " |-- tri_order: integer (nullable = true)\n",
      " |-- tri: array (nullable = true)\n",
      " |    |-- element: integer (containsNull = true)\n",
      "\n"
     ]
    }
   ],
   "source": [
    "# add a special triangle [-1, -1, -1] as node -1\n",
    "# this can be achieved by unioning two DataFrames\n",
    "# columns_special = ['tri', 'V2_node']\n",
    "value_special = [(-1, [-1, -1, -1])]\n",
    "schema_special = StructType([\n",
    "    StructField('tri_order', IntegerType(),True),\n",
    "    StructField(\"tri\", ArrayType(IntegerType()),True)    \n",
    "])\n",
    "df_special_V2_node = spark.createDataFrame(value_special, schema_special)\n",
    "df_special_V2_node.printSchema()\n",
    "#df_special_V2_node.show()"
   ]
  },
  {
   "cell_type": "markdown",
   "id": "metric-johns",
   "metadata": {},
   "source": [
    "### nodes of a graph"
   ]
  },
  {
   "cell_type": "code",
   "execution_count": 36,
   "id": "rental-screening",
   "metadata": {},
   "outputs": [
    {
     "name": "stdout",
     "output_type": "stream",
     "text": [
      "root\n",
      " |-- id: integer (nullable = true)\n",
      "\n"
     ]
    }
   ],
   "source": [
    "df_graph_V2_node = df_graph_V2_node.union(df_special_V2_node)\n",
    "df_graph_V2_node_final = df_graph_V2_node.select(col(\"tri_order\").alias(\"id\"))\n",
    "df_graph_V2_node_final.printSchema()\n",
    "#df_graph_V2_node_final.show()"
   ]
  },
  {
   "cell_type": "markdown",
   "id": "grave-blake",
   "metadata": {},
   "source": [
    "### prepare arcs of a graph"
   ]
  },
  {
   "cell_type": "code",
   "execution_count": 37,
   "id": "dominican-collapse",
   "metadata": {},
   "outputs": [
    {
     "name": "stdout",
     "output_type": "stream",
     "text": [
      "root\n",
      " |-- Ver: integer (nullable = true)\n",
      " |-- VT_filtra: array (nullable = true)\n",
      " |    |-- element: array (containsNull = true)\n",
      " |    |    |-- element: integer (containsNull = true)\n",
      " |-- ET_pair: array (nullable = true)\n",
      " |    |-- element: struct (containsNull = true)\n",
      " |    |    |-- ET_pair_E: array (nullable = true)\n",
      " |    |    |    |-- element: integer (containsNull = true)\n",
      " |    |    |-- ET_pair_T: array (nullable = true)\n",
      " |    |    |    |-- element: integer (containsNull = true)\n",
      "\n"
     ]
    }
   ],
   "source": [
    "# Method 2: firstly extract df_Forman_ET_pair from df_Forman\n",
    "df_Forman_ET_pair = df_Forman.select(col(\"Ver\"), col(\"VT_filtra\"), col(\"Forman.ET_pair\").alias(\"ET_pair\"))\n",
    "df_Forman_ET_pair.printSchema()\n",
    "# df_Forman_ET_pair.show()"
   ]
  },
  {
   "cell_type": "code",
   "execution_count": 38,
   "id": "legitimate-pipeline",
   "metadata": {},
   "outputs": [
    {
     "name": "stdout",
     "output_type": "stream",
     "text": [
      "root\n",
      " |-- Ver: integer (nullable = true)\n",
      " |-- ET_pair_inTri: array (nullable = true)\n",
      " |    |-- element: struct (containsNull = true)\n",
      " |    |    |-- ET_pair_co_t: array (nullable = true)\n",
      " |    |    |    |-- element: integer (containsNull = true)\n",
      " |    |    |-- ET_pair_t: array (nullable = true)\n",
      " |    |    |    |-- element: integer (containsNull = true)\n",
      "\n"
     ]
    }
   ],
   "source": [
    "# retrieve co-boundary triangles\n",
    "def get_co_tri(VT, ET_pair):\n",
    "    if len(ET_pair) > 0:\n",
    "        co_tri_pair = []\n",
    "        num_ET_pair = len(ET_pair) # obtain the number of ET_pairs\n",
    "        def Co_tri(e,t,vt):\n",
    "            # e is sorted\n",
    "            for t_temp in vt:\n",
    "                # e0 = sorted([vt[0], vt[1]], reverse=True) # sort the edge in descending order\n",
    "                e0 = [t_temp[0], t_temp[1]] # e0, e1, and e2 are in descending order by default\n",
    "                e1 = [t_temp[0], t_temp[2]]\n",
    "                e2 = [t_temp[1], t_temp[2]]\n",
    "                t = [int(t[0]), int(t[1]), int(t[2])]\n",
    "                t_temp = [int(t_temp[0]), int(t_temp[1]), int(t_temp[2])]\n",
    "                # if e==e0 or e==e1 or e==e2 and t != t_temp:\n",
    "                if e==e0 or e==e1 or e==e2:\n",
    "                    if t != t_temp:\n",
    "                        return t_temp # t_temp is a coboundary triangle of t in vt\n",
    "                \n",
    "        for i in range(num_ET_pair):\n",
    "            ET_pair_e = ET_pair[i]['ET_pair_E'] # the i-th ET_pair\n",
    "            ET_pair_t = ET_pair[i]['ET_pair_T']\n",
    "            ET_pair_co_t = Co_tri(ET_pair_e, ET_pair_t, VT)\n",
    "            if ET_pair_co_t is None: # len(ET_pair_co_t) is empty, boundary triangles\n",
    "                ET_pair_co_t = [-1, -1, -1]\n",
    "            co_tri_pair.append([ET_pair_co_t, ET_pair_t])\n",
    "            \n",
    "        return co_tri_pair\n",
    "    \n",
    "# the whole StructType\n",
    "get_co_tri_schema = StructType([\n",
    "    StructField(\"ET_pair_co_t\", ArrayType(IntegerType()), True),\n",
    "    StructField(\"ET_pair_t\", ArrayType(IntegerType()), True)\n",
    "])\n",
    "\n",
    "# convert a function to an udf and determine the return type\n",
    "# https://spark.apache.org/docs/3.1.3/api/python/reference/api/pyspark.sql.functions.udf.html\n",
    "get_co_tri_udf = udf(get_co_tri, ArrayType(get_co_tri_schema))\n",
    "\n",
    "df_Forman_V2_edge = df_Forman_ET_pair.withColumn(\"ET_pair_inTri\", get_co_tri_udf(df_Forman_ET_pair.VT_filtra, df_Forman_ET_pair.ET_pair))\n",
    "df_Forman_V2_edge = df_Forman_V2_edge.select(col(\"Ver\"), col(\"ET_pair_inTri\"))\n",
    "df_Forman_V2_edge.printSchema()\n",
    "# df_Forman_V2_edge.show()"
   ]
  },
  {
   "cell_type": "markdown",
   "id": "convenient-cheese",
   "metadata": {},
   "source": [
    "### construct Graph_ET reversely, set src nodes as dst nodes, and dst nodes as src nodes"
   ]
  },
  {
   "cell_type": "code",
   "execution_count": 39,
   "id": "studied-shooting",
   "metadata": {},
   "outputs": [
    {
     "name": "stdout",
     "output_type": "stream",
     "text": [
      "root\n",
      " |-- arc_dst: array (nullable = true)\n",
      " |    |-- element: integer (containsNull = true)\n",
      " |-- arc_src: array (nullable = true)\n",
      " |    |-- element: integer (containsNull = true)\n",
      "\n"
     ]
    }
   ],
   "source": [
    "# explode df_Forman_V2_edge\n",
    "df_Forman_V2_edge_split = df_Forman_V2_edge.select(explode(df_Forman_V2_edge.ET_pair_inTri).alias(\"ET_pair_src_dst\"))\n",
    "\n",
    "df_Forman_V2_edge_split = df_Forman_V2_edge_split.select(col(\"ET_pair_src_dst.ET_pair_co_t\").alias(\"arc_dst\"), col(\"ET_pair_src_dst.ET_pair_t\").alias(\"arc_src\")).na.drop()\n",
    "df_Forman_V2_edge_split.printSchema()\n",
    "# df_Forman_V2_edge_split.show()"
   ]
  },
  {
   "cell_type": "code",
   "execution_count": 40,
   "id": "important-election",
   "metadata": {},
   "outputs": [
    {
     "name": "stdout",
     "output_type": "stream",
     "text": [
      "root\n",
      " |-- arc_dst: array (nullable = true)\n",
      " |    |-- element: integer (containsNull = true)\n",
      " |-- src: integer (nullable = true)\n",
      "\n"
     ]
    }
   ],
   "source": [
    "# join two DataFrames by df_Forman_V2_edge_split.arc_src == df_Forman_V2_edge_split.arc_des\n",
    "# https://sparkbyexamples.com/pyspark/pyspark-join-explained-with-examples/\n",
    "df_Forman_V2_edge_split_src = df_Forman_V2_edge_split.join(df_graph_V2_node, df_Forman_V2_edge_split.arc_src == df_graph_V2_node.tri, \"left\")\n",
    "df_Forman_V2_edge_split_src = df_Forman_V2_edge_split_src.select(col(\"arc_dst\"), col(\"tri_order\").alias(\"src\"))\n",
    "df_Forman_V2_edge_split_src.printSchema()\n",
    "#df_Forman_V2_edge_split_src.show()"
   ]
  },
  {
   "cell_type": "code",
   "execution_count": 41,
   "id": "existing-child",
   "metadata": {},
   "outputs": [],
   "source": [
    "# join two DataFrames by df_Forman_V2_edge_split.arc_src == df_Forman_V2_edge_split.arc_des\n",
    "# https://sparkbyexamples.com/pyspark/pyspark-join-explained-with-examples/\n",
    "df_Forman_V2_edge_split_dst = df_Forman_V2_edge_split_src.join(df_graph_V2_node, df_Forman_V2_edge_split_src.arc_dst == df_graph_V2_node.tri, \"left\")\n",
    "df_Forman_V2_edge_split_dst = df_Forman_V2_edge_split_dst.select(col(\"src\"), col(\"tri_order\").alias(\"dst\"))\n",
    "# df_Forman_V2_edge_split_dst.printSchema()"
   ]
  },
  {
   "cell_type": "markdown",
   "id": "through-morocco",
   "metadata": {},
   "source": [
    "### arcs of Graph_ET"
   ]
  },
  {
   "cell_type": "code",
   "execution_count": 42,
   "id": "productive-battery",
   "metadata": {},
   "outputs": [
    {
     "name": "stdout",
     "output_type": "stream",
     "text": [
      "root\n",
      " |-- src: integer (nullable = true)\n",
      " |-- dst: integer (nullable = true)\n",
      "\n"
     ]
    }
   ],
   "source": [
    "df_graph_V2_edge_final = df_Forman_V2_edge_split_dst\n",
    "df_graph_V2_edge_final.printSchema()\n",
    "# df_graph_V2_edge_final.show()"
   ]
  },
  {
   "cell_type": "code",
   "execution_count": 43,
   "id": "continuing-agent",
   "metadata": {},
   "outputs": [
    {
     "name": "stdout",
     "output_type": "stream",
     "text": [
      "Total time cost for persisting DataFrames: 3.0279159545898438e-05\n"
     ]
    }
   ],
   "source": [
    "t_persist_0 = time.time()\n",
    "\n",
    "# df_graph_V2_node_final.persist(StorageLevel.MEMORY_ONLY_SER)\n",
    "# df_graph_V2_edge_final.persist(StorageLevel.MEMORY_ONLY_SER)\n",
    "\n",
    "t_persist_1 = time.time()\n",
    "print(\"Total time cost for persisting DataFrames:\", t_persist_1 - t_persist_0)"
   ]
  },
  {
   "cell_type": "code",
   "execution_count": 59,
   "id": "plain-minimum",
   "metadata": {},
   "outputs": [],
   "source": [
    "# save df_VET_graph_node\n",
    "# t_save_nodes_0 = time.time()\n",
    "# file_df_graph_V2_node_final_hdfs = 'SigSpatial_data' + '/' + tin_filename + '_graph_V2_node_final.parquet'\n",
    "# \n",
    "# df_graph_V2_node_final.write.mode('overwrite').options(header='False', delimiter=',').parquet(file_df_graph_V2_node_final_hdfs)\n",
    "# \n",
    "# t_save_nodes_1 = time.time()\n",
    "# print(\"Time cost for saving df_graph_V2_node_final to a parquet file:\", t_save_nodes_1-t_save_nodes_0)"
   ]
  },
  {
   "cell_type": "code",
   "execution_count": 60,
   "id": "finished-broadway",
   "metadata": {},
   "outputs": [
    {
     "name": "stdout",
     "output_type": "stream",
     "text": [
      "Time cost for saving df_graph_V2_edge_final to a parquet file: 3247.950574874878\n"
     ]
    }
   ],
   "source": [
    "# save df_VET_graph_node\n",
    "# t_save_edges_0 = time.time()\n",
    "# file_df_graph_V2_edge_final_hdfs = 'SigSpatial_data' + '/' + tin_filename + '_graph_V2_edge_final.parquet'\n",
    "# \n",
    "# df_graph_V2_edge_final.write.mode('overwrite').options(header='False', delimiter=',').parquet(file_df_graph_V2_edge_final_hdfs)\n",
    "# \n",
    "# t_save_edges_1 = time.time()\n",
    "# print(\"Time cost for saving df_graph_V2_edge_final to a parquet file:\", t_save_edges_1-t_save_edges_0)"
   ]
  },
  {
   "cell_type": "code",
   "execution_count": 61,
   "id": "introductory-court",
   "metadata": {},
   "outputs": [
    {
     "ename": "AssertionError",
     "evalue": "",
     "output_type": "error",
     "traceback": [
      "\u001b[0;31m---------------------------------------------------------------------------\u001b[0m",
      "\u001b[0;31mAssertionError\u001b[0m                            Traceback (most recent call last)",
      "\u001b[0;32m<ipython-input-61-85e2cf2b7c0d>\u001b[0m in \u001b[0;36m<module>\u001b[0;34m\u001b[0m\n\u001b[0;32m----> 1\u001b[0;31m \u001b[0;32massert\u001b[0m\u001b[0;34m(\u001b[0m\u001b[0;36m0\u001b[0m \u001b[0;34m==\u001b[0m \u001b[0;36m1\u001b[0m\u001b[0;34m)\u001b[0m\u001b[0;34m\u001b[0m\u001b[0;34m\u001b[0m\u001b[0m\n\u001b[0m",
      "\u001b[0;31mAssertionError\u001b[0m: "
     ]
    }
   ],
   "source": [
    "assert(0 == 1)"
   ]
  },
  {
   "cell_type": "markdown",
   "id": "affecting-world",
   "metadata": {},
   "source": [
    "### Construct a Graph_ET"
   ]
  },
  {
   "cell_type": "code",
   "execution_count": 43,
   "id": "progressive-banner",
   "metadata": {},
   "outputs": [
    {
     "name": "stdout",
     "output_type": "stream",
     "text": [
      "type of graph_V2: <class 'graphframes.graphframe.GraphFrame'>\n"
     ]
    }
   ],
   "source": [
    "graph_ET = GraphFrame(df_graph_V2_node_final, df_graph_V2_edge_final)\n",
    "\n",
    "print(\"type of graph_V2:\", type(graph_ET))"
   ]
  },
  {
   "cell_type": "code",
   "execution_count": 44,
   "id": "secure-christmas",
   "metadata": {},
   "outputs": [],
   "source": [
    "# set a checkpoint directory to improve performance\n",
    "# Checkpointing regularly helps recover from failures, clean shuffle files, shorten the\n",
    "# lineage of the computation graph, and reduce the complexity of plan optimization.\n",
    "\n",
    "spark.sparkContext.setCheckpointDir('checkpoints')"
   ]
  },
  {
   "cell_type": "code",
   "execution_count": 45,
   "id": "golden-hybrid",
   "metadata": {},
   "outputs": [
    {
     "name": "stdout",
     "output_type": "stream",
     "text": [
      "root\n",
      " |-- id: integer (nullable = true)\n",
      " |-- component: long (nullable = true)\n",
      "\n",
      "time cost of connected components: 32.480376958847046\n"
     ]
    }
   ],
   "source": [
    "t_con_0 = time.time()\n",
    "# result_con consists of two columns, vertex id, component\n",
    "result_con = graph_ET.connectedComponents()\n",
    "result_con.printSchema()\n",
    "\n",
    "t_con_1 = time.time()\n",
    "t_con = t_con_1 - t_con_0\n",
    "print(\"time cost of connected components:\",t_con)"
   ]
  },
  {
   "cell_type": "code",
   "execution_count": null,
   "id": "chief-freeze",
   "metadata": {},
   "outputs": [],
   "source": [
    "# count the number of distinct connected components\n",
    "# result_con_dist = result_con.dropDuplicates(['component'])\n",
    "# num_connected = result_con_dist.count()\n",
    "# print(\"number of distinct connected components:\", num_connected)"
   ]
  },
  {
   "cell_type": "code",
   "execution_count": null,
   "id": "least-empty",
   "metadata": {},
   "outputs": [],
   "source": [
    "t_persist_result_con_0 = time.time()\n",
    "\n",
    "# result_con.persist(StorageLevel.MEMORY_ONLY_SER)\n",
    "\n",
    "t_persist_result_con_1 = time.time()\n",
    "print(\"Total time cost for persisting result_con:\", t_persist_result_con_1 - t_persist_result_con_0)"
   ]
  },
  {
   "cell_type": "code",
   "execution_count": null,
   "id": "acting-financing",
   "metadata": {},
   "outputs": [],
   "source": [
    "'''\n",
    "# save result_con\n",
    "t0 = time.time()\n",
    "file_result_con_hdfs = 'SigSpatial_data' + '/' + tin_filename + '_result_con.parquet'\n",
    "\n",
    "result_con.write.mode('overwrite').options(header='False', delimiter=',').parquet(file_result_con_hdfs)\n",
    "\n",
    "t1 = time.time()\n",
    "print(\"Time cost for saving result_con to a csv file:\", t1-t0)\n",
    "'''"
   ]
  },
  {
   "cell_type": "markdown",
   "id": "national-surgeon",
   "metadata": {},
   "source": [
    "### 1) left join result_con with saddles tri to identify the component that each saddles tri belongs to"
   ]
  },
  {
   "cell_type": "code",
   "execution_count": 46,
   "id": "tested-afghanistan",
   "metadata": {},
   "outputs": [],
   "source": [
    "df_VT = df_VV_VT.select('Ver', 'VT_filtra')\n",
    "\n",
    "# df_VT.persist(StorageLevel.DISK_ONLY)"
   ]
  },
  {
   "cell_type": "code",
   "execution_count": 47,
   "id": "increasing-aspect",
   "metadata": {},
   "outputs": [
    {
     "name": "stdout",
     "output_type": "stream",
     "text": [
      "root\n",
      " |-- Ver: integer (nullable = true)\n",
      " |-- Saddle_edge: array (nullable = true)\n",
      " |    |-- element: integer (containsNull = true)\n",
      " |-- VT_filtra: array (nullable = true)\n",
      " |    |-- element: array (containsNull = true)\n",
      " |    |    |-- element: integer (containsNull = true)\n",
      "\n"
     ]
    }
   ],
   "source": [
    "# join two DataFrames to obatin VE relation\n",
    "# https://sparkbyexamples.com/pyspark/pyspark-join-explained-with-examples/\n",
    "df_crit_E_VT = df_crit_E.join(df_VT, df_crit_E.Ver == df_VT.Ver, \"left\")\n",
    "df_crit_E_VT = df_crit_E_VT.select(df_crit_E.Ver, \"Saddle_edge\", \"VT_filtra\")\n",
    "df_crit_E_VT.printSchema()\n",
    "# df_crit_E_VT.show()"
   ]
  },
  {
   "cell_type": "code",
   "execution_count": 48,
   "id": "fantastic-meter",
   "metadata": {},
   "outputs": [
    {
     "name": "stdout",
     "output_type": "stream",
     "text": [
      "root\n",
      " |-- saddle_edge_Tri: array (nullable = true)\n",
      " |    |-- element: array (containsNull = true)\n",
      " |    |    |-- element: integer (containsNull = true)\n",
      "\n"
     ]
    }
   ],
   "source": [
    "# retrieve co-boundary triangles\n",
    "def get_saddle_edge_tri(Saddle_edge, VT):\n",
    "    if len(VT) > 0:\n",
    "        e = Saddle_edge\n",
    "        tri_12 = []\n",
    "        num_VT = len(VT) # obtain the number of ET_pairs\n",
    "        for t_temp in VT:\n",
    "            e0 = [t_temp[0], t_temp[1]] # e0, e1, and e2 are in descending order by default\n",
    "            e1 = [t_temp[0], t_temp[2]]\n",
    "            e2 = [t_temp[1], t_temp[2]]\n",
    "            if e==e0 or e==e1 or e==e2:\n",
    "                tri_12.append(t_temp)\n",
    "            # if len(tri_12) == 2: # Maybe this triangle is at the boundary, so it has only one corresponding triangle in VT\n",
    "                # break\n",
    "        \n",
    "        if len(tri_12) == 1:\n",
    "            t_special = [-1,-1,-1]\n",
    "            tri_12.append(t_special)\n",
    "        \n",
    "            \n",
    "        return tri_12\n",
    "    \n",
    "# the whole StructType\n",
    "get_saddle_edge_tri_schema = StructType([\n",
    "    StructField(\"Saddle_edge_t1\", ArrayType(IntegerType()), True),\n",
    "    StructField(\"Saddle_edge_t2\", ArrayType(IntegerType()), True)\n",
    "])\n",
    "\n",
    "# convert a function to an udf and determine the return type\n",
    "# https://spark.apache.org/docs/3.1.3/api/python/reference/api/pyspark.sql.functions.udf.html\n",
    "get_saddle_edge_tri_udf = udf(get_saddle_edge_tri, ArrayType(ArrayType(IntegerType())))\n",
    "\n",
    "df_crit_E_tri = df_crit_E_VT.withColumn(\"saddle_edge_Tri\", get_saddle_edge_tri_udf(df_crit_E_VT.Saddle_edge, df_crit_E_VT.VT_filtra))\n",
    "df_crit_E_tri = df_crit_E_tri.select(col(\"saddle_edge_Tri\"))\n",
    "df_crit_E_tri.printSchema()\n",
    "# df_crit_E_tri.show()"
   ]
  },
  {
   "cell_type": "code",
   "execution_count": 49,
   "id": "minus-colon",
   "metadata": {},
   "outputs": [
    {
     "name": "stdout",
     "output_type": "stream",
     "text": [
      "root\n",
      " |-- saddle_edge_Tri_split: array (nullable = true)\n",
      " |    |-- element: integer (containsNull = true)\n",
      "\n"
     ]
    }
   ],
   "source": [
    "# obtain the saddle tri\n",
    "df_crit_E2tri = df_crit_E_tri.select(explode(\"saddle_edge_Tri\").alias(\"saddle_edge_Tri_split\"))\n",
    "# some nodes may belong to multiple saddles, we need to remove them\n",
    "df_crit_E2tri = df_crit_E2tri.distinct()\n",
    "df_crit_E2tri.printSchema()"
   ]
  },
  {
   "cell_type": "code",
   "execution_count": 50,
   "id": "finished-flour",
   "metadata": {},
   "outputs": [
    {
     "name": "stdout",
     "output_type": "stream",
     "text": [
      "root\n",
      " |-- saddle_edge_Tri_split_id: integer (nullable = true)\n",
      "\n"
     ]
    }
   ],
   "source": [
    "# left join df_crit_E2tri with df_graph_V2_node to obtain corresponding id of tri\n",
    "df_crit_E2tri = df_crit_E2tri.join(df_graph_V2_node, df_crit_E2tri.saddle_edge_Tri_split == df_graph_V2_node.tri, \"left\")\n",
    "df_crit_E2tri = df_crit_E2tri.select(col('tri_order').alias('saddle_edge_Tri_split_id'))\n",
    "df_crit_E2tri.printSchema()"
   ]
  },
  {
   "cell_type": "code",
   "execution_count": null,
   "id": "charged-ferry",
   "metadata": {},
   "outputs": [],
   "source": [
    "'''\n",
    "# save df_crit_E2tri\n",
    "t0 = time.time()\n",
    "file_df_crit_E2tri_hdfs = 'SigSpatial_data' + '/' + tin_filename + '_crit_E2tri.parquet'\n",
    "\n",
    "df_crit_E2tri.write.mode('overwrite').options(header='False', delimiter=',').parquet(file_df_crit_E2tri_hdfs)\n",
    "\n",
    "t1 = time.time()\n",
    "print(\"Time cost for saving df_crit_E2tri to a csv file:\", t1-t0)\n",
    "'''"
   ]
  },
  {
   "cell_type": "code",
   "execution_count": 51,
   "id": "international-house",
   "metadata": {},
   "outputs": [
    {
     "name": "stdout",
     "output_type": "stream",
     "text": [
      "number of partitions for result_con_saddle: 20\n",
      "root\n",
      " |-- id: integer (nullable = true)\n",
      " |-- component: long (nullable = true)\n",
      " |-- saddle_edge_Tri_split_id: integer (nullable = true)\n",
      "\n"
     ]
    }
   ],
   "source": [
    "# identify the saddle tri that each component have\n",
    "result_con_saddle = result_con.join(df_crit_E2tri,result_con.id==df_crit_E2tri.saddle_edge_Tri_split_id, \"inner\")\n",
    "\n",
    "print(\"number of partitions for result_con_saddle:\", result_con_saddle.rdd.getNumPartitions())\n",
    "result_con_saddle.printSchema()\n",
    "# result_con_saddle.show(30)"
   ]
  },
  {
   "cell_type": "code",
   "execution_count": 52,
   "id": "selected-truth",
   "metadata": {},
   "outputs": [
    {
     "name": "stdout",
     "output_type": "stream",
     "text": [
      "root\n",
      " |-- component: long (nullable = true)\n",
      " |-- multi_SdlTris: array (nullable = true)\n",
      " |    |-- element: integer (containsNull = true)\n",
      "\n"
     ]
    }
   ],
   "source": [
    "# obtain all saddle tris for each connected component\n",
    "unique_SdlTris_per_con = result_con_saddle.groupBy('component').agg(collect_list('id').alias('multi_SdlTris'))\n",
    "unique_SdlTris_per_con.printSchema()"
   ]
  },
  {
   "cell_type": "code",
   "execution_count": null,
   "id": "protective-astronomy",
   "metadata": {},
   "outputs": [],
   "source": [
    "t_persist_unique_SdlTris_per_con_0 = time.time()\n",
    "\n",
    "# unique_SdlTris_per_con.persist(StorageLevel.MEMORY_ONLY)\n",
    "\n",
    "t_persist_unique_SdlTris_per_con_1 = time.time()\n",
    "print(\"Total time cost for persisting unique_SdlTris_per_con:\", t_persist_unique_SdlTris_per_con_1 - t_persist_unique_SdlTris_per_con_0)"
   ]
  },
  {
   "cell_type": "markdown",
   "id": "rough-central",
   "metadata": {},
   "source": [
    "### 2) left join df_graph_V2_edge_final with result_con to identify the connected component that each arc belongs to"
   ]
  },
  {
   "cell_type": "code",
   "execution_count": 53,
   "id": "confirmed-variation",
   "metadata": {},
   "outputs": [
    {
     "name": "stdout",
     "output_type": "stream",
     "text": [
      "root\n",
      " |-- src: integer (nullable = true)\n",
      " |-- dst: integer (nullable = true)\n",
      " |-- component: long (nullable = true)\n",
      "\n"
     ]
    }
   ],
   "source": [
    "# left join df_graph_V1_arc with result_con to identify which component that each arc belongs to\n",
    "df_G_V2_arc_component = df_graph_V2_edge_final.join(result_con,df_graph_V2_edge_final.src==result_con.id, \"left\").drop('id')\n",
    "df_G_V2_arc_component.printSchema()"
   ]
  },
  {
   "cell_type": "code",
   "execution_count": null,
   "id": "furnished-cooperative",
   "metadata": {},
   "outputs": [],
   "source": [
    "'''\n",
    "df_G_V2_arc_component_col = df_G_V2_arc_component.collect()\n",
    "\n",
    "num_None_src = 0\n",
    "num_None_dst = 0\n",
    "num_neg1_src = 0\n",
    "num_neg1_dst = 0\n",
    "for i in range(len(df_G_V2_arc_component_col)):\n",
    "    if df_G_V2_arc_component_col[i][0] == None:\n",
    "        num_None_src += 1\n",
    "    if df_G_V2_arc_component_col[i][1] == None:\n",
    "        num_None_dst += 1\n",
    "        \n",
    "    if df_G_V2_arc_component_col[i][0] == -1:\n",
    "        num_neg1_src += 1\n",
    "    if df_G_V2_arc_component_col[i][1] == -1:\n",
    "        num_neg1_dst += 1\n",
    "        \n",
    "print(\"num_None_src:\",num_None_src)\n",
    "print(\"num_None_dst:\",num_None_dst)\n",
    "print(\"num_neg1_src:\",num_neg1_src)\n",
    "print(\"num_neg1_dst:\",num_neg1_dst)\n",
    "'''"
   ]
  },
  {
   "cell_type": "markdown",
   "id": "isolated-spread",
   "metadata": {},
   "source": [
    "### create a dictionary for each connected component"
   ]
  },
  {
   "cell_type": "code",
   "execution_count": 54,
   "id": "average-career",
   "metadata": {},
   "outputs": [],
   "source": [
    "from pyspark.sql.functions import create_map"
   ]
  },
  {
   "cell_type": "code",
   "execution_count": 55,
   "id": "mineral-church",
   "metadata": {},
   "outputs": [
    {
     "name": "stdout",
     "output_type": "stream",
     "text": [
      "root\n",
      " |-- component: long (nullable = true)\n",
      " |-- multi_SdlTris: array (nullable = true)\n",
      " |    |-- element: integer (containsNull = true)\n",
      " |-- subgraphs: array (nullable = true)\n",
      " |    |-- element: map (containsNull = true)\n",
      " |    |    |-- key: integer\n",
      " |    |    |-- value: integer (valueContainsNull = true)\n",
      "\n"
     ]
    }
   ],
   "source": [
    "# convert each arc to a dictionary\n",
    "df_G_V2_arc_component_dict = df_G_V2_arc_component.withColumn(\"arcs\", create_map(col('src'), col('dst'))).drop('src','dst')\n",
    "\n",
    "# combine dictionaries belonging to an identical component to one list\n",
    "df_G_V2_arc_component_dict_gpy = df_G_V2_arc_component_dict.groupBy('component').agg(collect_list('arcs').alias('subgraphs'))\n",
    "\n",
    "# left join df_G_V1_arc_component_dict_gpy with unique_SdlPts_per_con to obtain SdlPts belonging to each component\n",
    "df_G_V2_arc_component_dict_gpy = df_G_V2_arc_component_dict_gpy.join(unique_SdlTris_per_con,df_G_V2_arc_component_dict_gpy.component==unique_SdlTris_per_con.component, \"left\").select(df_G_V2_arc_component_dict_gpy.component, 'multi_SdlTris', 'subgraphs')\n",
    "df_G_V2_arc_component_dict_gpy.printSchema()"
   ]
  },
  {
   "cell_type": "code",
   "execution_count": null,
   "id": "seasonal-russia",
   "metadata": {},
   "outputs": [],
   "source": [
    "t_persist_df_G_V2_arc_component_dict_gpy_0 = time.time()\n",
    "\n",
    "# df_G_V2_arc_component_dict_gpy.persist(StorageLevel.MEMORY_ONLY_SER)\n",
    "\n",
    "t_persist_df_G_V2_arc_component_dict_gpy_1 = time.time()\n",
    "print(\"Total time cost for persisting df_G_V2_arc_component_dict_gpy:\", t_persist_df_G_V2_arc_component_dict_gpy_1 - t_persist_df_G_V2_arc_component_dict_gpy_0)"
   ]
  },
  {
   "cell_type": "code",
   "execution_count": null,
   "id": "filled-hypothesis",
   "metadata": {},
   "outputs": [],
   "source": [
    "# unpersist\n",
    "# result_con.unpersist()\n",
    "# df_graph_V2_node_final.unpersist()\n",
    "# df_graph_V2_edge_final.unpersist()\n",
    "# df_crit_E.unpersist()\n",
    "# df_Forman.unpersist()\n",
    "unique_SdlTris_per_con.unpersist()"
   ]
  },
  {
   "cell_type": "code",
   "execution_count": null,
   "id": "sophisticated-constitution",
   "metadata": {},
   "outputs": [],
   "source": [
    "# save df_G_V2_arc_component_dict_gpy\n",
    "t0 = time.time()\n",
    "file_df_G_V2_arc_component_dict_gpy_hdfs = 'SigSpatial_data' + '/' + tin_filename + '_G_V2_arc_component_dict_gpy.parquet'\n",
    "\n",
    "# df_G_V2_arc_component_dict_gpy.write.mode('overwrite').options(header='False', delimiter=',').parquet(file_df_G_V2_arc_component_dict_gpy_hdfs)\n",
    "\n",
    "t1 = time.time()\n",
    "print(\"Time cost for saving df_G_V2_arc_component_dict_gpy to a csv file:\", t1-t0)"
   ]
  },
  {
   "cell_type": "code",
   "execution_count": null,
   "id": "raising-reserve",
   "metadata": {},
   "outputs": [],
   "source": [
    "assert(1 == 0)"
   ]
  },
  {
   "cell_type": "code",
   "execution_count": 56,
   "id": "explicit-shark",
   "metadata": {},
   "outputs": [],
   "source": [
    "def bfs_rdd(component, multi_SdlTris, subgraphs):\n",
    "    # Perform a breadth-first search on a single graph\n",
    "    \n",
    "    # subgraphs is a list of dictionaries, we need to convert it to a single dictionary\n",
    "    subgraphs_dict = {}\n",
    "    # merge all sub-dictionaries to one single dictionary\n",
    "    for d in subgraphs:\n",
    "        subgraphs_dict = {**subgraphs_dict, **d}\n",
    "        \n",
    "    visited = set()\n",
    "    queue = multi_SdlTris\n",
    "    while queue:\n",
    "        node = queue.pop(0)\n",
    "        print(\"node:\",node)\n",
    "        if node not in visited:\n",
    "            visited.add(node)\n",
    "            neighbors = subgraphs_dict.get(node, [])\n",
    "            if neighbors != []:\n",
    "                queue.append(neighbors)\n",
    "                \n",
    "    visited = list(visited)\n",
    "    return component, visited"
   ]
  },
  {
   "cell_type": "code",
   "execution_count": 57,
   "id": "informational-sullivan",
   "metadata": {},
   "outputs": [
    {
     "name": "stdout",
     "output_type": "stream",
     "text": [
      "num_df_V2_result: 2\n",
      "Time cost to extract V2-Paths: 9.457555532455444\n"
     ]
    }
   ],
   "source": [
    "# Use mapPartitions to apply the bfs function to each partition of the RDD\n",
    "# Each partition corresponds to a single graph that is processed by a single executor\n",
    "t_V2_0 = time.time()\n",
    "\n",
    "df_V2_result = df_G_V2_arc_component_dict_gpy.rdd.map(lambda partition: bfs_rdd(partition['component'], partition['multi_SdlTris'], partition['subgraphs'])).toDF()\n",
    "# V2_result_col = V2_result.collect()\n",
    "num_df_V2_result = df_V2_result.count()\n",
    "print(\"num_df_V2_result:\", num_df_V2_result)\n",
    "\n",
    "t_V2_1 = time.time()\n",
    "print(\"Time cost to extract V2-Paths:\", t_V2_1 - t_V2_0)"
   ]
  },
  {
   "cell_type": "code",
   "execution_count": 58,
   "id": "wicked-kingdom",
   "metadata": {},
   "outputs": [],
   "source": [
    "df_V2_result_col = df_V2_result.collect()"
   ]
  },
  {
   "cell_type": "code",
   "execution_count": 60,
   "id": "coordinate-elite",
   "metadata": {},
   "outputs": [
    {
     "data": {
      "text/plain": [
       "[Row(_1=400, _2=[512, 513, 896, 897, 654, 1040, 785, 1041, 787, 786, 789, 657, 792, 793, 794, 795, 796, 797, 414, 798, 799, 417, 802, 801, 804, 805, 806, 807, 808, 809, 810, 811, 812, 813, 814, 815, 560, 944, 561, 945, 1088, 1089, 704, 705, 462, 463, 846, 849, 606, 736, 993, 992, 739, 740, 609, 742, 743, 745, 750, 1136, 1137, 752, 755, 753, 510]),\n",
       " Row(_1=-1, _2=[128, 129, 770, 771, 772, 773, 774, 775, 776, 768, 10, 778, 12, 780, 14, 15, 782, 17, 783, 16, 13, 19, 271, 18, 21, 769, 32, 33, 176, 177, 318, 321, 270, 779, 81, 80, 726, 729, 781, 222, 224, 225, 368, 369, -1])]"
      ]
     },
     "execution_count": 60,
     "metadata": {},
     "output_type": "execute_result"
    }
   ],
   "source": [
    "df_V2_result_col"
   ]
  },
  {
   "cell_type": "code",
   "execution_count": 64,
   "id": "adult-faith",
   "metadata": {},
   "outputs": [
    {
     "data": {
      "text/plain": [
       "45"
      ]
     },
     "execution_count": 64,
     "metadata": {},
     "output_type": "execute_result"
    }
   ],
   "source": [
    "len(df_V2_result_col[1][1])"
   ]
  },
  {
   "cell_type": "code",
   "execution_count": 59,
   "id": "simple-phrase",
   "metadata": {},
   "outputs": [
    {
     "data": {
      "text/plain": [
       "[Row(_1=400, _2=[512, 513, 896, 897, 654, 1040, 785, 1041, 787, 786, 789, 657, 792, 793, 794, 795, 796, 797, 414, 798, 799, 417, 802, 801, 804, 805, 806, 807, 808, 809, 810, 811, 812, 813, 814, 815, 560, 944, 561, 945, 1088, 1089, 704, 705, 462, 463, 846, 849, 606, 736, 993, 992, 739, 740, 609, 742, 743, 745, 750, 1136, 1137, 752, 755, 753, 510]),\n",
       " Row(_1=-1, _2=[128, 129, 770, 771, 772, 773, 774, 775, 776, 768, 10, 778, 12, 780, 14, 15, 782, 17, 783, 16, 13, 19, 271, 18, 21, 769, 32, 33, 176, 177, 318, 321, 270, 779, 81, 80, 726, 729, 781, 222, 224, 225, 368, 369, -1])]"
      ]
     },
     "execution_count": 59,
     "metadata": {},
     "output_type": "execute_result"
    }
   ],
   "source": [
    "df_V2_result_col"
   ]
  },
  {
   "cell_type": "code",
   "execution_count": null,
   "id": "frank-category",
   "metadata": {},
   "outputs": [],
   "source": []
  },
  {
   "cell_type": "code",
   "execution_count": null,
   "id": "measured-bicycle",
   "metadata": {},
   "outputs": [],
   "source": [
    "print(\"time cost of connected components:\",t_con)\n",
    "\n",
    "print(\"Time cost to extract V2-Paths:\", t_V2_1 - t_V2_0)"
   ]
  },
  {
   "cell_type": "code",
   "execution_count": null,
   "id": "domestic-money",
   "metadata": {},
   "outputs": [],
   "source": [
    "# print(\"number of distinct connected components:\", num_connected)"
   ]
  },
  {
   "cell_type": "code",
   "execution_count": null,
   "id": "least-mouth",
   "metadata": {},
   "outputs": [],
   "source": [
    "# num_crit_T = df_crit_T.count()\n",
    "# print(\"number of critical triangles:\", num_crit_T)"
   ]
  },
  {
   "cell_type": "code",
   "execution_count": null,
   "id": "efficient-somerset",
   "metadata": {},
   "outputs": [],
   "source": [
    "print(\"River road\")"
   ]
  },
  {
   "cell_type": "code",
   "execution_count": null,
   "id": "rational-haven",
   "metadata": {},
   "outputs": [],
   "source": [
    "assert(1 == 0)"
   ]
  },
  {
   "cell_type": "code",
   "execution_count": null,
   "id": "front-granny",
   "metadata": {},
   "outputs": [],
   "source": [
    "t_save_V2_Paths_0 = time.time()\n",
    "\n",
    "V2_path = 'SigSpatial_data' + '/' + tin_filename + '_' + 'V2_Paths' + '.parquet'\n",
    "df_V2_result.write.format(\"parquet\").mode(\"overwrite\").save(V2_path)\n",
    "\n",
    "t_save_V2_Paths_1 = time.time()\n",
    "t_save_V2_Paths = t_save_V2_Paths_1 - t_save_V2_Paths_0\n",
    "print(\"time for saving V2_Paths:\", t_save_V2_Paths)"
   ]
  },
  {
   "cell_type": "code",
   "execution_count": null,
   "id": "located-senate",
   "metadata": {},
   "outputs": [],
   "source": [
    "import requests\n",
    "\n",
    "def notify(mgs=\"\"):\n",
    "    token = \"bce6ba\"\n",
    "   \n",
    "    url = f\"https://telepush.dev/api/messages/{token}\"\n",
    "    payload = {\"text\": mgs}\n",
    "    response = requests.post(url, json=payload)\n",
    "   \n",
    "    print(response.status_code)\n",
    "\n",
    "msg_tele = spark_app_name + 'ran correctly!'\n",
    "notify(msg_tele)"
   ]
  },
  {
   "cell_type": "code",
   "execution_count": null,
   "id": "coordinated-naples",
   "metadata": {},
   "outputs": [],
   "source": []
  }
 ],
 "metadata": {
  "kernelspec": {
   "display_name": "Python 3",
   "language": "python",
   "name": "python3"
  },
  "language_info": {
   "codemirror_mode": {
    "name": "ipython",
    "version": 3
   },
   "file_extension": ".py",
   "mimetype": "text/x-python",
   "name": "python",
   "nbconvert_exporter": "python",
   "pygments_lexer": "ipython3",
   "version": "3.7.7"
  }
 },
 "nbformat": 4,
 "nbformat_minor": 5
}
