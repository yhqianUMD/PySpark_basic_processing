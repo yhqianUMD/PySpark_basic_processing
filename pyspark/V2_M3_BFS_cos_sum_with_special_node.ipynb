{
 "cells": [
  {
   "cell_type": "code",
   "execution_count": 1,
   "id": "cardiac-ecuador",
   "metadata": {},
   "outputs": [],
   "source": [
    "import findspark\n",
    "import os\n",
    "#findspark.init() \n",
    "SPARK_HOME='/opt/cloudera/parcels/CDH/lib/spark'\n",
    "# SPARK_HOME='/home/qiany/.conda/envs/py37'\n",
    "# os.environ['SPARK_HOME'] = '/home/qiany/.conda/envs/py37'\n",
    "findspark.init(SPARK_HOME)"
   ]
  },
  {
   "cell_type": "code",
   "execution_count": 2,
   "id": "random-cincinnati",
   "metadata": {},
   "outputs": [],
   "source": [
    "import time\n",
    "import math\n",
    "import copy\n",
    "import csv\n",
    "import json\n",
    "import os\n",
    "import codecs\n",
    "import subprocess\n",
    "#from hdfs import InsecureClient\n",
    "import numpy as np\n",
    "#from pyspark import SparkContext\n",
    "from pyspark import SQLContext\n",
    "from pyspark.sql import Row\n",
    "from pyspark.sql import functions as F\n",
    "from pyspark.sql.functions import array_union,flatten,array_sort,coalesce,broadcast,collect_list, collect_set, udf, array_remove, log, lit, first, col, array, sort_array,split, explode, desc, asc, row_number,isnan, when, count\n",
    "from pyspark.sql.types import *\n",
    "import rtree\n",
    "from pyspark.sql import Window\n",
    "#import igraph\n",
    "#from igraph import Graph\n",
    "import geofeather\n",
    "from pyspark.storagelevel import StorageLevel"
   ]
  },
  {
   "cell_type": "code",
   "execution_count": 3,
   "id": "olympic-participant",
   "metadata": {},
   "outputs": [
    {
     "name": "stdin",
     "output_type": "stream",
     "text": [
      "Here is a programe to compute the Forman gradient, please input the absolute or relative path to your TIN file: cos_sum.tri\n"
     ]
    },
    {
     "name": "stdout",
     "output_type": "stream",
     "text": [
      "\n",
      "********************\n",
      "tin_directory:  \n"
     ]
    },
    {
     "name": "stdin",
     "output_type": "stream",
     "text": [
      "Is the data stored in hdfs(0) or SigSpatial(1): 0\n"
     ]
    },
    {
     "name": "stdout",
     "output_type": "stream",
     "text": [
      "tin_basename:  cos_sum.tri\n",
      "tin_filename:  cos_sum\n",
      "tin_extension:  .tri\n",
      "\n",
      "********************\n"
     ]
    }
   ],
   "source": [
    "tin_file = input(\"Here is a programe to compute the Forman gradient, please input the absolute or relative path to your TIN file:\")\n",
    "print(\"\\n********************\")\n",
    "\n",
    "# get the directory to the TIN file\n",
    "tin_directory = os.path.dirname(tin_file)\n",
    "print(\"tin_directory: \", tin_directory)\n",
    "\n",
    "directory_type = input(\"Is the data stored in hdfs(0) or SigSpatial(1):\")\n",
    "if directory_type == '0':\n",
    "    directory = 'hdfs_data'\n",
    "else:\n",
    "    directory = 'SigSpatial_data'\n",
    "    \n",
    "# get the basename to the TIN file\n",
    "tin_basename = os.path.basename(tin_file) # input_vertices_2.off\n",
    "print(\"tin_basename: \", tin_basename)\n",
    "\n",
    "# get the filename of the TIN file\n",
    "tin_filename = os.path.splitext(tin_basename)[0] # input_vertices_2\n",
    "print(\"tin_filename: \", tin_filename)\n",
    "\n",
    "# get the type of TIN file: off, tri, etc\n",
    "tin_extension = os.path.splitext(tin_basename)[1] # .off\n",
    "print(\"tin_extension: \", tin_extension)\n",
    "print(\"\\n********************\")"
   ]
  },
  {
   "cell_type": "code",
   "execution_count": 4,
   "id": "colored-jefferson",
   "metadata": {},
   "outputs": [
    {
     "name": "stdin",
     "output_type": "stream",
     "text": [
      "Do you have filtration data? \n",
      "spark.executor.instances: \n",
      "spark.executor.cores: \n",
      "spark.executor.memory? Please end with 'g': \n",
      "spark.executor.memoryOverhead? Please end with 'g': \n",
      "spark.sql.shuffle.partitions: 20\n"
     ]
    }
   ],
   "source": [
    "# filtra is the order of each vertex, the order is obtained by ranking elevation values of vertices\n",
    "filtra = input(\"Do you have filtration data?\") or \"yes\"\n",
    "# filtra = 'yes'\n",
    "\n",
    "if filtra.lower() == 'no':    \n",
    "    Basic_Data = input(\"Do you have basic pts and tri data?\")\n",
    "    \n",
    "Num_executor = input(\"spark.executor.instances:\") or \"4\"\n",
    "Num_core_per_executor = input(\"spark.executor.cores:\") or \"5\"\n",
    "Memory_executor = input(\"spark.executor.memory? Please end with 'g':\") or \"10g\"\n",
    "MemoryOverhead_executor = input(\"spark.executor.memoryOverhead? Please end with 'g':\") or \"2g\"\n",
    "\n",
    "# Num_core_per_driver = Num_core_per_executor\n",
    "# Memory_driver = Memory_executor\n",
    "# MemoryOverhead_driver = MemoryOverhead_executor\n",
    "\n",
    "Num_core_per_driver = '5'\n",
    "Memory_driver = '12g'\n",
    "MemoryOverhead_driver = '4g'\n",
    "\n",
    "Num_shuffle_partitions = input(\"spark.sql.shuffle.partitions:\") or \"20\""
   ]
  },
  {
   "cell_type": "code",
   "execution_count": 5,
   "id": "corresponding-finnish",
   "metadata": {},
   "outputs": [],
   "source": [
    "from pyspark.sql import SparkSession\n",
    "from pyspark import StorageLevel\n",
    "import geopandas as gpd\n",
    "import pandas as pd\n",
    "from pyspark.sql.types import StructType, StructField, StringType, IntegerType, LongType, FloatType, ArrayType, MapType\n",
    "from shapely.geometry import Point\n",
    "from shapely.geometry import Polygon\n",
    "\n",
    "from sedona.register import SedonaRegistrator\n",
    "from sedona.core.SpatialRDD import SpatialRDD, PointRDD, CircleRDD, PolygonRDD, LineStringRDD\n",
    "from sedona.core.enums import FileDataSplitter\n",
    "from sedona.utils.adapter import Adapter\n",
    "from sedona.core.spatialOperator import KNNQuery\n",
    "from sedona.core.spatialOperator import JoinQuery\n",
    "from sedona.core.spatialOperator import JoinQueryRaw\n",
    "from sedona.core.spatialOperator import RangeQuery\n",
    "from sedona.core.spatialOperator import RangeQueryRaw\n",
    "from sedona.core.formatMapper.shapefileParser import ShapefileReader\n",
    "from sedona.core.formatMapper import WkbReader\n",
    "from sedona.core.formatMapper import WktReader\n",
    "from sedona.core.formatMapper import GeoJsonReader\n",
    "from sedona.sql.types import GeometryType\n",
    "from sedona.core.enums import GridType\n",
    "from sedona.core.SpatialRDD import RectangleRDD\n",
    "from sedona.core.enums import IndexType\n",
    "from sedona.core.geom.envelope import Envelope\n",
    "from sedona.utils import SedonaKryoRegistrator, KryoSerializer"
   ]
  },
  {
   "cell_type": "code",
   "execution_count": 6,
   "id": "acting-storage",
   "metadata": {},
   "outputs": [],
   "source": [
    "os.environ['PYSPARK_PYTHON'] = \"./environment/bin/python\"\n",
    "#os.environ['PYSPARK_PYTHON'] = \"/home/qiany/.conda/envs/py37/bin/python\"\n",
    "os.environ['YARN_CONF_DIR'] = \"/opt/cloudera/parcels/CDH/lib/spark/conf/yarn-conf\""
   ]
  },
  {
   "cell_type": "code",
   "execution_count": 7,
   "id": "desperate-sleep",
   "metadata": {},
   "outputs": [
    {
     "name": "stdout",
     "output_type": "stream",
     "text": [
      "spark_app_name: TopoSimp_cos_sum_03072024_1255\n"
     ]
    }
   ],
   "source": [
    "'''\n",
    "spark.executor.cores: # Number of concurrent tasks an executor can run, euqals to the number of cores to use on each executor\n",
    "spark.executor.instances: # Number of executors for the spark application\n",
    "spark.executor.memory: # Amount of memory to use for each executor that runs the task\n",
    "spark.executor.memoryOverhead:\n",
    "spark.driver.cores: # Number of cores to use for the driver process; the default number is 1\n",
    "spark.driver.memory: # Amount of memory to use for the driver\n",
    "spark.driver.maxResultSize: to define the maximum limit of the total size of the serialized result that a driver can store for each Spark collect action\n",
    "spark.default.parallelism: # Default number of partitions in RDDs returned by transformations like join, reduceByKey, and parallelize when not set by user. It can be set as spark.executor.instances * spark.executor.cores * 2\n",
    "spark.sql.shuffle.partitions: determine how many partitions are used when data is shuffled between nodes, e.g., joins or aggregations. usually 1~5 times of executor.instances * executor.cores\n",
    "spark.memory.storageFraction: determines the fraction of the heap space that is allocated to caching RDDs and DataFrames in memory.\n",
    "spark.kryoserializer.buffer.max: determine the maximum of data that can be serialized at once; this must be larger than any object we attempt to serialize\n",
    "spark.rpc.message.maxSize: # Maximum message size (in MiB) to allow in \"control plane\" communication; generally only applies to map output size information sent between executors and the driver. To communicate between the nodes, Spark uses a protocol called RPC (Remote Procedure Call), which sends messages back and forth. The spark.rpc.message.maxSize parameter limits how big these messages can be. \n",
    "spark.sql.broadcastTimeout: Spark will wait for this amount of time before giving up on broadcasting a table. Broadcasting can take a long time if the table is large or if there is a shuffle operation before it.\n",
    "spark.sql.autoBroadcastJoinThreshold: Spark will broadcast a table to all worker nodes when performing a join if its size is less than this value; -1 means disabling broadcasting\n",
    "'''\n",
    "\n",
    "date = time.strftime(\"%m,%d,%Y\")\n",
    "date_name = date.split(',')[0] + date.split(',')[1] + date.split(',')[2]\n",
    "\n",
    "hour = time.strftime(\"%H,%M\")\n",
    "hour_name = hour.split(',')[0] + hour.split(',')[1]\n",
    "\n",
    "# set the Spark app name\n",
    "spark_app_name = \"TopoSimp_\" + tin_filename + '_' + date_name + '_' + hour_name\n",
    "print(\"spark_app_name:\", spark_app_name)\n",
    "\n",
    "spark = SparkSession \\\n",
    ".builder \\\n",
    ".appName(spark_app_name) \\\n",
    ".master('yarn') \\\n",
    ".config(\"spark.serializer\", KryoSerializer.getName) \\\n",
    ".config(\"spark.kryo.registrator\", SedonaKryoRegistrator.getName) \\\n",
    ".config('spark.jars','sedona-core-2.4_2.11-1.0.0-incubating.jar,sedona-sql-2.4_2.11-1.0.0-incubating.jar,sedona-python-adapter-2.4_2.11-1.0.0-incubating.jar,sedona-viz-2.4_2.11-1.0.0-incubating.jar,geotools-wrapper-geotools-24.0.jar,graphframes-0.8.0-spark2.4-s_2.11.jar') \\\n",
    ".config('spark.executor.cores', Num_core_per_executor) \\\n",
    ".config('spark.executor.instances', Num_executor) \\\n",
    ".config('spark.executor.memory', Memory_executor) \\\n",
    ".config('spark.executor.memoryOverhead', MemoryOverhead_executor) \\\n",
    ".config('spark.driver.cores', Num_core_per_driver) \\\n",
    ".config('spark.driver.memory', Memory_driver) \\\n",
    ".config('spark.driver.memoryOverhead', MemoryOverhead_driver) \\\n",
    ".config('spark.driver.maxResultSize', '0') \\\n",
    ".config('spark.dynamicAllocation.enabled', 'false') \\\n",
    ".config('spark.network.timeout', '10000001s') \\\n",
    ".config('spark.executor.heartbeatInterval', '10000000s') \\\n",
    ".config('spark.sql.shuffle.partitions', Num_shuffle_partitions) \\\n",
    ".config(\"spark.default.parallelism\", '200') \\\n",
    ".config(\"spark.kryoserializer.buffer.max\", \"1024mb\") \\\n",
    ".config('spark.rpc.message.maxSize', '256') \\\n",
    ".config(\"spark.sql.broadcastTimeout\", \"36000\") \\\n",
    ".config(\"spark.sql.autoBroadcastJoinThreshold\", \"-1\") \\\n",
    ".config(\"spark.python.profile\", \"true\") \\\n",
    ".config(\"spark.eventLog.enabled\", \"true\") \\\n",
    ".config('spark.yarn.dist.archives', '/local/data/yuehui/py37.tar.gz#environment') \\\n",
    ".getOrCreate()"
   ]
  },
  {
   "cell_type": "code",
   "execution_count": 8,
   "id": "worth-duration",
   "metadata": {},
   "outputs": [],
   "source": [
    "import sys\n",
    "sys.path.append(\"/local/data/yuehui/pyspark/FormanGradient/code\")"
   ]
  },
  {
   "cell_type": "code",
   "execution_count": 9,
   "id": "uniform-accommodation",
   "metadata": {},
   "outputs": [],
   "source": [
    "import graphframes\n",
    "from graphframes import GraphFrame\n",
    "from graphframes import *\n",
    "from graphframes.lib import Pregel"
   ]
  },
  {
   "cell_type": "code",
   "execution_count": 10,
   "id": "attended-africa",
   "metadata": {},
   "outputs": [],
   "source": [
    "# read_ver_order() is a function used to read vertices from a csv file\n",
    "def read_ver_order(filtra, directory, tin_filename):\n",
    "    '''\n",
    "    this function has three input parameters.\n",
    "    filtra: 'yes' or 'no', yes means that the input csv file is ordered by default\n",
    "    directory: a string denoting the directory to a TIN file\n",
    "    tin_filename: a string denoting the file name of a TIN without extension, e.g., Canyon_Lake_Gorge_TX\n",
    "    '''\n",
    "    if filtra.lower() == 'yes': # 'yes' means we have already computed the filtra value for each vertex\n",
    "        schema_ver_origin = StructType([ \\\n",
    "            StructField(\"x\",FloatType(),True), \\\n",
    "            StructField(\"y\",FloatType(),True), \\\n",
    "            StructField(\"ele\",FloatType(),True), \\\n",
    "            StructField(\"self_index\",IntegerType(),True), \\\n",
    "            StructField(\"self_order\",IntegerType(),True) \\\n",
    "          ])\n",
    "        \n",
    "        hdfs_tin_pts_origin = directory + \"/\" + tin_filename + '_filtra_pts_origin.csv'\n",
    "    \n",
    "        df_ver_order = spark.read.format(\"csv\") \\\n",
    "              .option(\"header\", False) \\\n",
    "              .schema(schema_ver_origin)\\\n",
    "              .load(hdfs_tin_pts_origin)\n",
    "        print(\"Number of partitions for df_ver_order:\", df_ver_order.rdd.getNumPartitions())\n",
    "        \n",
    "    if filtra.lower() == 'no': # 'no' means we need to rank vertices to get their filtra values\n",
    "        schema_ver_origin = StructType([ \\\n",
    "            StructField(\"x\",FloatType(),True), \\\n",
    "            StructField(\"y\",FloatType(),True), \\\n",
    "            StructField(\"ele\",FloatType(),True), \\\n",
    "            StructField(\"self_index\",IntegerType(),True) \\\n",
    "          ])\n",
    "        \n",
    "        hdfs_tin_pts_origin = directory + \"/\" + tin_filename + '_pts_origin.csv'\n",
    "    \n",
    "        df_ver_origin = spark.read.format(\"csv\") \\\n",
    "              .option(\"header\", False) \\\n",
    "              .schema(schema_ver_origin)\\\n",
    "              .load(hdfs_tin_pts_origin)\n",
    "        \n",
    "        print(\"Number of partitions for df_ver_origin:\", df_ver_origin.rdd.getNumPartitions())\n",
    "        \n",
    "        # define a window for the ordering\n",
    "        # row_number() function along with partitionBy() of other column populates the row number by group\n",
    "        # Since we want to order the whole DataFrame, so we don't need the partitionBy() function\n",
    "        w = Window().orderBy(col('ele').asc())\n",
    "        df_ver_order = df_ver_origin.withColumn(\"self_order\", F.row_number().over(w) -1) # let the row number start from 0\n",
    "        print(\"Number of partitions for df_ver_order:\", df_ver_order.rdd.getNumPartitions())\n",
    "        \n",
    "    return df_ver_order"
   ]
  },
  {
   "cell_type": "code",
   "execution_count": 11,
   "id": "alternate-doubt",
   "metadata": {},
   "outputs": [
    {
     "name": "stdout",
     "output_type": "stream",
     "text": [
      "Number of partitions for df_ver_order: 1\n",
      "root\n",
      " |-- x: float (nullable = true)\n",
      " |-- y: float (nullable = true)\n",
      " |-- ele: float (nullable = true)\n",
      " |-- self_index: integer (nullable = true)\n",
      " |-- self_order: integer (nullable = true)\n",
      "\n"
     ]
    }
   ],
   "source": [
    "# read vertices\n",
    "df_ver_order = read_ver_order(filtra, directory, tin_filename)\n",
    "df_ver_order.printSchema()"
   ]
  },
  {
   "cell_type": "code",
   "execution_count": 12,
   "id": "happy-shark",
   "metadata": {},
   "outputs": [
    {
     "name": "stdout",
     "output_type": "stream",
     "text": [
      "+--------+---+---------+----------+----------+\n",
      "|       x|  y|      ele|self_index|self_order|\n",
      "+--------+---+---------+----------+----------+\n",
      "|     0.0|0.0|      2.0|         0|       621|\n",
      "|0.392699|0.0|  1.92388|         1|       609|\n",
      "|0.785398|0.0|  1.70711|         2|       588|\n",
      "|  1.1781|0.0|  1.38268|         3|       549|\n",
      "|  1.5708|0.0| 0.999996|         4|       501|\n",
      "|  1.9635|0.0| 0.617312|         5|       444|\n",
      "| 2.35619|0.0| 0.292896|         6|       386|\n",
      "| 2.74889|0.0|0.0761219|         7|       356|\n",
      "| 3.14159|0.0|      0.0|         8|       277|\n",
      "| 3.53429|0.0|0.0761198|         9|       348|\n",
      "| 3.92699|0.0| 0.292893|        10|       378|\n",
      "| 4.31969|0.0| 0.617317|        11|       448|\n",
      "| 4.71239|0.0|      1.0|        12|       505|\n",
      "| 5.10509|0.0|  1.38269|        13|       553|\n",
      "| 5.49779|0.0|  1.70711|        14|       589|\n",
      "| 5.89049|0.0|  1.92388|        15|       610|\n",
      "| 6.28319|0.0|      2.0|        16|       622|\n",
      "| 6.67588|0.0|  1.92388|        17|       611|\n",
      "| 7.06858|0.0|  1.70711|        18|       590|\n",
      "| 7.46128|0.0|  1.38269|        19|       554|\n",
      "+--------+---+---------+----------+----------+\n",
      "only showing top 20 rows\n",
      "\n"
     ]
    }
   ],
   "source": [
    "df_ver_order.show()"
   ]
  },
  {
   "cell_type": "code",
   "execution_count": 12,
   "id": "tough-washer",
   "metadata": {},
   "outputs": [],
   "source": [
    "# read_tri_order() is a function used to read triangles from a csv file\n",
    "def read_tri_order(filtra, directory, tin_filename):    \n",
    "    '''\n",
    "    this function has two input parameters.\n",
    "    filtra: 'yes' or 'no', yes means that the input csv file is ordered by default\n",
    "    directory: a string denoting the directory to a TIN file\n",
    "    tin_filename: a string denoting the file name of a tin without extension, e.g., 827_monviso\n",
    "    '''\n",
    "    if filtra.lower() == 'yes':\n",
    "        hdfs_tin_tri_origin = directory + \"/\" + tin_filename + '_filtra_tri_origin.csv'\n",
    "    else: # filtra.lower() == 'no'\n",
    "        hdfs_tin_tri_origin = directory + \"/\" + tin_filename + '_tri_origin.csv'\n",
    "        \n",
    "    schema_tri_origin = StructType([ \\\n",
    "        StructField(\"v1\",IntegerType(),True), \\\n",
    "        StructField(\"v2\",IntegerType(),True), \\\n",
    "        StructField(\"v3\",IntegerType(),True), \\\n",
    "        StructField(\"tri_order\",IntegerType(),True) \\\n",
    "      ])\n",
    "\n",
    "    df_tri_origin = spark.read.format(\"csv\") \\\n",
    "          .option(\"header\", False) \\\n",
    "          .schema(schema_tri_origin)\\\n",
    "          .load(hdfs_tin_tri_origin)\n",
    "    print(\"Number of partitions for df_tri_origin:\", df_tri_origin.rdd.getNumPartitions())\n",
    "        \n",
    "    return df_tri_origin"
   ]
  },
  {
   "cell_type": "code",
   "execution_count": 13,
   "id": "peripheral-training",
   "metadata": {},
   "outputs": [
    {
     "name": "stdout",
     "output_type": "stream",
     "text": [
      "Number of partitions for df_tri_origin: 1\n",
      "root\n",
      " |-- v1: integer (nullable = true)\n",
      " |-- v2: integer (nullable = true)\n",
      " |-- v3: integer (nullable = true)\n",
      " |-- tri_order: integer (nullable = true)\n",
      "\n"
     ]
    }
   ],
   "source": [
    "# read triangles\n",
    "df_tri_origin = read_tri_order(filtra, directory, tin_filename)\n",
    "df_tri_origin.printSchema()"
   ]
  },
  {
   "cell_type": "code",
   "execution_count": 14,
   "id": "pleased-victor",
   "metadata": {},
   "outputs": [],
   "source": [
    "# replace_ver() replaces the original index of each vertex with filtra value in df_tri_origin\n",
    "def replace_ver(df_ver_order, df_tri_origin):\n",
    "    '''\n",
    "    df_ver_order: a DataFrame storing sorted vertices with filtra values\n",
    "    df_tri_origin: a DataFrame storing triangles from a TIN\n",
    "    '''\n",
    "    df_tri_order_v1 = df_tri_origin.join(df_ver_order, df_tri_origin.v1 == df_ver_order.self_index, \"inner\")\n",
    "    df_tri_order_v1 = df_tri_order_v1.select(col(\"tri_order\"), col(\"v1\"), col(\"v2\"), col(\"v3\"),col(\"self_order\").alias(\"r1\"), col(\"ele\").alias(\"r1_ele\"))\n",
    "\n",
    "    df_tri_order_v2 = df_tri_order_v1.join(df_ver_order, df_tri_order_v1.v2 == df_ver_order.self_index, \"inner\")\n",
    "    df_tri_order_v2 = df_tri_order_v2.select(col(\"tri_order\"), col(\"v1\"), col(\"v2\"), col(\"v3\"), col(\"r1\"), col(\"self_order\").alias(\"r2\"), col(\"r1_ele\"), col(\"ele\").alias(\"r2_ele\"))\n",
    "\n",
    "    df_tri_order_v3 = df_tri_order_v2.join(df_ver_order, df_tri_order_v2.v3 == df_ver_order.self_index, \"inner\")\n",
    "    df_tri_order_v3 = df_tri_order_v3.select(col(\"tri_order\"), col(\"v1\"), col(\"v2\"), col(\"v3\"), col(\"r1\"), col(\"r2\"), col(\"self_order\").alias(\"r3\"), col(\"r1_ele\"), col(\"r2_ele\"), col(\"ele\").alias(\"r3_ele\"))\n",
    "\n",
    "    df_tri_order = df_tri_order_v3.select(col(\"tri_order\"), col(\"r1\"), col(\"r2\"), col(\"r3\"), col(\"r1_ele\"), col(\"r2_ele\"), col(\"r3_ele\"))\n",
    "\n",
    "    return df_tri_order"
   ]
  },
  {
   "cell_type": "code",
   "execution_count": 15,
   "id": "raising-ferry",
   "metadata": {},
   "outputs": [
    {
     "name": "stdout",
     "output_type": "stream",
     "text": [
      "root\n",
      " |-- tri_order: integer (nullable = true)\n",
      " |-- r1: integer (nullable = true)\n",
      " |-- r2: integer (nullable = true)\n",
      " |-- r3: integer (nullable = true)\n",
      " |-- r1_ele: float (nullable = true)\n",
      " |-- r2_ele: float (nullable = true)\n",
      " |-- r3_ele: float (nullable = true)\n",
      "\n"
     ]
    }
   ],
   "source": [
    "# replaces original vertex index with filtra values\n",
    "df_tri_order = replace_ver(df_ver_order, df_tri_origin)\n",
    "df_tri_order.printSchema()"
   ]
  },
  {
   "cell_type": "code",
   "execution_count": 16,
   "id": "bigger-soundtrack",
   "metadata": {},
   "outputs": [
    {
     "name": "stdout",
     "output_type": "stream",
     "text": [
      "root\n",
      " |-- tri_order: integer (nullable = true)\n",
      " |-- r1: integer (nullable = true)\n",
      " |-- r2: integer (nullable = true)\n",
      " |-- r3: integer (nullable = true)\n",
      " |-- r1_ele: float (nullable = true)\n",
      " |-- r2_ele: float (nullable = true)\n",
      " |-- r3_ele: float (nullable = true)\n",
      " |-- tri: array (nullable = false)\n",
      " |    |-- element: integer (containsNull = true)\n",
      " |-- tri_ele: array (nullable = false)\n",
      " |    |-- element: float (containsNull = true)\n",
      "\n"
     ]
    },
    {
     "data": {
      "text/plain": [
       "20"
      ]
     },
     "execution_count": 16,
     "metadata": {},
     "output_type": "execute_result"
    }
   ],
   "source": [
    "# sort the extreme vertices of a triangle in ascending order, e.g., (2,5,3) -> (2,3,5)\n",
    "\n",
    "'''\n",
    "def get_tri_array(r1, r2, r3):\n",
    "# get_multi_pt_index is used to obtain the adjacent vertexes index, including the vertex itself\n",
    "# pt_list1: partial adjacent vertex indexes of join result 1\n",
    "# pt_list2: partial adjacent vertex indexes of join result 2\n",
    "    tri = [r1, r2, r3]    \n",
    "    tri.sort(reverse=True)\n",
    "    \n",
    "    return tri\n",
    "\n",
    "# convert a function to an udf and determine the return type\n",
    "# https://spark.apache.org/docs/3.1.3/api/python/reference/api/pyspark.sql.functions.udf.html\n",
    "get_tri_array_udf = udf(get_tri_array, ArrayType(IntegerType()))\n",
    "df_tri_order = df_tri_order.withColumn(\"tri\", get_tri_array_udf(df_tri_order.r1, df_tri_order.r2, df_tri_order.r3))\n",
    "'''\n",
    "\n",
    "df_tri_order = df_tri_order.withColumn(\"tri_origin\", F.array(\"r1\", \"r2\", \"r3\")).withColumn(\"tri_ele_origin\", F.array(\"r1_ele\", \"r2_ele\", \"r3_ele\"))\n",
    "df_tri_order = df_tri_order.withColumn(\"tri\", sort_array(\"tri_origin\", False)).drop(\"tri_origin\") # sort_array(\"tri\", False), False means descending order\n",
    "df_tri_order = df_tri_order.withColumn(\"tri_ele\", sort_array(\"tri_ele_origin\", False)).drop(\"tri_ele_origin\") # sort_array(\"tri\", False), False means descending order\n",
    "\n",
    "df_tri_order.printSchema()\n",
    "df_tri_order.rdd.getNumPartitions()\n",
    "#df_tri_order.show()"
   ]
  },
  {
   "cell_type": "code",
   "execution_count": 18,
   "id": "attractive-planner",
   "metadata": {},
   "outputs": [
    {
     "name": "stdout",
     "output_type": "stream",
     "text": [
      "+---------+---+---+---+---------+---------+---------+---------------+--------------------+\n",
      "|tri_order| r1| r2| r3|   r1_ele|   r2_ele|   r3_ele|            tri|             tri_ele|\n",
      "+---------+---+---+---+---------+---------+---------+---------------+--------------------+\n",
      "|      134|515|463|411|  1.08979| 0.707108| 0.382682|[515, 463, 411]|[1.08979, 0.70710...|\n",
      "|      137|463|286|411| 0.707108|      0.0| 0.382682|[463, 411, 286]|[0.707108, 0.3826...|\n",
      "|      239|126| 65| 78|-0.923883| -1.38269| -1.30657|  [126, 78, 65]|[-0.923883, -1.30...|\n",
      "|      393|114| 80|125|     -1.0| -1.30657|-0.923884| [125, 114, 80]|[-0.923884, -1.0,...|\n",
      "|      514|305|401|437|      0.0| 0.324426| 0.541198|[437, 401, 305]|[0.541198, 0.3244...|\n",
      "|      515|365|305|437| 0.216774|      0.0| 0.541198|[437, 365, 305]|[0.541198, 0.2167...|\n",
      "|      536|145|205|309|-0.765371|-0.382687|      0.0|[309, 205, 145]|[0.0, -0.382687, ...|\n",
      "|      537|204|145|309|-0.382687|-0.765371|      0.0|[309, 204, 145]|[0.0, -0.382687, ...|\n",
      "|      534|306|204|309|      0.0|-0.382687|      0.0|[309, 306, 204]|[0.0, 0.0, -0.382...|\n",
      "|      540| 86|140|166| -1.30656|-0.923877|-0.707103| [166, 140, 86]|[-0.707103, -0.92...|\n",
      "|      541|103| 86|166| -1.08979| -1.30656|-0.707103| [166, 103, 86]|[-0.707103, -1.08...|\n",
      "|      542| 70|117|140| -1.38268|-0.999999|-0.923877| [140, 117, 70]|[-0.923877, -0.99...|\n",
      "|      543| 86| 70|140| -1.30656| -1.38268|-0.923877|  [140, 86, 70]|[-0.923877, -1.30...|\n",
      "|      576|507|491|536|      1.0| 0.923881|  1.30656|[536, 507, 491]|[1.30656, 1.0, 0....|\n",
      "|      579|491|464|536| 0.923881| 0.707108|  1.30656|[536, 491, 464]|[1.30656, 0.92388...|\n",
      "|      578|464|519|536| 0.707108|  1.08979|  1.30656|[536, 519, 464]|[1.30656, 1.08979...|\n",
      "|      581|464|476|519| 0.707108| 0.765366|  1.08979|[519, 476, 464]|[1.08979, 0.76536...|\n",
      "|      605|466|493|520|  0.70711| 0.923882|  1.08979|[520, 493, 466]|[1.08979, 0.92388...|\n",
      "|      604|493|540|520| 0.923882|  1.30657|  1.08979|[540, 520, 493]|[1.30657, 1.08979...|\n",
      "|      691|255|366|319|-0.216771| 0.216774|      0.0|[366, 319, 255]|[0.216774, 0.0, -...|\n",
      "+---------+---+---+---+---------+---------+---------+---------------+--------------------+\n",
      "only showing top 20 rows\n",
      "\n"
     ]
    }
   ],
   "source": [
    "df_tri_order.show()"
   ]
  },
  {
   "cell_type": "markdown",
   "id": "distinct-visit",
   "metadata": {},
   "source": [
    "### get VT relation"
   ]
  },
  {
   "cell_type": "code",
   "execution_count": 17,
   "id": "affiliated-support",
   "metadata": {},
   "outputs": [],
   "source": [
    "# union and group vertices and get the preliminary VT relation\n",
    "def grp_union(df_tri_order):\n",
    "    '''\n",
    "    df_tri_order: a DataFrame storing sorted extreme vertices of each triangle\n",
    "    '''\n",
    "    # groupby and collect_set\n",
    "    df_tri_group1 = df_tri_order.groupBy('r1','r1_ele').agg(collect_list('tri').alias('multi_tri'), collect_list('tri_ele').alias('multi_tri_ele'))\n",
    "    df_tri_group2 = df_tri_order.groupBy('r2','r2_ele').agg(collect_list('tri').alias('multi_tri'), collect_list('tri_ele').alias('multi_tri_ele'))\n",
    "    df_tri_group3 = df_tri_order.groupBy('r3', 'r3_ele').agg(collect_list('tri').alias('multi_tri'), collect_list('tri_ele').alias('multi_tri_ele'))\n",
    "    \n",
    "    union12 = df_tri_group1.union(df_tri_group2) # the title of union12 will be the same as df_sj_group1\n",
    "    union123 = union12.union(df_tri_group3) # the title of union123 will be the same as union12, so as df_sj_group1\n",
    "\n",
    "    union123_group = union123.groupBy('r1','r1_ele').agg(collect_list('multi_tri').alias('multi_tri_list'), collect_list('multi_tri_ele').alias('multi_tri_ele_list'))\n",
    "    \n",
    "    # print(\"the schema of union123_group:\", union123_group.printSchema())\n",
    "    return union123_group"
   ]
  },
  {
   "cell_type": "code",
   "execution_count": 18,
   "id": "welcome-customer",
   "metadata": {},
   "outputs": [
    {
     "name": "stdout",
     "output_type": "stream",
     "text": [
      "root\n",
      " |-- r1: integer (nullable = true)\n",
      " |-- r1_ele: float (nullable = true)\n",
      " |-- multi_tri_list: array (nullable = true)\n",
      " |    |-- element: array (containsNull = true)\n",
      " |    |    |-- element: array (containsNull = true)\n",
      " |    |    |    |-- element: integer (containsNull = true)\n",
      " |-- multi_tri_ele_list: array (nullable = true)\n",
      " |    |-- element: array (containsNull = true)\n",
      " |    |    |-- element: array (containsNull = true)\n",
      " |    |    |    |-- element: float (containsNull = true)\n",
      "\n"
     ]
    }
   ],
   "source": [
    "union123_group = grp_union(df_tri_order)\n",
    "union123_group.printSchema()"
   ]
  },
  {
   "cell_type": "code",
   "execution_count": 19,
   "id": "perceived-finger",
   "metadata": {},
   "outputs": [
    {
     "name": "stdout",
     "output_type": "stream",
     "text": [
      "root\n",
      " |-- Ver: integer (nullable = true)\n",
      " |-- VT_filtra: array (nullable = true)\n",
      " |    |-- element: array (containsNull = true)\n",
      " |    |    |-- element: integer (containsNull = true)\n",
      " |-- VT_ele: array (nullable = true)\n",
      " |    |-- element: array (containsNull = true)\n",
      " |    |    |-- element: float (containsNull = true)\n",
      "\n",
      "number of partitions for df_VT: 20\n"
     ]
    }
   ],
   "source": [
    "# sort the triangles in the preliminary VT relation\n",
    "def get_multi_tri_order(tri_list, tri_ele_list):\n",
    "    '''\n",
    "    get_multi_tri_order is used to obtain the adjacent triangles, the results are in ascending order, but the triangle itself is in descending\n",
    "    e.g., [[3, 2, 1], [5, 3, 2], [5, 3, 1]]\n",
    "    tri_list: an array of array of array of integer\n",
    "    tri_ele_list: an array of array of array of float\n",
    "    '''\n",
    "\n",
    "    tri = []\n",
    "    tri_ele = []\n",
    "    # pt_list.append(pt_self) # if we don't calculate roughness, we don't need self vertex\n",
    "    for i in range(len(tri_list)):\n",
    "        for j in range(len(tri_list[i])):\n",
    "            # if tri_list[i][j] not in tri: # we do not need to check if it exists in tri_list, because we can prove that each one is unique\n",
    "            tri.append(tri_list[i][j]) # update() will add multiple elements to a set, while add() only add one element to a set   \n",
    "            tri_ele.append(tri_ele_list[i][j])\n",
    "    \n",
    "    tri_copy = copy.deepcopy(tri) # deep copy tri\n",
    "    tri.sort() # sort the list of array, e.g., tri=[[3, 2, 1], [5, 2, 1], [5, 3, 1]], after sorting, [[3, 2, 1], [5, 2, 1], [5, 3, 1]]\n",
    "    \n",
    "    tri_ele_sort = []\n",
    "    # sort tri_ele according to the same rule as tri\n",
    "    for i in range(len(tri)):\n",
    "        index_in_tri_origin = tri_copy.index(tri[i])\n",
    "        tri_ele_sort.append(tri_ele[index_in_tri_origin])\n",
    "    \n",
    "    return tri, tri_ele_sort\n",
    "\n",
    "# convert a function to an udf and determine the return type\n",
    "# https://spark.apache.org/docs/3.1.3/api/python/reference/api/pyspark.sql.functions.udf.html\n",
    "\n",
    "# StructType for get_multi_tri_order        \n",
    "get_multi_tri_order_schema = StructType([\n",
    "    StructField(\"multi_tri_sort\", ArrayType(ArrayType(IntegerType())),True), \n",
    "    StructField('multi_tri_ele_sort',ArrayType(ArrayType(FloatType())),True)\n",
    "])\n",
    "\n",
    "get_multi_tri_order_udf = udf(get_multi_tri_order, get_multi_tri_order_schema)\n",
    "\n",
    "df_VT = union123_group.withColumn(\"multi_tri_order\", get_multi_tri_order_udf(union123_group.multi_tri_list, union123_group.multi_tri_ele_list))\n",
    "df_VT = df_VT.select(col(\"r1\").alias(\"Ver\"), col(\"multi_tri_order.multi_tri_sort\").alias(\"VT_filtra\"), col(\"multi_tri_order.multi_tri_ele_sort\").alias(\"VT_ele\"))\n",
    "df_VT.printSchema()\n",
    "print(\"number of partitions for df_VT:\", df_VT.rdd.getNumPartitions())"
   ]
  },
  {
   "cell_type": "markdown",
   "id": "upper-settlement",
   "metadata": {},
   "source": [
    "### obtain the lower star of each vertex"
   ]
  },
  {
   "cell_type": "code",
   "execution_count": 20,
   "id": "genetic-ecology",
   "metadata": {},
   "outputs": [
    {
     "name": "stdout",
     "output_type": "stream",
     "text": [
      "root\n",
      " |-- Ver: integer (nullable = true)\n",
      " |-- VT_filtra: array (nullable = true)\n",
      " |    |-- element: array (containsNull = true)\n",
      " |    |    |-- element: integer (containsNull = true)\n",
      " |-- LS_edge: array (nullable = true)\n",
      " |    |-- element: array (containsNull = true)\n",
      " |    |    |-- element: integer (containsNull = true)\n",
      " |-- LS_tri_filtra: array (nullable = true)\n",
      " |    |-- element: array (containsNull = true)\n",
      " |    |    |-- element: integer (containsNull = true)\n",
      " |-- LS_tri_ele: array (nullable = true)\n",
      " |    |-- element: array (containsNull = true)\n",
      " |    |    |-- element: float (containsNull = true)\n",
      "\n",
      "number of partitions for df_LS: 20\n"
     ]
    }
   ],
   "source": [
    "# obtain Lower Star\n",
    "def get_LS(Ver, VT_filtra, VT_ele):\n",
    "# get_LS is used to obtain the edges and triangles of LS in ascending order\n",
    "# VV: an array of VV relation in ascending order\n",
    "    VV = set(num for sublist in VT_filtra for num in sublist if num != Ver)\n",
    "    VV = sorted(VV)\n",
    "        \n",
    "    LS_edge = []\n",
    "    for i in range(len(VV)):\n",
    "        if VV[i] < int(Ver):\n",
    "            LS_edge.append([int(Ver),VV[i]])\n",
    "        \n",
    "    LS_tri = []\n",
    "    LS_tri_ele = []\n",
    "    \n",
    "    for i in range(len(VT_filtra)):\n",
    "        if Ver >= max(VT_filtra[i]): # Ver_ele is not the maximum vertex\n",
    "            LS_tri.append(VT_filtra[i])\n",
    "            LS_tri_ele.append(VT_ele[i])\n",
    "                \n",
    "    return LS_edge, LS_tri, LS_tri_ele\n",
    "\n",
    "# StructType for get_multi_tri_order        \n",
    "get_LS_schema = StructType([\n",
    "    StructField(\"LS_edge\", ArrayType(ArrayType(IntegerType())),True), \n",
    "    StructField(\"LS_tri_filtra\", ArrayType(ArrayType(IntegerType())),True),\n",
    "    StructField('LS_tri_ele',ArrayType(ArrayType(FloatType())),True)\n",
    "])\n",
    "\n",
    "get_LS_udf = udf(get_LS, get_LS_schema)\n",
    "\n",
    "df_LS = df_VT.withColumn(\"LS\", get_LS_udf(df_VT.Ver, df_VT.VT_filtra, df_VT.VT_ele))\n",
    "df_LS = df_LS.select(\"Ver\", \"VT_filtra\", col(\"LS.LS_edge\").alias(\"LS_edge\"), col(\"LS.LS_tri_filtra\").alias(\"LS_tri_filtra\"), col(\"LS.LS_tri_ele\").alias(\"LS_tri_ele\"))\n",
    "df_LS.printSchema()\n",
    "print(\"number of partitions for df_LS:\", df_LS.rdd.getNumPartitions())\n",
    "# df_LS_edge.show()"
   ]
  },
  {
   "cell_type": "markdown",
   "id": "exceptional-patio",
   "metadata": {},
   "source": [
    "### compute Forman Gradient"
   ]
  },
  {
   "cell_type": "code",
   "execution_count": 21,
   "id": "documented-sixth",
   "metadata": {},
   "outputs": [],
   "source": [
    "from collections import deque"
   ]
  },
  {
   "cell_type": "code",
   "execution_count": 22,
   "id": "selective-elevation",
   "metadata": {},
   "outputs": [],
   "source": [
    "# get the Forman gradient from lower stars\n",
    "def get_Forman(Ver, LS_edge, LS_filtra, LS_ele):\n",
    "    '''\n",
    "    get_Forman is used to compute Forman gradient\n",
    "    LS_edge is triangles of lower star in ascending order\n",
    "    LS_tri is triangles of lower star in ascending order\n",
    "    '''\n",
    "    # inner udf to get the number of unpaired edges for a triangle\n",
    "    def num_unpaired_edges(tri_inner, crit_cell_inner, Forman_vec_pair_VE_inner, Forman_vec_pair_ET_inner):\n",
    "        # compute the number of unpaired edges\n",
    "        edge0 = [tri_inner[0], tri_inner[1]]\n",
    "        edge1 = [tri_inner[0], tri_inner[2]]\n",
    "        \n",
    "        num_unpaired_edge = 2\n",
    "        paired_edge = []\n",
    "        for crit_inner_temp in crit_cell_inner:\n",
    "            if len(crit_inner_temp) == 2: # crit_inner_temp is a critical edge\n",
    "                paired_edge.append(crit_inner_temp)\n",
    "                \n",
    "        for pair_vec in Forman_vec_pair_VE_inner: # pair_vec is a vector, it can be (ver, edge) or (edge, tri)\n",
    "            paired_edge.append(pair_vec[1])\n",
    "            # if type(pair_vec[0]) != int and len(pair_vec[0]) == 2: # pair_vec[0] is a paired edge, like in (edge, tri)\n",
    "                # paired_edge.append(pair_vec[0])\n",
    "            # if len(pair_vec[1]) == 2: # pair_vec[1] is a paired edge, like in (ver, edge)\n",
    "                # paired_edge.append(pair_vec[1])\n",
    "        for pair_vec in Forman_vec_pair_ET_inner: # pair_vec is a vector, it can be (ver, edge) or (edge, tri)\n",
    "            paired_edge.append(pair_vec[0])\n",
    "                \n",
    "        if edge0 in paired_edge:\n",
    "            num_unpaired_edge = num_unpaired_edge - 1\n",
    "        if edge1 in paired_edge:\n",
    "            num_unpaired_edge = num_unpaired_edge - 1\n",
    "            \n",
    "        return num_unpaired_edge\n",
    "    \n",
    "    # inner udf to get the edge which is paired with a triangles\n",
    "    def pair_an_edge_from_PQzero(alpha_inner, PQzero_inner):\n",
    "    # alpha_inner is a triangle in [r0, r1, r2] format, and the vertext's elevation is in descending order\n",
    "    # PQzero_inner is a queue storing all other edges\n",
    "        alpha_e0 = [alpha_inner[0], alpha_inner[1]]\n",
    "        alpha_e1 = [alpha_inner[0], alpha_inner[2]]\n",
    "        for edge_inner in PQzero_inner:\n",
    "            if edge_inner == alpha_e0:\n",
    "                return edge_inner\n",
    "            if edge_inner == alpha_e1:\n",
    "                return edge_inner\n",
    "            \n",
    "    crit_cell = [] # crit_cell will store critical simplices\n",
    "    # Forman_vec_pair = [] # Forman_vec_pair will store all Forman gradient pairs as a vector\n",
    "    Forman_vec_pair_VE = []\n",
    "    Forman_vec_pair_ET = []\n",
    "    if (len(LS_edge)+len(LS_filtra)) == 0: # ver is a local minimum\n",
    "        crit_cell.append([Ver]) # store minimum as an array [Ver] though it has only one element\n",
    "    elif len(LS_edge) > 0:\n",
    "        Forman_vec_pair_VE.append([Ver, LS_edge[0]]) # LS_edge[0] is the minimum edge since it is in ascending order\n",
    "        \n",
    "        # define two queues, PQzero storing all other edges, PQone storing all triangles which have only one unpaired edge\n",
    "        PQzero = deque()\n",
    "        PQone = deque()\n",
    "        PQone_ele = deque()\n",
    "        for i in range(1, len(LS_edge)): # add the other edges to PQzero\n",
    "            PQzero.append(LS_edge[i])\n",
    "            \n",
    "        cell_temp_index_of_remove = []\n",
    "        index_temp = 0\n",
    "        for cell_temp in LS_filtra:\n",
    "            if num_unpaired_edges(cell_temp, crit_cell, Forman_vec_pair_VE, Forman_vec_pair_ET) == 1:\n",
    "                PQone.append(cell_temp) # storing cells with one unpaired edges, which are triangles in TIN\n",
    "                PQone_ele.append(LS_ele[index_temp])\n",
    "                # remove cell_temp from LS_filtra\n",
    "                # LS_filtra.remove(cell_temp)\n",
    "                cell_temp_index_of_remove.append(index_temp)\n",
    "            index_temp += 1\n",
    "            \n",
    "        # remove cell_temp from LS_filtra and LS_ele\n",
    "        for i in reversed(cell_temp_index_of_remove):\n",
    "            del LS_filtra[i]\n",
    "            del LS_ele[i]\n",
    "                \n",
    "        # sort PQone in ascending order, the initial queue is already sorted when creating\n",
    "        # PQone = sorted(PQone) # sort() is not supported but we can use sorted()\n",
    "        # PQone = deque(PQone) # after sorting, PQone one will be a list instead of a queue, we need to reconstruct this queue\n",
    "        while len(PQone) > 0 or len(PQzero) > 0:\n",
    "            while len(PQone) > 0:\n",
    "                # alpha = PQone.popleft() # alpha is a triangle in the PQone\n",
    "                # alpha should be a triangle with lower elevation when PQone have more than one triangle\n",
    "                if len(PQone) > 1 and abs(PQone_ele[0][1]-PQone_ele[1][1]) < 0.000001 and PQone_ele[0][2] > PQone_ele[1][2]:\n",
    "                    alpha = PQone[1] # alpha is the second triangle\n",
    "                    del PQone[1]\n",
    "                    del PQone_ele[1]\n",
    "                else:\n",
    "                    alpha = PQone.popleft() # alpha is the first triangle, which is the same as alpha=PQone[0], then del PQone[0]\n",
    "                    del PQone_ele[0]\n",
    "                \n",
    "                if num_unpaired_edges(alpha, crit_cell, Forman_vec_pair_VE, Forman_vec_pair_ET) == 0:\n",
    "                    PQzero.append(alpha)\n",
    "                else:\n",
    "                    pair_alpha = pair_an_edge_from_PQzero(alpha, PQzero) # pair_alpha is an edge, [pair_alpha, alpha] will be a new paired vector\n",
    "                    # if pair_alpha in PQzero:\n",
    "                    PQzero.remove(pair_alpha) # remove pair_alpha from PQzero\n",
    "                    # Forman_vec_pair.append([pair_alpha, alpha]) # add the [pair_alpha, alpha], which is [edge, tri]\n",
    "                    Forman_vec_pair_ET.append([pair_alpha, alpha]) # add the [pair_alpha, alpha], which is [edge, tri]\n",
    "                    \n",
    "                    beta_cell_temp_index_of_remove = []\n",
    "                    beta_index_temp = 0\n",
    "                    for cell_beta in LS_filtra: # this can be optimized\n",
    "                        if cell_beta not in PQone and num_unpaired_edges(cell_beta, crit_cell, Forman_vec_pair_VE, Forman_vec_pair_ET) == 1:\n",
    "                            PQone.append(cell_beta)\n",
    "                            PQone_ele.append(LS_ele[beta_index_temp])\n",
    "                            # remove cell_beta from LS_tri\n",
    "                            # LS_tri.remove(cell_beta)\n",
    "                            beta_cell_temp_index_of_remove.append(beta_index_temp)\n",
    "                        beta_index_temp += 1\n",
    "                    \n",
    "                    # remove cell_beta from LS_filtra and LS_ele\n",
    "                    for i in reversed(beta_cell_temp_index_of_remove):\n",
    "                        del LS_filtra[i]\n",
    "                        del LS_ele[i]\n",
    "                    \n",
    "                    PQone = sorted(PQone)\n",
    "                    PQone = deque(PQone) # after sorting, PQone one will be a list instead of a queue, we need to reconstruct this queue\n",
    "            if len(PQzero) > 0:\n",
    "                gama = PQzero.popleft() # gama is a critical simplex\n",
    "                crit_cell.append(gama)\n",
    "                \n",
    "                gama_cell_temp_index_of_remove = []\n",
    "                gama_index_temp = 0\n",
    "                for cell_gama in LS_filtra: # this can be optimized\n",
    "                    if cell_gama not in PQone and num_unpaired_edges(cell_gama, crit_cell, Forman_vec_pair_VE, Forman_vec_pair_ET) == 1:\n",
    "                        PQone.append(cell_gama)\n",
    "                        PQone_ele.append(LS_ele[gama_index_temp])\n",
    "                        # remove cell_gama from LS_tri\n",
    "                        # LS_tri.remove(cell_gama)\n",
    "                        gama_cell_temp_index_of_remove.append(gama_index_temp)\n",
    "                    gama_index_temp += 1\n",
    "                    \n",
    "                # remove cell_beta from LS_filtra and LS_ele\n",
    "                for i in reversed(gama_cell_temp_index_of_remove):\n",
    "                    del LS_filtra[i]\n",
    "                    del LS_ele[i]\n",
    "                        \n",
    "                PQone = sorted(PQone)\n",
    "                PQone = deque(PQone) # after sorting, PQone one will be a list instead of a queue, we need to reconstruct this queue\n",
    "                \n",
    "    return crit_cell, Forman_vec_pair_VE, Forman_vec_pair_ET\n",
    "\n",
    "# StructType for Crit_cell        \n",
    "add_Crit_cell_schema = StructType([\n",
    "    StructField('Crit_cell',ArrayType(IntegerType()),True)\n",
    "])\n",
    "\n",
    "# StructType for VE pairs        \n",
    "add_VE_schema = StructType([\n",
    "    StructField(\"VE_pair_V\", IntegerType(),True), \n",
    "    StructField('VE_pair_E',ArrayType(IntegerType()),True)\n",
    "])\n",
    "\n",
    "# StructType for ET pairs        \n",
    "add_multi_ET_schema = StructType([\n",
    "    StructField(\"ET_pair_E\", ArrayType(IntegerType()),True), \n",
    "    StructField('ET_pair_T',ArrayType(IntegerType()),True)\n",
    "])\n",
    " \n",
    "# the whole StructType\n",
    "get_Forman_schema = StructType([\n",
    "    StructField(\"Crit_cell\", ArrayType(ArrayType(IntegerType())), True),\n",
    "    StructField(\"VE_pair\", ArrayType(add_VE_schema), True),\n",
    "    StructField(\"ET_pair\", ArrayType(add_multi_ET_schema), True)\n",
    "])\n",
    "\n",
    "# convert a function to an udf and determine the return type\n",
    "# https://spark.apache.org/docs/3.1.3/api/python/reference/api/pyspark.sql.functions.udf.html\n",
    "get_Forman_udf = udf(get_Forman, get_Forman_schema)"
   ]
  },
  {
   "cell_type": "code",
   "execution_count": 23,
   "id": "historic-aspect",
   "metadata": {},
   "outputs": [
    {
     "name": "stdout",
     "output_type": "stream",
     "text": [
      "root\n",
      " |-- Ver: integer (nullable = true)\n",
      " |-- VT_filtra: array (nullable = true)\n",
      " |    |-- element: array (containsNull = true)\n",
      " |    |    |-- element: integer (containsNull = true)\n",
      " |-- Forman: struct (nullable = true)\n",
      " |    |-- Crit_cell: array (nullable = true)\n",
      " |    |    |-- element: array (containsNull = true)\n",
      " |    |    |    |-- element: integer (containsNull = true)\n",
      " |    |-- VE_pair: array (nullable = true)\n",
      " |    |    |-- element: struct (containsNull = true)\n",
      " |    |    |    |-- VE_pair_V: integer (nullable = true)\n",
      " |    |    |    |-- VE_pair_E: array (nullable = true)\n",
      " |    |    |    |    |-- element: integer (containsNull = true)\n",
      " |    |-- ET_pair: array (nullable = true)\n",
      " |    |    |-- element: struct (containsNull = true)\n",
      " |    |    |    |-- ET_pair_E: array (nullable = true)\n",
      " |    |    |    |    |-- element: integer (containsNull = true)\n",
      " |    |    |    |-- ET_pair_T: array (nullable = true)\n",
      " |    |    |    |    |-- element: integer (containsNull = true)\n",
      "\n",
      "The number of partitions for df_Forman: 20\n"
     ]
    }
   ],
   "source": [
    "df_Forman = df_LS.withColumn(\"LS_Forman\", get_Forman_udf(df_LS.Ver, df_LS.LS_edge, df_LS.LS_tri_filtra, df_LS.LS_tri_ele))\n",
    "df_Forman = df_Forman.select(col(\"Ver\"), col(\"VT_filtra\"), col(\"LS_Forman\").alias(\"Forman\"))\n",
    "df_Forman.printSchema()\n",
    "print(\"The number of partitions for df_Forman:\", df_Forman.rdd.getNumPartitions())\n",
    "# df_Forman.show()"
   ]
  },
  {
   "cell_type": "code",
   "execution_count": 24,
   "id": "spare-institute",
   "metadata": {},
   "outputs": [
    {
     "name": "stdout",
     "output_type": "stream",
     "text": [
      "number of rows in df_Forman: 625\n",
      "time for computing Forman gradient: 29.716614484786987\n"
     ]
    }
   ],
   "source": [
    "# recording the time cost to compute the Forman gradient\n",
    "t_df_Forman_0 = time.time()\n",
    "num_df_Forman = df_Forman.count()\n",
    "print(\"number of rows in df_Forman:\", num_df_Forman)\n",
    "\n",
    "t_df_Forman_1 = time.time()\n",
    "\n",
    "time_Forman = t_df_Forman_1 - t_df_Forman_0\n",
    "print(\"time for computing Forman gradient:\", time_Forman)"
   ]
  },
  {
   "cell_type": "markdown",
   "id": "metric-richards",
   "metadata": {},
   "source": [
    "##### save df_Forman to HDFS"
   ]
  },
  {
   "cell_type": "code",
   "execution_count": 42,
   "id": "traditional-seeking",
   "metadata": {},
   "outputs": [
    {
     "name": "stdout",
     "output_type": "stream",
     "text": [
      "Time cost to save df_Forman in Parquet: 2.4177093505859375\n"
     ]
    }
   ],
   "source": [
    "# df_Forman = df_Forman.repartition(20)\n",
    "t_save_0 = time.time()\n",
    "\n",
    "# file_df_Forman = directory + '/' + tin_filename + '_sortForman' + '.parquet'\n",
    "# df_Forman.write.parquet(file_df_Forman) \n",
    "\n",
    "t_save_1 = time.time()\n",
    "print(\"Time cost to save df_Forman in Parquet:\", t_save_1 - t_save_0)"
   ]
  },
  {
   "cell_type": "markdown",
   "id": "identical-austin",
   "metadata": {},
   "source": [
    "# Extract critical vertices, edeges, and triangles"
   ]
  },
  {
   "cell_type": "code",
   "execution_count": 24,
   "id": "future-exhaust",
   "metadata": {},
   "outputs": [
    {
     "name": "stdout",
     "output_type": "stream",
     "text": [
      "number of partitions for df_crit: 20\n",
      "root\n",
      " |-- Ver: integer (nullable = true)\n",
      " |-- VT_filtra: array (nullable = true)\n",
      " |    |-- element: array (containsNull = true)\n",
      " |    |    |-- element: integer (containsNull = true)\n",
      " |-- Critical: array (nullable = true)\n",
      " |    |-- element: array (containsNull = true)\n",
      " |    |    |-- element: integer (containsNull = true)\n",
      "\n"
     ]
    }
   ],
   "source": [
    "df_crit = df_Forman.select(\"Ver\", \"VT_filtra\", col(\"Forman.Crit_cell\").alias(\"Critical\"))\n",
    "print(\"number of partitions for df_crit:\", df_crit.rdd.getNumPartitions())\n",
    "df_crit.printSchema()\n",
    "# df_crit.show()"
   ]
  },
  {
   "cell_type": "code",
   "execution_count": 25,
   "id": "smooth-charleston",
   "metadata": {},
   "outputs": [
    {
     "name": "stdout",
     "output_type": "stream",
     "text": [
      "number of partitions for df_crit_VET: 20\n",
      "root\n",
      " |-- Ver: integer (nullable = true)\n",
      " |-- VT_filtra: array (nullable = true)\n",
      " |    |-- element: array (containsNull = true)\n",
      " |    |    |-- element: integer (containsNull = true)\n",
      " |-- Critical: array (nullable = true)\n",
      " |    |-- element: array (containsNull = true)\n",
      " |    |    |-- element: integer (containsNull = true)\n",
      " |-- crit_cell: struct (nullable = true)\n",
      " |    |-- crit_ver: integer (nullable = true)\n",
      " |    |-- crit_edge: array (nullable = true)\n",
      " |    |    |-- element: array (containsNull = true)\n",
      " |    |    |    |-- element: integer (containsNull = true)\n",
      " |    |-- crit_tri: array (nullable = true)\n",
      " |    |    |-- element: array (containsNull = true)\n",
      " |    |    |    |-- element: integer (containsNull = true)\n",
      "\n"
     ]
    }
   ],
   "source": [
    "# split the Critical column to obtain the critical vertices, edges, and triangles\n",
    "def get_crit_VET(crit_cell):\n",
    "    if len(crit_cell) < 1: # crit_cell is empty, there are no critical simplices within this lower star\n",
    "        return\n",
    "    else:\n",
    "        # initialize the critical vertices, critical edges, and critical triangles\n",
    "        crit_ver = None\n",
    "        crit_edge = []\n",
    "        crit_tri = []\n",
    "        for icrit_cell_temp in crit_cell:\n",
    "            if len(icrit_cell_temp) == 1: # icrit_cell_temp stores a critical vertex\n",
    "                crit_ver = icrit_cell_temp[0]\n",
    "            if len(icrit_cell_temp) == 2: # icrit_cell_temp stores critical edges\n",
    "                crit_edge.append(icrit_cell_temp)\n",
    "            if len(icrit_cell_temp) == 3: # icrit_cell_temp stores critical triangles\n",
    "                crit_tri.append(icrit_cell_temp)\n",
    "        if len(crit_edge) == 0:\n",
    "            crit_edge = None\n",
    "        if len(crit_tri) == 0:\n",
    "            crit_tri = None\n",
    "        return crit_ver, crit_edge, crit_tri\n",
    "        \n",
    "# the whole StructType\n",
    "get_crit_VET_schema = StructType([\n",
    "    StructField(\"crit_ver\", IntegerType(), True),\n",
    "    StructField(\"crit_edge\", ArrayType(ArrayType(IntegerType())), True),\n",
    "    StructField(\"crit_tri\", ArrayType(ArrayType(IntegerType())), True)\n",
    "])\n",
    "\n",
    "# convert a function to an udf and determine the return type\n",
    "# https://spark.apache.org/docs/3.1.3/api/python/reference/api/pyspark.sql.functions.udf.html\n",
    "get_crit_VET_udf = udf(get_crit_VET, get_crit_VET_schema)\n",
    "\n",
    "df_crit_VET = df_crit.withColumn(\"crit_cell\", get_crit_VET_udf(df_crit.Critical))\n",
    "print(\"number of partitions for df_crit_VET:\", df_crit_VET.rdd.getNumPartitions())\n",
    "df_crit_VET.printSchema()\n",
    "# df_crit_VET.show()"
   ]
  },
  {
   "cell_type": "code",
   "execution_count": 26,
   "id": "capital-signature",
   "metadata": {},
   "outputs": [
    {
     "name": "stdout",
     "output_type": "stream",
     "text": [
      "root\n",
      " |-- Ver: integer (nullable = true)\n",
      " |-- Min_ver: integer (nullable = true)\n",
      "\n",
      "number of partitions for df_crit_V: 20\n"
     ]
    }
   ],
   "source": [
    "# to get critical vertices\n",
    "df_crit_V = df_crit_VET.select(col(\"Ver\"), col(\"crit_cell.crit_ver\").alias(\"Min_ver\")).na.drop()\n",
    "df_crit_V.printSchema()\n",
    "print(\"number of partitions for df_crit_V:\", df_crit_V.rdd.getNumPartitions())\n",
    "# df_crit_V.show()"
   ]
  },
  {
   "cell_type": "code",
   "execution_count": 27,
   "id": "greenhouse-remedy",
   "metadata": {},
   "outputs": [
    {
     "name": "stdout",
     "output_type": "stream",
     "text": [
      "number of critical vertices: 5\n"
     ]
    }
   ],
   "source": [
    "num_crit_V = df_crit_V.count()\n",
    "print(\"number of critical vertices:\", num_crit_V)"
   ]
  },
  {
   "cell_type": "code",
   "execution_count": 28,
   "id": "north-fairy",
   "metadata": {},
   "outputs": [
    {
     "name": "stdout",
     "output_type": "stream",
     "text": [
      "root\n",
      " |-- Ver: integer (nullable = true)\n",
      " |-- Saddle_edge: array (nullable = true)\n",
      " |    |-- element: integer (containsNull = true)\n",
      "\n",
      "number of partitions for df_crit_E: 20\n"
     ]
    }
   ],
   "source": [
    "# to get critical edges\n",
    "df_crit_E_init = df_crit_VET.select(col(\"Ver\"), col(\"crit_cell.crit_edge\").alias(\"Saddle_edge_init\")).na.drop()\n",
    "\n",
    "# there could be multiple saddles within one lower star\n",
    "df_crit_E = df_crit_E_init.select(col(\"Ver\"), explode(\"Saddle_edge_init\").alias(\"Saddle_edge\"))\n",
    "df_crit_E.printSchema()\n",
    "print(\"number of partitions for df_crit_E:\", df_crit_E.rdd.getNumPartitions())\n",
    "# df_crit_E.show()"
   ]
  },
  {
   "cell_type": "code",
   "execution_count": 29,
   "id": "ordinary-router",
   "metadata": {},
   "outputs": [
    {
     "name": "stdout",
     "output_type": "stream",
     "text": [
      "number of critical edges: 5\n"
     ]
    }
   ],
   "source": [
    "num_crit_E = df_crit_E.count()\n",
    "print(\"number of critical edges:\", num_crit_E)"
   ]
  },
  {
   "cell_type": "code",
   "execution_count": 30,
   "id": "miniature-acrylic",
   "metadata": {},
   "outputs": [
    {
     "name": "stdout",
     "output_type": "stream",
     "text": [
      "root\n",
      " |-- Ver: integer (nullable = true)\n",
      " |-- Max_tri: array (nullable = true)\n",
      " |    |-- element: integer (containsNull = true)\n",
      "\n",
      "number of partitions for df_crit_T: 20\n"
     ]
    }
   ],
   "source": [
    "# to get critical triangles\n",
    "df_crit_T_init = df_crit_VET.select(col(\"Ver\"), col(\"crit_cell.crit_tri\").alias(\"Max_tri_init\")).na.drop()\n",
    "\n",
    "# there could be multiple critical triangles within one lower star\n",
    "df_crit_T = df_crit_T_init.select(col(\"Ver\"), explode(\"Max_tri_init\").alias(\"Max_tri\")).na.drop()\n",
    "df_crit_T.printSchema()\n",
    "print(\"number of partitions for df_crit_T:\", df_crit_T.rdd.getNumPartitions())\n",
    "# df_crit_T.show()"
   ]
  },
  {
   "cell_type": "code",
   "execution_count": 31,
   "id": "boxed-stick",
   "metadata": {},
   "outputs": [
    {
     "name": "stdout",
     "output_type": "stream",
     "text": [
      "number of critical triangles: 1\n"
     ]
    }
   ],
   "source": [
    "num_crit_T = df_crit_T.count()\n",
    "print(\"number of critical triangles:\", num_crit_T)"
   ]
  },
  {
   "cell_type": "markdown",
   "id": "adolescent-vampire",
   "metadata": {},
   "source": [
    "# Methods to build graph V1"
   ]
  },
  {
   "cell_type": "code",
   "execution_count": 29,
   "id": "completed-damage",
   "metadata": {},
   "outputs": [
    {
     "name": "stdout",
     "output_type": "stream",
     "text": [
      "root\n",
      " |-- Ver: integer (nullable = true)\n",
      " |-- Crit_cell: array (nullable = true)\n",
      " |    |-- element: array (containsNull = true)\n",
      " |    |    |-- element: integer (containsNull = true)\n",
      " |-- VE_pair: array (nullable = true)\n",
      " |    |-- element: struct (containsNull = true)\n",
      " |    |    |-- VE_pair_V: integer (nullable = true)\n",
      " |    |    |-- VE_pair_E: array (nullable = true)\n",
      " |    |    |    |-- element: integer (containsNull = true)\n",
      "\n"
     ]
    }
   ],
   "source": [
    "# to obtain critical simplices and VE_paris from the Forman gradient\n",
    "df_Forman_VE_pairs = df_Forman.select(col(\"Ver\"), col(\"Forman.Crit_cell\").alias(\"Crit_cell\"), col(\"Forman.VE_pair\").alias(\"VE_pair\"))\n",
    "df_Forman_VE_pairs.printSchema()\n",
    "# df_Forman_VE_pairs.show()"
   ]
  },
  {
   "cell_type": "code",
   "execution_count": 43,
   "id": "disabled-concrete",
   "metadata": {},
   "outputs": [
    {
     "name": "stdout",
     "output_type": "stream",
     "text": [
      "Time cost to save df_Forman_VE_pairs in Parquet: 2.0288069248199463\n"
     ]
    }
   ],
   "source": [
    "# df_Forman_VE_pairs = df_Forman_VE_pairs.repartition(20)\n",
    "t_save_0 = time.time()\n",
    "\n",
    "# file_df_Forman_VE_pairs = directory + '/' + tin_filename + '_VE_Pairs' + '.parquet'\n",
    "# df_Forman_VE_pairs.write.format(\"parquet\").mode(\"overwrite\").save(file_df_Forman_VE_pairs)\n",
    "\n",
    "t_save_1 = time.time()\n",
    "print(\"Time cost to save df_Forman_VE_pairs in Parquet:\", t_save_1 - t_save_0)"
   ]
  },
  {
   "cell_type": "code",
   "execution_count": 30,
   "id": "seasonal-liechtenstein",
   "metadata": {},
   "outputs": [
    {
     "name": "stdout",
     "output_type": "stream",
     "text": [
      "root\n",
      " |-- V1_node: integer (nullable = true)\n",
      " |-- V1_edge: array (nullable = true)\n",
      " |    |-- element: array (containsNull = true)\n",
      " |    |    |-- element: integer (containsNull = true)\n",
      "\n"
     ]
    }
   ],
   "source": [
    "# to get the DataFrame containg all vertices and VE pairs \n",
    "df_graph_V1 = df_Forman_VE_pairs.select(col(\"Ver\").alias(\"V1_node\"), df_Forman_VE_pairs.VE_pair.VE_pair_E.alias(\"V1_edge\"))\n",
    "df_graph_V1.printSchema()"
   ]
  },
  {
   "cell_type": "markdown",
   "id": "fourth-treasure",
   "metadata": {},
   "source": [
    "### nodes of a graph"
   ]
  },
  {
   "cell_type": "code",
   "execution_count": 31,
   "id": "turkish-frame",
   "metadata": {},
   "outputs": [
    {
     "name": "stdout",
     "output_type": "stream",
     "text": [
      "root\n",
      " |-- id: integer (nullable = true)\n",
      "\n"
     ]
    }
   ],
   "source": [
    "df_graph_V1_node = df_graph_V1.select(col(\"V1_node\").alias(\"id\"))\n",
    "df_graph_V1_node.printSchema()\n",
    "# df_graph_V1_node.show()"
   ]
  },
  {
   "cell_type": "markdown",
   "id": "hungry-hygiene",
   "metadata": {},
   "source": [
    "##### repartition and save df_graph_V1_node"
   ]
  },
  {
   "cell_type": "code",
   "execution_count": 39,
   "id": "herbal-credit",
   "metadata": {},
   "outputs": [
    {
     "name": "stdout",
     "output_type": "stream",
     "text": [
      "Time cost to save Graph_VE nodes in Parquet: 2.9325485229492188e-05\n"
     ]
    }
   ],
   "source": [
    "# df_graph_V1_node = df_graph_V1_node.repartition(20)\n",
    "t_save_node_0 = time.time()\n",
    "\n",
    "# file_df_graph_V1_node = 'SigSpatial_data' + '/' + tin_filename + '_VE_node_LPA' + '.parquet'\n",
    "# df_graph_V1_node_join.write.parquet(file_df_graph_V1_node_join) \n",
    "\n",
    "t_save_node_1 = time.time()\n",
    "print(\"Time cost to save Graph_VE nodes in Parquet:\", t_save_node_1 - t_save_node_0)"
   ]
  },
  {
   "cell_type": "markdown",
   "id": "formed-illinois",
   "metadata": {},
   "source": [
    "### arcs of a graph"
   ]
  },
  {
   "cell_type": "code",
   "execution_count": 32,
   "id": "unable-episode",
   "metadata": {},
   "outputs": [
    {
     "name": "stdout",
     "output_type": "stream",
     "text": [
      "root\n",
      " |-- src: integer (nullable = true)\n",
      " |-- dst: integer (nullable = true)\n",
      "\n",
      "number of partitions for df_graph_V1_arc: 4\n"
     ]
    }
   ],
   "source": [
    "df_graph_V1_arc = df_graph_V1.select(df_graph_V1.V1_edge[0][0].alias('src'), df_graph_V1.V1_edge[0][1].alias('dst')).na.drop()\n",
    "df_graph_V1_arc.printSchema()\n",
    "print(\"number of partitions for df_graph_V1_arc:\", df_graph_V1_arc.rdd.getNumPartitions())\n",
    "# df_graph_V1_arc.show(30)"
   ]
  },
  {
   "cell_type": "markdown",
   "id": "economic-style",
   "metadata": {},
   "source": [
    "##### repartition and save the dataframe df_graph_V1_arc"
   ]
  },
  {
   "cell_type": "code",
   "execution_count": 41,
   "id": "wired-criticism",
   "metadata": {},
   "outputs": [
    {
     "name": "stdout",
     "output_type": "stream",
     "text": [
      "Time cost to save Graph_VE arcs in Parquet: 3.0040740966796875e-05\n"
     ]
    }
   ],
   "source": [
    "# df_graph_V1_arc = df_graph_V1_arc.repartition(20)\n",
    "# print(\"number of partitions for df_graph_V1_arc:\", df_graph_V1_arc.rdd.getNumPartitions())\n",
    "\n",
    "# save Graph_VE arcs to Parquet\n",
    "t_save_arc_0 = time.time()\n",
    "# file_df_graph_V1_arc = 'SigSpatial_data' + '/' + tin_filename + '_VE_arc_LPA' + '.parquet'\n",
    "# df_graph_V1_arc.write.parquet(file_df_graph_V1_arc) \n",
    "\n",
    "t_save_arc_1 = time.time()\n",
    "print(\"Time cost to save Graph_VE arcs in Parquet:\", t_save_arc_1 - t_save_arc_0)"
   ]
  },
  {
   "cell_type": "markdown",
   "id": "healthy-wheel",
   "metadata": {},
   "source": [
    "### construct a Graph_VE"
   ]
  },
  {
   "cell_type": "code",
   "execution_count": 33,
   "id": "celtic-spain",
   "metadata": {},
   "outputs": [],
   "source": [
    "graph_VE = GraphFrame(df_graph_V1_node, df_graph_V1_arc)"
   ]
  },
  {
   "cell_type": "code",
   "execution_count": 34,
   "id": "rotary-recipe",
   "metadata": {},
   "outputs": [],
   "source": [
    "# set a checkpoint directory to improve performance\n",
    "# Checkpointing regularly helps recover from failures, clean shuffle files, shorten the\n",
    "# lineage of the computation graph, and reduce the complexity of plan optimization.\n",
    "\n",
    "spark.sparkContext.setCheckpointDir('checkpoints')"
   ]
  },
  {
   "cell_type": "markdown",
   "id": "union-israel",
   "metadata": {},
   "source": [
    "##### extract connected components"
   ]
  },
  {
   "cell_type": "code",
   "execution_count": 35,
   "id": "cardiovascular-adapter",
   "metadata": {},
   "outputs": [
    {
     "name": "stdout",
     "output_type": "stream",
     "text": [
      "root\n",
      " |-- id: integer (nullable = true)\n",
      " |-- component: long (nullable = true)\n",
      "\n",
      "time cost of connected components: 23.585004091262817\n"
     ]
    }
   ],
   "source": [
    "t_con_0 = time.time()\n",
    "# result_con consists of two columns, vertex id, component\n",
    "result_con_VE = graph_VE.connectedComponents()\n",
    "result_con_VE.printSchema()\n",
    "\n",
    "t_con_1 = time.time()\n",
    "t_con = t_con_1 - t_con_0\n",
    "print(\"time cost of connected components:\",t_con)"
   ]
  },
  {
   "cell_type": "markdown",
   "id": "oriented-portal",
   "metadata": {},
   "source": [
    "##### 1) get the boundary vertices of saddles"
   ]
  },
  {
   "cell_type": "code",
   "execution_count": 36,
   "id": "bizarre-ancient",
   "metadata": {},
   "outputs": [
    {
     "name": "stdout",
     "output_type": "stream",
     "text": [
      "root\n",
      " |-- Saddle_edge: array (nullable = true)\n",
      " |    |-- element: integer (containsNull = true)\n",
      " |-- Saddle_pt0: integer (nullable = true)\n",
      "\n"
     ]
    }
   ],
   "source": [
    "df_crit_E_v0 = df_crit_E.select(col(\"Saddle_edge\"), df_crit_E.Saddle_edge[0].alias(\"Saddle_pt0\"))\n",
    "df_crit_E_v0.printSchema()"
   ]
  },
  {
   "cell_type": "code",
   "execution_count": 37,
   "id": "exempt-jesus",
   "metadata": {},
   "outputs": [
    {
     "name": "stdout",
     "output_type": "stream",
     "text": [
      "root\n",
      " |-- Saddle_edge: array (nullable = true)\n",
      " |    |-- element: integer (containsNull = true)\n",
      " |-- Saddle_bound_pt: integer (nullable = true)\n",
      "\n"
     ]
    }
   ],
   "source": [
    "df_crit_E_v1 = df_crit_E.select(col(\"Saddle_edge\"), df_crit_E.Saddle_edge[1].alias(\"Saddle_pt1\"))\n",
    "df_crit_E_pts = df_crit_E_v0.union(df_crit_E_v1).withColumnRenamed(\"Saddle_pt0\", \"Saddle_bound_pt\")\n",
    "df_crit_E_pts.printSchema()"
   ]
  },
  {
   "cell_type": "markdown",
   "id": "viral-thanksgiving",
   "metadata": {},
   "source": [
    "##### 2) inner join result_con with the boundary vertices of saddles to identify the saddles that belong to the same component; typically a saddle belongs to 2 component in Graph_VE"
   ]
  },
  {
   "cell_type": "code",
   "execution_count": 38,
   "id": "established-pickup",
   "metadata": {},
   "outputs": [
    {
     "name": "stdout",
     "output_type": "stream",
     "text": [
      "root\n",
      " |-- id: integer (nullable = true)\n",
      " |-- component: long (nullable = true)\n",
      " |-- Saddle_edge: array (nullable = true)\n",
      " |    |-- element: integer (containsNull = true)\n",
      " |-- Saddle_bound_pt: integer (nullable = true)\n",
      "\n"
     ]
    }
   ],
   "source": [
    "# broadcast left join connected components with saddles\n",
    "result_con_saddle_VE = result_con_VE.join(df_crit_E_pts,result_con_VE.id==df_crit_E_pts.Saddle_bound_pt, \"inner\")\n",
    "result_con_saddle_VE.printSchema()"
   ]
  },
  {
   "cell_type": "code",
   "execution_count": 39,
   "id": "engaged-workshop",
   "metadata": {},
   "outputs": [
    {
     "name": "stdout",
     "output_type": "stream",
     "text": [
      "root\n",
      " |-- component: long (nullable = true)\n",
      " |-- multi_Saddles: array (nullable = true)\n",
      " |    |-- element: array (containsNull = true)\n",
      " |    |    |-- element: integer (containsNull = true)\n",
      "\n"
     ]
    }
   ],
   "source": [
    "saddles_per_con_VE = result_con_saddle_VE.groupBy('component').agg(collect_list('Saddle_edge').alias('multi_Saddles'))\n",
    "saddles_per_con_VE.printSchema()"
   ]
  },
  {
   "cell_type": "code",
   "execution_count": 63,
   "id": "vital-moldova",
   "metadata": {},
   "outputs": [
    {
     "name": "stdout",
     "output_type": "stream",
     "text": [
      "Time cost to save saddles_per_con_VE in Parquet: 9.31522536277771\n"
     ]
    }
   ],
   "source": [
    "# saddles_per_con_VE = saddles_per_con_VE.repartition(20)\n",
    "t_save_0 = time.time()\n",
    "\n",
    "file_saddles_per_con_VE = directory + '/' + tin_filename + '_saddles_per_con_VE' + '.parquet'\n",
    "saddles_per_con_VE.write.parquet(file_saddles_per_con_VE) \n",
    "\n",
    "t_save_1 = time.time()\n",
    "print(\"Time cost to save saddles_per_con_VE in Parquet:\", t_save_1 - t_save_0)"
   ]
  },
  {
   "cell_type": "code",
   "execution_count": null,
   "id": "white-thriller",
   "metadata": {},
   "outputs": [],
   "source": [
    "# get the potential saddle to be simplified within each component\n",
    "# the potential saddle-minimum pair should have the minimal persistence value among all saddle-minimum pairs\n",
    "def get_mini_saddle_VE(component, multi_Saddles):\n",
    "    # get_LS is used to obtain the edges and triangles of LS in ascending order\n",
    "    # component: the id or index of the minimum of this connected component in Graph_VE\n",
    "    if len(multi_Saddles) > 0:\n",
    "        # initialize the potential minimal saddle\n",
    "        mini_saddle = multi_Saddles[0]\n",
    "        mini_saddle_persist = mini_saddle[0] # mini_saddle is a pair of vertex, and mini_saddle[0] > mini_saddle[1]\n",
    "        \n",
    "        for i in range(1, len(multi_Saddles)):\n",
    "            if multi_Saddles[i][0] < mini_saddle_persist: # multi_Saddles[i][0] is the persist value of multi_Saddles[i]\n",
    "                mini_saddle = multi_Saddles[i]\n",
    "                mini_saddle_persist = mini_saddle[0]                \n",
    "                \n",
    "        return mini_saddle\n",
    "    else:\n",
    "        return None\n",
    "\n",
    "get_mini_saddle_VE_udf = udf(get_mini_saddle_VE, ArrayType(IntegerType()))\n",
    "\n",
    "saddles_per_con_VE_mini = saddles_per_con_VE.withColumn(get_mini_saddle_VE_udf(saddles_per_con_VE.component, saddles_per_con_VE.multi_Saddles))\n",
    "saddles_per_con_VE_mini.printSchema()"
   ]
  },
  {
   "cell_type": "markdown",
   "id": "unexpected-antique",
   "metadata": {},
   "source": [
    "# Methods to build Graph_ET"
   ]
  },
  {
   "cell_type": "markdown",
   "id": "upper-polymer",
   "metadata": {},
   "source": [
    "### prepare nodes of Graph ET"
   ]
  },
  {
   "cell_type": "code",
   "execution_count": 32,
   "id": "graphic-slope",
   "metadata": {},
   "outputs": [
    {
     "name": "stdout",
     "output_type": "stream",
     "text": [
      "root\n",
      " |-- id: integer (nullable = true)\n",
      " |-- tri: array (nullable = false)\n",
      " |    |-- element: integer (containsNull = true)\n",
      "\n"
     ]
    }
   ],
   "source": [
    "# all triangles are nodes of graph V2\n",
    "df_graph_V2_node = df_tri_order.select(col(\"tri_order\").alias(\"id\"), col(\"tri\"))\n",
    "df_graph_V2_node.printSchema()"
   ]
  },
  {
   "cell_type": "code",
   "execution_count": 61,
   "id": "therapeutic-fossil",
   "metadata": {},
   "outputs": [
    {
     "name": "stdout",
     "output_type": "stream",
     "text": [
      "root\n",
      " |-- tri_order: integer (nullable = true)\n",
      " |-- tri: array (nullable = true)\n",
      " |    |-- element: integer (containsNull = true)\n",
      "\n"
     ]
    }
   ],
   "source": [
    "# add a special triangle [-1, -1, -1] as node -1; this is useful to deal with boundary elements\n",
    "# e.g., for a boundary edge, it has only one coboundary triangle; to guarantee a consistent encoding, each edge has two coboundary triangels, the other coboundary triangle for a boundary edge is [-1,-1,-1]\n",
    "# columns_special = ['tri', 'V2_node']\n",
    "value_special = [(-1, [-1, -1, -1])]\n",
    "schema_special = StructType([\n",
    "    StructField('tri_order', IntegerType(),True),\n",
    "    StructField(\"tri\", ArrayType(IntegerType()),True)    \n",
    "])\n",
    "df_special_V2_node = spark.createDataFrame(value_special, schema_special)\n",
    "df_special_V2_node.printSchema()"
   ]
  },
  {
   "cell_type": "markdown",
   "id": "sunrise-stranger",
   "metadata": {},
   "source": [
    "##### nodes of Graph_ET"
   ]
  },
  {
   "cell_type": "code",
   "execution_count": 62,
   "id": "statistical-montreal",
   "metadata": {},
   "outputs": [
    {
     "name": "stdout",
     "output_type": "stream",
     "text": [
      "root\n",
      " |-- id: integer (nullable = true)\n",
      "\n"
     ]
    }
   ],
   "source": [
    "df_graph_V2_node = df_graph_V2_node.union(df_special_V2_node)\n",
    "df_graph_V2_node_final = df_graph_V2_node.select(col(\"tri_order\").alias(\"id\"))\n",
    "df_graph_V2_node_final.printSchema()"
   ]
  },
  {
   "cell_type": "markdown",
   "id": "adjustable-doctrine",
   "metadata": {},
   "source": [
    "### prepare arcs of Graph_ET"
   ]
  },
  {
   "cell_type": "code",
   "execution_count": 33,
   "id": "regular-midnight",
   "metadata": {},
   "outputs": [
    {
     "name": "stdout",
     "output_type": "stream",
     "text": [
      "root\n",
      " |-- Ver: integer (nullable = true)\n",
      " |-- VT_filtra: array (nullable = true)\n",
      " |    |-- element: array (containsNull = true)\n",
      " |    |    |-- element: integer (containsNull = true)\n",
      " |-- ET_pair: array (nullable = true)\n",
      " |    |-- element: struct (containsNull = true)\n",
      " |    |    |-- ET_pair_E: array (nullable = true)\n",
      " |    |    |    |-- element: integer (containsNull = true)\n",
      " |    |    |-- ET_pair_T: array (nullable = true)\n",
      " |    |    |    |-- element: integer (containsNull = true)\n",
      "\n"
     ]
    }
   ],
   "source": [
    "# Method: firstly extract df_Forman_ET_pair from df_Forman\n",
    "df_Forman_ET_pair = df_Forman.select(col(\"Ver\"), col(\"VT_filtra\"), col(\"Forman.ET_pair\").alias(\"ET_pair\"))\n",
    "df_Forman_ET_pair.printSchema()\n",
    "# df_Forman_ET_pair.show()"
   ]
  },
  {
   "cell_type": "code",
   "execution_count": 34,
   "id": "invalid-soldier",
   "metadata": {},
   "outputs": [
    {
     "name": "stdout",
     "output_type": "stream",
     "text": [
      "root\n",
      " |-- Ver: integer (nullable = true)\n",
      " |-- ET_pair_inTri: array (nullable = true)\n",
      " |    |-- element: struct (containsNull = true)\n",
      " |    |    |-- ET_pair_co_t: array (nullable = true)\n",
      " |    |    |    |-- element: integer (containsNull = true)\n",
      " |    |    |-- ET_pair_t: array (nullable = true)\n",
      " |    |    |    |-- element: integer (containsNull = true)\n",
      "\n"
     ]
    }
   ],
   "source": [
    "# retrieve co-boundary triangles (ET relation)\n",
    "def get_co_tri(VT, ET_pair):\n",
    "    if len(ET_pair) > 0:\n",
    "        co_tri_pair = []\n",
    "        num_ET_pair = len(ET_pair) # obtain the number of ET_pairs\n",
    "        def Co_tri(e,t,vt):\n",
    "            # e is sorted\n",
    "            for t_temp in vt:\n",
    "                # e0 = sorted([vt[0], vt[1]], reverse=True) # sort the edge in descending order\n",
    "                e0 = [t_temp[0], t_temp[1]] # e0, e1, and e2 are in descending order by default\n",
    "                e1 = [t_temp[0], t_temp[2]]\n",
    "                e2 = [t_temp[1], t_temp[2]]\n",
    "                t = [int(t[0]), int(t[1]), int(t[2])]\n",
    "                t_temp = [int(t_temp[0]), int(t_temp[1]), int(t_temp[2])]\n",
    "                # if e==e0 or e==e1 or e==e2 and t != t_temp:\n",
    "                if e==e0 or e==e1 or e==e2:\n",
    "                    if t != t_temp:\n",
    "                        return t_temp # t_temp is a coboundary triangle of t in vt\n",
    "                \n",
    "        for i in range(num_ET_pair):\n",
    "            ET_pair_e = ET_pair[i]['ET_pair_E'] # the i-th ET_pair\n",
    "            ET_pair_t = ET_pair[i]['ET_pair_T']\n",
    "            ET_pair_co_t = Co_tri(ET_pair_e, ET_pair_t, VT)\n",
    "            # if ET_pair_co_t is None: # len(ET_pair_co_t) is empty, boundary triangles\n",
    "                # ET_pair_co_t = [-1, -1, -1]\n",
    "            co_tri_pair.append([ET_pair_co_t, ET_pair_t])\n",
    "            \n",
    "        return co_tri_pair\n",
    "    \n",
    "# the whole StructType\n",
    "get_co_tri_schema = StructType([\n",
    "    StructField(\"ET_pair_co_t\", ArrayType(IntegerType()), True),\n",
    "    StructField(\"ET_pair_t\", ArrayType(IntegerType()), True)\n",
    "])\n",
    "\n",
    "# convert a function to an udf and determine the return type\n",
    "# https://spark.apache.org/docs/3.1.3/api/python/reference/api/pyspark.sql.functions.udf.html\n",
    "get_co_tri_udf = udf(get_co_tri, ArrayType(get_co_tri_schema))\n",
    "\n",
    "df_Forman_V2_edge = df_Forman_ET_pair.withColumn(\"ET_pair_inTri\", get_co_tri_udf(df_Forman_ET_pair.VT_filtra, df_Forman_ET_pair.ET_pair))\n",
    "df_Forman_V2_edge = df_Forman_V2_edge.select(col(\"Ver\"), col(\"ET_pair_inTri\"))\n",
    "df_Forman_V2_edge.printSchema()"
   ]
  },
  {
   "cell_type": "markdown",
   "id": "electoral-gothic",
   "metadata": {},
   "source": [
    "##### construct Graph_ET reversely, set src nodes as dst nodes, and dst nodes as src nodes"
   ]
  },
  {
   "cell_type": "code",
   "execution_count": 36,
   "id": "informed-january",
   "metadata": {},
   "outputs": [
    {
     "name": "stdout",
     "output_type": "stream",
     "text": [
      "root\n",
      " |-- arc_dst: array (nullable = true)\n",
      " |    |-- element: integer (containsNull = true)\n",
      " |-- arc_src: array (nullable = true)\n",
      " |    |-- element: integer (containsNull = true)\n",
      "\n"
     ]
    }
   ],
   "source": [
    "# explode df_Forman_V2_edge\n",
    "df_Forman_V2_edge_split = df_Forman_V2_edge.select(explode(df_Forman_V2_edge.ET_pair_inTri).alias(\"ET_pair_src_dst\"))\n",
    "\n",
    "df_Forman_V2_edge_split = df_Forman_V2_edge_split.select(col(\"ET_pair_src_dst.ET_pair_co_t\").alias(\"arc_dst\"), col(\"ET_pair_src_dst.ET_pair_t\").alias(\"arc_src\")).na.drop()\n",
    "df_Forman_V2_edge_split.printSchema()"
   ]
  },
  {
   "cell_type": "code",
   "execution_count": 37,
   "id": "electric-cursor",
   "metadata": {},
   "outputs": [
    {
     "name": "stdout",
     "output_type": "stream",
     "text": [
      "root\n",
      " |-- arc_dst: array (nullable = true)\n",
      " |    |-- element: integer (containsNull = true)\n",
      " |-- src: integer (nullable = true)\n",
      "\n"
     ]
    }
   ],
   "source": [
    "# join two DataFrames by df_Forman_V2_edge_split.arc_src == df_Forman_V2_edge_split.arc_des\n",
    "df_Forman_V2_edge_split_src = df_Forman_V2_edge_split.join(df_graph_V2_node, df_Forman_V2_edge_split.arc_src == df_graph_V2_node.tri, \"left\")\n",
    "df_Forman_V2_edge_split_src = df_Forman_V2_edge_split_src.select(col(\"arc_dst\"), col(\"id\").alias(\"src\"))\n",
    "df_Forman_V2_edge_split_src.printSchema()"
   ]
  },
  {
   "cell_type": "code",
   "execution_count": 38,
   "id": "traditional-english",
   "metadata": {},
   "outputs": [],
   "source": [
    "# join two DataFrames by df_Forman_V2_edge_split.arc_src == df_Forman_V2_edge_split.arc_des\n",
    "df_Forman_V2_edge_split_dst = df_Forman_V2_edge_split_src.join(df_graph_V2_node, df_Forman_V2_edge_split_src.arc_dst == df_graph_V2_node.tri, \"left\")\n",
    "df_Forman_V2_edge_split_dst = df_Forman_V2_edge_split_dst.select(col(\"src\"), col(\"id\").alias(\"dst\"))"
   ]
  },
  {
   "cell_type": "markdown",
   "id": "brave-budapest",
   "metadata": {},
   "source": [
    "##### arcs of Graph_ET"
   ]
  },
  {
   "cell_type": "code",
   "execution_count": 39,
   "id": "naked-boulder",
   "metadata": {},
   "outputs": [
    {
     "name": "stdout",
     "output_type": "stream",
     "text": [
      "root\n",
      " |-- src: integer (nullable = true)\n",
      " |-- dst: integer (nullable = true)\n",
      "\n"
     ]
    }
   ],
   "source": [
    "df_graph_V2_edge_final = df_Forman_V2_edge_split_dst\n",
    "df_graph_V2_edge_final.printSchema()"
   ]
  },
  {
   "cell_type": "markdown",
   "id": "written-grace",
   "metadata": {},
   "source": [
    "### Construct a Graph_ET"
   ]
  },
  {
   "cell_type": "code",
   "execution_count": 40,
   "id": "editorial-fleet",
   "metadata": {},
   "outputs": [
    {
     "name": "stdout",
     "output_type": "stream",
     "text": [
      "type of graph_V2: <class 'graphframes.graphframe.GraphFrame'>\n"
     ]
    }
   ],
   "source": [
    "graph_ET = GraphFrame(df_graph_V2_node, df_graph_V2_edge_final)\n",
    "\n",
    "print(\"type of graph_V2:\", type(graph_ET))"
   ]
  },
  {
   "cell_type": "code",
   "execution_count": 41,
   "id": "functioning-agency",
   "metadata": {},
   "outputs": [],
   "source": [
    "# set a checkpoint directory to improve performance\n",
    "# Checkpointing regularly helps recover from failures, clean shuffle files, shorten the\n",
    "# lineage of the computation graph, and reduce the complexity of plan optimization.\n",
    "\n",
    "spark.sparkContext.setCheckpointDir('checkpoints')"
   ]
  },
  {
   "cell_type": "markdown",
   "id": "photographic-bridal",
   "metadata": {},
   "source": [
    "##### extract connected components"
   ]
  },
  {
   "cell_type": "code",
   "execution_count": 42,
   "id": "fifth-three",
   "metadata": {},
   "outputs": [
    {
     "name": "stdout",
     "output_type": "stream",
     "text": [
      "root\n",
      " |-- id: integer (nullable = true)\n",
      " |-- tri: array (nullable = false)\n",
      " |    |-- element: integer (containsNull = true)\n",
      " |-- component: long (nullable = true)\n",
      "\n",
      "time cost of connected components: 28.667405128479004\n"
     ]
    }
   ],
   "source": [
    "t_con_0 = time.time()\n",
    "# result_con consists of two columns, vertex id, component\n",
    "result_con_ET = graph_ET.connectedComponents()\n",
    "result_con_ET.printSchema()\n",
    "\n",
    "t_con_1 = time.time()\n",
    "t_con = t_con_1 - t_con_0\n",
    "print(\"time cost of connected components:\",t_con)"
   ]
  },
  {
   "cell_type": "markdown",
   "id": "detected-riding",
   "metadata": {},
   "source": [
    "##### 1)  get the co-boundary triangles of saddles"
   ]
  },
  {
   "cell_type": "code",
   "execution_count": 90,
   "id": "physical-graduate",
   "metadata": {},
   "outputs": [
    {
     "name": "stdout",
     "output_type": "stream",
     "text": [
      "root\n",
      " |-- Ver: integer (nullable = true)\n",
      " |-- VT_filtra: array (nullable = true)\n",
      " |    |-- element: array (containsNull = true)\n",
      " |    |    |-- element: integer (containsNull = true)\n",
      " |-- Saddle_edge: array (nullable = true)\n",
      " |    |-- element: integer (containsNull = true)\n",
      "\n"
     ]
    }
   ],
   "source": [
    "# to get critical edges\n",
    "df_crit_E_VT = df_crit_VET.select(col(\"Ver\"), col(\"VT_filtra\"), col(\"crit_cell.crit_edge\").alias(\"Saddle_edge_init\")).na.drop()\n",
    "\n",
    "# there could be multiple saddles within one lower star\n",
    "df_crit_E_VT = df_crit_E_VT.select(col(\"Ver\"), col(\"VT_filtra\"), explode(\"Saddle_edge_init\").alias(\"Saddle_edge\"))\n",
    "df_crit_E_VT.printSchema()"
   ]
  },
  {
   "cell_type": "code",
   "execution_count": 91,
   "id": "linear-given",
   "metadata": {},
   "outputs": [
    {
     "name": "stdout",
     "output_type": "stream",
     "text": [
      "root\n",
      " |-- Saddle_edge: array (nullable = true)\n",
      " |    |-- element: integer (containsNull = true)\n",
      " |-- saddle_edge_Tri: array (nullable = true)\n",
      " |    |-- element: array (containsNull = true)\n",
      " |    |    |-- element: integer (containsNull = true)\n",
      "\n"
     ]
    }
   ],
   "source": [
    "# retrieve co-boundary triangles\n",
    "def get_saddle_edge_tri(Saddle_edge, VT):\n",
    "    if len(VT) > 0:\n",
    "        e = Saddle_edge\n",
    "        tri_12 = []\n",
    "        num_VT = len(VT) # obtain the number of ET_pairs\n",
    "        for t_temp in VT:\n",
    "            e0 = [t_temp[0], t_temp[1]] # e0, e1, and e2 are in descending order by default\n",
    "            e1 = [t_temp[0], t_temp[2]]\n",
    "            e2 = [t_temp[1], t_temp[2]]\n",
    "            if e==e0 or e==e1 or e==e2:\n",
    "                tri_12.append(t_temp)\n",
    "            # if len(tri_12) == 2: # Maybe this triangle is at the boundary, so it has only one corresponding triangle in VT\n",
    "                # break\n",
    "        '''\n",
    "        if len(tri_12) == 1:\n",
    "            t_special = [-1,-1,-1]\n",
    "            tri_12.append(t_special)\n",
    "        '''\n",
    "            \n",
    "        return tri_12\n",
    "    \n",
    "# the whole StructType\n",
    "get_saddle_edge_tri_schema = StructType([\n",
    "    StructField(\"Saddle_co_t1\", ArrayType(IntegerType()), True),\n",
    "    StructField(\"Saddle_co_t2\", ArrayType(IntegerType()), True)\n",
    "])\n",
    "\n",
    "# convert a function to an udf and determine the return type\n",
    "# https://spark.apache.org/docs/3.1.3/api/python/reference/api/pyspark.sql.functions.udf.html\n",
    "get_saddle_edge_tri_udf = udf(get_saddle_edge_tri, ArrayType(ArrayType(IntegerType())))\n",
    "\n",
    "df_crit_E_tri = df_crit_E_VT.withColumn(\"saddle_edge_Tri\", get_saddle_edge_tri_udf(df_crit_E_VT.Saddle_edge, df_crit_E_VT.VT_filtra))\n",
    "df_crit_E_tri = df_crit_E_tri.select(\"Saddle_edge\", \"saddle_edge_Tri\")\n",
    "df_crit_E_tri.printSchema()\n",
    "# df_crit_E_tri.show()"
   ]
  },
  {
   "cell_type": "code",
   "execution_count": 92,
   "id": "driven-sarah",
   "metadata": {},
   "outputs": [
    {
     "name": "stdout",
     "output_type": "stream",
     "text": [
      "root\n",
      " |-- Saddle_edge: array (nullable = true)\n",
      " |    |-- element: integer (containsNull = true)\n",
      " |-- Saddle_Co_t: array (nullable = true)\n",
      " |    |-- element: integer (containsNull = true)\n",
      "\n"
     ]
    }
   ],
   "source": [
    "df_crit_E_Co_t0 = df_crit_E_tri.select(\"Saddle_edge\", df_crit_E_tri.saddle_edge_Tri[0].alias(\"Saddle_Co_t0\"))\n",
    "df_crit_E_Co_t1 = df_crit_E_tri.select(\"Saddle_edge\", df_crit_E_tri.saddle_edge_Tri[1].alias(\"Saddle_Co_t1\"))\n",
    "\n",
    "df_crit_E_Co_tris = df_crit_E_Co_t0.union(df_crit_E_Co_t1)\n",
    "df_crit_E_Co_tris = df_crit_E_Co_tris.withColumnRenamed(\"Saddle_Co_t0\", \"Saddle_Co_t\")\n",
    "\n",
    "df_crit_E_Co_tris.printSchema()"
   ]
  },
  {
   "cell_type": "markdown",
   "id": "perfect-momentum",
   "metadata": {},
   "source": [
    "##### 2) inner join result_con with the co-boundary triangles of saddles to identify the saddles that belong to the same component; typically a saddle belongs to 2 component in Graph_ET"
   ]
  },
  {
   "cell_type": "code",
   "execution_count": 67,
   "id": "essential-template",
   "metadata": {},
   "outputs": [
    {
     "name": "stdout",
     "output_type": "stream",
     "text": [
      "root\n",
      " |-- id: integer (nullable = true)\n",
      " |-- tri: array (nullable = true)\n",
      " |    |-- element: integer (containsNull = true)\n",
      " |-- component: long (nullable = true)\n",
      " |-- Saddle_edge: array (nullable = true)\n",
      " |    |-- element: integer (containsNull = true)\n",
      " |-- Saddle_Co_t: array (nullable = true)\n",
      " |    |-- element: integer (containsNull = true)\n",
      "\n"
     ]
    }
   ],
   "source": [
    "# broadcast left join connected components with saddles\n",
    "result_con_saddle_ET = result_con_ET.join(df_crit_E_Co_tris,result_con_ET.tri==df_crit_E_Co_tris.Saddle_Co_t, \"inner\")\n",
    "result_con_saddle_ET.printSchema()"
   ]
  },
  {
   "cell_type": "code",
   "execution_count": 68,
   "id": "dirty-produce",
   "metadata": {},
   "outputs": [
    {
     "name": "stdout",
     "output_type": "stream",
     "text": [
      "root\n",
      " |-- component: long (nullable = true)\n",
      " |-- multi_Saddles: array (nullable = true)\n",
      " |    |-- element: array (containsNull = true)\n",
      " |    |    |-- element: integer (containsNull = true)\n",
      "\n"
     ]
    }
   ],
   "source": [
    "saddles_per_con_ET = result_con_saddle_ET.groupBy('component').agg(collect_list('Saddle_edge').alias('multi_Saddles'))\n",
    "saddles_per_con_ET.printSchema()"
   ]
  },
  {
   "cell_type": "markdown",
   "id": "interior-reading",
   "metadata": {},
   "source": [
    "##### 3) inner join result_con with critical triangles to identify the component id of critical triangle "
   ]
  },
  {
   "cell_type": "code",
   "execution_count": 75,
   "id": "female-tokyo",
   "metadata": {},
   "outputs": [
    {
     "name": "stdout",
     "output_type": "stream",
     "text": [
      "root\n",
      " |-- Max_tri: array (nullable = true)\n",
      " |    |-- element: integer (containsNull = true)\n",
      " |-- id: integer (nullable = true)\n",
      " |-- tri: array (nullable = true)\n",
      " |    |-- element: integer (containsNull = true)\n",
      " |-- component: long (nullable = true)\n",
      "\n"
     ]
    }
   ],
   "source": [
    "df_crit_T_con = df_crit_T.join(result_con_ET, df_crit_T.Max_tri==result_con_ET.tri)\n",
    "df_crit_T_con.printSchema()"
   ]
  },
  {
   "cell_type": "code",
   "execution_count": 47,
   "id": "exempt-services",
   "metadata": {},
   "outputs": [
    {
     "name": "stdout",
     "output_type": "stream",
     "text": [
      "root\n",
      " |-- Ver: integer (nullable = true)\n",
      " |-- Saddle_edge: array (nullable = true)\n",
      " |    |-- element: integer (containsNull = true)\n",
      " |-- VT_filtra: array (nullable = true)\n",
      " |    |-- element: array (containsNull = true)\n",
      " |    |    |-- element: integer (containsNull = true)\n",
      "\n"
     ]
    }
   ],
   "source": [
    "# join two DataFrames to obatin VE relation\n",
    "# https://sparkbyexamples.com/pyspark/pyspark-join-explained-with-examples/\n",
    "df_crit_E_VT = df_crit_E.join(df_VT, df_crit_E.Ver == df_VT.Ver, \"left\")\n",
    "df_crit_E_VT = df_crit_E_VT.select(df_crit_E.Ver, \"Saddle_edge\", \"VT_filtra\")\n",
    "df_crit_E_VT.printSchema()\n",
    "# df_crit_E_VT.show()"
   ]
  },
  {
   "cell_type": "code",
   "execution_count": 48,
   "id": "exciting-carbon",
   "metadata": {},
   "outputs": [
    {
     "name": "stdout",
     "output_type": "stream",
     "text": [
      "root\n",
      " |-- saddle_edge_Tri: array (nullable = true)\n",
      " |    |-- element: array (containsNull = true)\n",
      " |    |    |-- element: integer (containsNull = true)\n",
      "\n"
     ]
    }
   ],
   "source": [
    "# retrieve co-boundary triangles\n",
    "def get_saddle_edge_tri(Saddle_edge, VT):\n",
    "    if len(VT) > 0:\n",
    "        e = Saddle_edge\n",
    "        tri_12 = []\n",
    "        num_VT = len(VT) # obtain the number of ET_pairs\n",
    "        for t_temp in VT:\n",
    "            e0 = [t_temp[0], t_temp[1]] # e0, e1, and e2 are in descending order by default\n",
    "            e1 = [t_temp[0], t_temp[2]]\n",
    "            e2 = [t_temp[1], t_temp[2]]\n",
    "            if e==e0 or e==e1 or e==e2:\n",
    "                tri_12.append(t_temp)\n",
    "            # if len(tri_12) == 2: # Maybe this triangle is at the boundary, so it has only one corresponding triangle in VT\n",
    "                # break\n",
    "        '''\n",
    "        if len(tri_12) == 1:\n",
    "            t_special = [-1,-1,-1]\n",
    "            tri_12.append(t_special)\n",
    "        '''\n",
    "            \n",
    "        return tri_12\n",
    "    \n",
    "# the whole StructType\n",
    "get_saddle_edge_tri_schema = StructType([\n",
    "    StructField(\"Saddle_edge_t1\", ArrayType(IntegerType()), True),\n",
    "    StructField(\"Saddle_edge_t2\", ArrayType(IntegerType()), True)\n",
    "])\n",
    "\n",
    "# convert a function to an udf and determine the return type\n",
    "# https://spark.apache.org/docs/3.1.3/api/python/reference/api/pyspark.sql.functions.udf.html\n",
    "get_saddle_edge_tri_udf = udf(get_saddle_edge_tri, ArrayType(ArrayType(IntegerType())))\n",
    "\n",
    "df_crit_E_tri = df_crit_E_VT.withColumn(\"saddle_edge_Tri\", get_saddle_edge_tri_udf(df_crit_E_VT.Saddle_edge, df_crit_E_VT.VT_filtra))\n",
    "df_crit_E_tri = df_crit_E_tri.select(col(\"saddle_edge_Tri\"))\n",
    "df_crit_E_tri.printSchema()\n",
    "# df_crit_E_tri.show()"
   ]
  },
  {
   "cell_type": "code",
   "execution_count": 56,
   "id": "stable-bookmark",
   "metadata": {},
   "outputs": [
    {
     "name": "stdout",
     "output_type": "stream",
     "text": [
      "root\n",
      " |-- saddle_edge_Tri_split: array (nullable = true)\n",
      " |    |-- element: integer (containsNull = true)\n",
      "\n"
     ]
    }
   ],
   "source": [
    "# obtain the saddle tri\n",
    "df_crit_E2tri = df_crit_E_tri.select(explode(\"saddle_edge_Tri\").alias(\"saddle_edge_Tri_split\"))\n",
    "# some nodes may belong to multiple saddles, we need to remove them\n",
    "df_crit_E2tri = df_crit_E2tri.distinct()\n",
    "df_crit_E2tri.printSchema()"
   ]
  },
  {
   "cell_type": "code",
   "execution_count": 58,
   "id": "incoming-strike",
   "metadata": {},
   "outputs": [
    {
     "name": "stdout",
     "output_type": "stream",
     "text": [
      "root\n",
      " |-- saddle_edge_Tri_split_id: integer (nullable = true)\n",
      "\n"
     ]
    }
   ],
   "source": [
    "# left join df_crit_E2tri with df_graph_V2_node to obtain corresponding id of tri\n",
    "df_crit_E2tri = df_crit_E2tri.join(df_graph_V2_node, df_crit_E2tri.saddle_edge_Tri_split == df_graph_V2_node.tri, \"left\")\n",
    "df_crit_E2tri = df_crit_E2tri.select(col('id').alias('saddle_edge_Tri_split_id'))\n",
    "df_crit_E2tri.printSchema()"
   ]
  },
  {
   "cell_type": "code",
   "execution_count": 60,
   "id": "atlantic-vegetation",
   "metadata": {},
   "outputs": [
    {
     "name": "stdout",
     "output_type": "stream",
     "text": [
      "number of partitions for result_con_saddle: 20\n",
      "root\n",
      " |-- id: integer (nullable = true)\n",
      " |-- tri: array (nullable = false)\n",
      " |    |-- element: integer (containsNull = true)\n",
      " |-- component: long (nullable = true)\n",
      " |-- saddle_edge_Tri_split_id: integer (nullable = true)\n",
      "\n"
     ]
    }
   ],
   "source": [
    "# identify the saddle tri that each component have\n",
    "result_con_saddle = result_con_ET.join(df_crit_E2tri,result_con_ET.id==df_crit_E2tri.saddle_edge_Tri_split_id, \"inner\")\n",
    "\n",
    "print(\"number of partitions for result_con_saddle:\", result_con_saddle.rdd.getNumPartitions())\n",
    "result_con_saddle.printSchema()\n",
    "# result_con_saddle.show(30)"
   ]
  },
  {
   "cell_type": "code",
   "execution_count": 61,
   "id": "voluntary-huntington",
   "metadata": {},
   "outputs": [
    {
     "name": "stdout",
     "output_type": "stream",
     "text": [
      "root\n",
      " |-- component: long (nullable = true)\n",
      " |-- multi_SdlTris: array (nullable = true)\n",
      " |    |-- element: integer (containsNull = true)\n",
      "\n"
     ]
    }
   ],
   "source": [
    "# obtain all saddle tris for each connected component\n",
    "unique_SdlTris_per_con = result_con_saddle.groupBy('component').agg(collect_list('id').alias('multi_SdlTris'))\n",
    "unique_SdlTris_per_con.printSchema()"
   ]
  },
  {
   "cell_type": "code",
   "execution_count": 62,
   "id": "prescribed-romania",
   "metadata": {},
   "outputs": [
    {
     "name": "stdout",
     "output_type": "stream",
     "text": [
      "root\n",
      " |-- src: integer (nullable = true)\n",
      " |-- dst: integer (nullable = true)\n",
      " |-- tri: array (nullable = true)\n",
      " |    |-- element: integer (containsNull = true)\n",
      " |-- component: long (nullable = true)\n",
      "\n"
     ]
    }
   ],
   "source": [
    "# left join df_graph_V1_arc with result_con to identify which component that each arc belongs to\n",
    "df_G_V2_arc_component = df_graph_V2_edge_final.join(result_con_ET,df_graph_V2_edge_final.src==result_con_ET.id, \"left\").drop('id')\n",
    "df_G_V2_arc_component.printSchema()"
   ]
  },
  {
   "cell_type": "code",
   "execution_count": 63,
   "id": "ideal-muscle",
   "metadata": {},
   "outputs": [],
   "source": [
    "from pyspark.sql.functions import create_map"
   ]
  },
  {
   "cell_type": "code",
   "execution_count": 64,
   "id": "amber-wages",
   "metadata": {},
   "outputs": [
    {
     "name": "stdout",
     "output_type": "stream",
     "text": [
      "root\n",
      " |-- component: long (nullable = true)\n",
      " |-- multi_SdlTris: array (nullable = true)\n",
      " |    |-- element: integer (containsNull = true)\n",
      " |-- subgraphs: array (nullable = true)\n",
      " |    |-- element: map (containsNull = true)\n",
      " |    |    |-- key: integer\n",
      " |    |    |-- value: integer (valueContainsNull = true)\n",
      "\n"
     ]
    }
   ],
   "source": [
    "# convert each arc to a dictionary\n",
    "df_G_V2_arc_component_dict = df_G_V2_arc_component.withColumn(\"arcs\", create_map(col('src'), col('dst'))).drop('src','dst')\n",
    "\n",
    "# combine dictionaries belonging to an identical component to one list\n",
    "df_G_V2_arc_component_dict_gpy = df_G_V2_arc_component_dict.groupBy('component').agg(collect_list('arcs').alias('subgraphs'))\n",
    "\n",
    "# left join df_G_V1_arc_component_dict_gpy with unique_SdlPts_per_con to obtain SdlPts belonging to each component\n",
    "df_G_V2_arc_component_dict_gpy = df_G_V2_arc_component_dict_gpy.join(unique_SdlTris_per_con,df_G_V2_arc_component_dict_gpy.component==unique_SdlTris_per_con.component, \"left\").select(df_G_V2_arc_component_dict_gpy.component, 'multi_SdlTris', 'subgraphs')\n",
    "df_G_V2_arc_component_dict_gpy.printSchema()"
   ]
  },
  {
   "cell_type": "code",
   "execution_count": 65,
   "id": "contrary-consortium",
   "metadata": {},
   "outputs": [],
   "source": [
    "def bfs_rdd(component, multi_SdlTris, subgraphs):\n",
    "    # Perform a breadth-first search on a single graph\n",
    "    \n",
    "    # subgraphs is a list of dictionaries, we need to convert it to a single dictionary\n",
    "    subgraphs_dict = {}\n",
    "    # merge all sub-dictionaries to one single dictionary\n",
    "    for d in subgraphs:\n",
    "        subgraphs_dict = {**subgraphs_dict, **d}\n",
    "        \n",
    "    visited = set()\n",
    "    queue = multi_SdlTris\n",
    "    while queue:\n",
    "        node = queue.pop(0)\n",
    "        print(\"node:\",node)\n",
    "        if node not in visited:\n",
    "            visited.add(node)\n",
    "            neighbors = subgraphs_dict.get(node, [])\n",
    "            if neighbors != []:\n",
    "                queue.append(neighbors)\n",
    "                \n",
    "    visited = list(visited)\n",
    "    return component, visited"
   ]
  },
  {
   "cell_type": "code",
   "execution_count": 66,
   "id": "false-residence",
   "metadata": {},
   "outputs": [
    {
     "name": "stdout",
     "output_type": "stream",
     "text": [
      "num_df_V2_result: 29\n",
      "Time cost to extract V2-Paths: 9.146892070770264\n"
     ]
    }
   ],
   "source": [
    "# Use mapPartitions to apply the bfs function to each partition of the RDD\n",
    "# Each partition corresponds to a single graph that is processed by a single executor\n",
    "t_V2_0 = time.time()\n",
    "\n",
    "df_V2_result = df_G_V2_arc_component_dict_gpy.rdd.map(lambda partition: bfs_rdd(partition['component'], partition['multi_SdlTris'], partition['subgraphs'])).toDF()\n",
    "# V2_result_col = V2_result.collect()\n",
    "num_df_V2_result = df_V2_result.count()\n",
    "print(\"num_df_V2_result:\", num_df_V2_result)\n",
    "\n",
    "t_V2_1 = time.time()\n",
    "print(\"Time cost to extract V2-Paths:\", t_V2_1 - t_V2_0)"
   ]
  },
  {
   "cell_type": "code",
   "execution_count": 67,
   "id": "amateur-savannah",
   "metadata": {},
   "outputs": [],
   "source": [
    "df_V2_result_col = df_V2_result.collect()"
   ]
  },
  {
   "cell_type": "code",
   "execution_count": 68,
   "id": "optimum-feature",
   "metadata": {},
   "outputs": [
    {
     "data": {
      "text/plain": [
       "29"
      ]
     },
     "execution_count": 68,
     "metadata": {},
     "output_type": "execute_result"
    }
   ],
   "source": [
    "len(df_V2_result_col)"
   ]
  },
  {
   "cell_type": "code",
   "execution_count": 71,
   "id": "charming-disaster",
   "metadata": {},
   "outputs": [
    {
     "data": {
      "text/plain": [
       "[Row(_1=4, _2=[]),\n",
       " Row(_1=817, _2=[]),\n",
       " Row(_1=1009, _2=[]),\n",
       " Row(_1=388, _2=[]),\n",
       " Row(_1=578, _2=[]),\n",
       " Row(_1=384, _2=[]),\n",
       " Row(_1=0, _2=[]),\n",
       " Row(_1=6, _2=[]),\n",
       " Row(_1=40, _2=[]),\n",
       " Row(_1=400, _2=[512, 513, 896, 897, 654, 1040, 785, 1041, 787, 786, 789, 657, 792, 793, 794, 795, 796, 797, 414, 798, 799, 417, 802, 801, 804, 805, 806, 807, 808, 809, 810, 811, 812, 813, 814, 815, 560, 561, 944, 945, 1088, 1089, 704, 705, 462, 463, 846, 849, 606, 736, 993, 992, 739, 740, 609, 742, 743, 745, 750, 1136, 1137, 752, 755, 753, 510])]"
      ]
     },
     "execution_count": 71,
     "metadata": {},
     "output_type": "execute_result"
    }
   ],
   "source": [
    "df_V2_result_col[0:10]"
   ]
  },
  {
   "cell_type": "code",
   "execution_count": 72,
   "id": "surprised-counter",
   "metadata": {},
   "outputs": [
    {
     "data": {
      "text/plain": [
       "[]"
      ]
     },
     "execution_count": 72,
     "metadata": {},
     "output_type": "execute_result"
    }
   ],
   "source": [
    "df_V2_result_col[0]['_2']"
   ]
  },
  {
   "cell_type": "code",
   "execution_count": 87,
   "id": "convinced-wesley",
   "metadata": {},
   "outputs": [
    {
     "name": "stdout",
     "output_type": "stream",
     "text": [
      "Row(_1=400, _2=[512, 513, 896, 897, 654, 1040, 785, 1041, 787, 786, 789, 657, 792, 793, 794, 795, 796, 797, 414, 798, 799, 417, 802, 801, 804, 805, 806, 807, 808, 809, 810, 811, 812, 813, 814, 815, 560, 561, 944, 945, 1088, 1089, 704, 705, 462, 463, 846, 849, 606, 736, 993, 992, 739, 740, 609, 742, 743, 745, 750, 1136, 1137, 752, 755, 753, 510])\n",
      "65\n",
      "****************************\n",
      "Row(_1=30, _2=[224, 321, 225, 128, 129, 32, 33, 270, 271, 368, 369, 176, 177, 81, 80, None, 222, 318])\n",
      "18\n",
      "****************************\n",
      "Row(_1=398, _2=[768, 769, 770, 771, 772, 773, 774, 775, 776, 778, 779, 780, 781, 782, 783, 726, None, 729])\n",
      "18\n",
      "****************************\n",
      "Row(_1=14, _2=[14, 16, 17, 18, 19, 21, None])\n",
      "7\n",
      "****************************\n",
      "Row(_1=10, _2=[10, 12, 13, 15, None])\n",
      "5\n",
      "****************************\n"
     ]
    }
   ],
   "source": [
    "valid_v2 = 0\n",
    "for i in range(len(df_V2_result_col)):\n",
    "    if len(df_V2_result_col[i]['_2']) > 0:\n",
    "        valid_v2 += 1\n",
    "        print(df_V2_result_col[i])\n",
    "        print(len(df_V2_result_col[i][1]))        \n",
    "        print(\"****************************\")"
   ]
  },
  {
   "cell_type": "code",
   "execution_count": 74,
   "id": "billion-marsh",
   "metadata": {},
   "outputs": [
    {
     "data": {
      "text/plain": [
       "5"
      ]
     },
     "execution_count": 74,
     "metadata": {},
     "output_type": "execute_result"
    }
   ],
   "source": [
    "valid_v2"
   ]
  },
  {
   "cell_type": "code",
   "execution_count": 76,
   "id": "impaired-modem",
   "metadata": {},
   "outputs": [
    {
     "name": "stdout",
     "output_type": "stream",
     "text": [
      "+---+---------------+\n",
      "|Ver|        Max_tri|\n",
      "+---+---------------+\n",
      "|624|[624, 620, 607]|\n",
      "+---+---------------+\n",
      "\n"
     ]
    }
   ],
   "source": [
    "df_crit_T.show()"
   ]
  },
  {
   "cell_type": "code",
   "execution_count": 86,
   "id": "stopped-budget",
   "metadata": {},
   "outputs": [
    {
     "data": {
      "text/plain": [
       "0"
      ]
     },
     "execution_count": 86,
     "metadata": {},
     "output_type": "execute_result"
    }
   ],
   "source": [
    "len(df_V2_result_col[1][1])"
   ]
  },
  {
   "cell_type": "code",
   "execution_count": 88,
   "id": "utility-figure",
   "metadata": {},
   "outputs": [
    {
     "data": {
      "text/plain": [
       "48"
      ]
     },
     "execution_count": 88,
     "metadata": {},
     "output_type": "execute_result"
    }
   ],
   "source": [
    "18+18+7+5"
   ]
  },
  {
   "cell_type": "code",
   "execution_count": 93,
   "id": "civilian-diesel",
   "metadata": {},
   "outputs": [],
   "source": [
    "df_crit_E_Co_tris_col = df_crit_E_Co_tris.collect()"
   ]
  },
  {
   "cell_type": "code",
   "execution_count": 94,
   "id": "configured-cartridge",
   "metadata": {},
   "outputs": [
    {
     "data": {
      "text/plain": [
       "[Row(Saddle_edge=[322, 274], Saddle_Co_t=[325, 322, 274]),\n",
       " Row(Saddle_edge=[299, 272], Saddle_Co_t=[350, 299, 272]),\n",
       " Row(Saddle_edge=[278, 277], Saddle_Co_t=[279, 278, 277]),\n",
       " Row(Saddle_edge=[321, 273], Saddle_Co_t=[351, 321, 273]),\n",
       " Row(Saddle_edge=[345, 275], Saddle_Co_t=[355, 345, 275]),\n",
       " Row(Saddle_edge=[322, 274], Saddle_Co_t=None),\n",
       " Row(Saddle_edge=[299, 272], Saddle_Co_t=[358, 299, 272]),\n",
       " Row(Saddle_edge=[278, 277], Saddle_Co_t=[356, 278, 277]),\n",
       " Row(Saddle_edge=[321, 273], Saddle_Co_t=[359, 321, 273]),\n",
       " Row(Saddle_edge=[345, 275], Saddle_Co_t=None)]"
      ]
     },
     "execution_count": 94,
     "metadata": {},
     "output_type": "execute_result"
    }
   ],
   "source": [
    "df_crit_E_Co_tris_col"
   ]
  },
  {
   "cell_type": "code",
   "execution_count": 96,
   "id": "floppy-birmingham",
   "metadata": {},
   "outputs": [
    {
     "name": "stdout",
     "output_type": "stream",
     "text": [
      "Row(tri_order=417, r1=299, r2=272, r3=350, r1_ele=0.0, r2_ele=-0.07611879706382751, r3_ele=0.0761198028922081, tri=[350, 299, 272], tri_ele=[0.0761198028922081, 0.0, -0.07611879706382751])\n",
      "Row(tri_order=1137, r1=355, r2=275, r3=345, r1_ele=0.07612019777297974, r2_ele=-0.07611879706382751, r3_ele=0.0, tri=[355, 345, 275], tri_ele=[0.07612019777297974, 0.0, -0.07611879706382751])\n",
      "Row(tri_order=369, r1=358, r2=272, r3=299, r1_ele=0.07612189650535583, r2_ele=-0.07611879706382751, r3_ele=0.0, tri=[358, 299, 272], tri_ele=[0.07612189650535583, 0.0, -0.07611879706382751])\n",
      "Row(tri_order=15, r1=356, r2=277, r3=278, r1_ele=0.07612189650535583, r2_ele=0.0, r3_ele=0.0, tri=[356, 278, 277], tri_ele=[0.07612189650535583, 0.0, 0.0])\n",
      "Row(tri_order=14, r1=277, r2=279, r3=278, r1_ele=0.0, r2_ele=0.0, r3_ele=0.0, tri=[279, 278, 277], tri_ele=[0.0, 0.0, 0.0])\n",
      "Row(tri_order=785, r1=321, r2=351, r3=273, r1_ele=0.0, r2_ele=0.0761198028922081, r3_ele=-0.07611879706382751, tri=[351, 321, 273], tri_ele=[0.0761198028922081, 0.0, -0.07611879706382751])\n",
      "Row(tri_order=782, r1=359, r2=321, r3=273, r1_ele=0.07612189650535583, r2_ele=0.0, r3_ele=-0.07611879706382751, tri=[359, 321, 273], tri_ele=[0.07612189650535583, 0.0, -0.07611879706382751])\n",
      "Row(tri_order=814, r1=322, r2=274, r3=325, r1_ele=0.0, r2_ele=-0.07611879706382751, r3_ele=0.0, tri=[325, 322, 274], tri_ele=[0.0, 0.0, -0.07611879706382751])\n"
     ]
    }
   ],
   "source": [
    "for i in range(len(df_tri_order_col)):\n",
    "    if df_tri_order_col[i]['tri'] == [325, 322, 274] or df_tri_order_col[i]['tri'] == [350, 299, 272] or df_tri_order_col[i]['tri'] == [279, 278, 277] or df_tri_order_col[i]['tri'] == [351, 321, 273] or df_tri_order_col[i]['tri'] == [355, 345, 275] or df_tri_order_col[i]['tri'] == [358, 299, 272] or df_tri_order_col[i]['tri'] == [356, 278, 277] or df_tri_order_col[i]['tri'] == [359, 321, 273]:\n",
    "        print(df_tri_order_col[i])"
   ]
  },
  {
   "cell_type": "code",
   "execution_count": 95,
   "id": "defined-ancient",
   "metadata": {},
   "outputs": [
    {
     "name": "stdout",
     "output_type": "stream",
     "text": [
      "root\n",
      " |-- tri_order: integer (nullable = true)\n",
      " |-- r1: integer (nullable = true)\n",
      " |-- r2: integer (nullable = true)\n",
      " |-- r3: integer (nullable = true)\n",
      " |-- r1_ele: float (nullable = true)\n",
      " |-- r2_ele: float (nullable = true)\n",
      " |-- r3_ele: float (nullable = true)\n",
      " |-- tri: array (nullable = false)\n",
      " |    |-- element: integer (containsNull = true)\n",
      " |-- tri_ele: array (nullable = false)\n",
      " |    |-- element: float (containsNull = true)\n",
      "\n"
     ]
    }
   ],
   "source": [
    "df_tri_order.printSchema()"
   ]
  },
  {
   "cell_type": "code",
   "execution_count": 97,
   "id": "color-nevada",
   "metadata": {},
   "outputs": [],
   "source": [
    "sassles_co_tri_order_list = [417,1137,369,15,14,785,782,814]"
   ]
  },
  {
   "cell_type": "code",
   "execution_count": 99,
   "id": "julian-tonight",
   "metadata": {},
   "outputs": [
    {
     "name": "stdout",
     "output_type": "stream",
     "text": [
      "417\n",
      "1137\n",
      "785\n",
      "814\n"
     ]
    }
   ],
   "source": [
    "for i in range(len(df_V2_result_col)):\n",
    "    if df_V2_result_col[i]['_1'] == 400:\n",
    "        for temp in sassles_co_tri_order_list:\n",
    "            if temp in df_V2_result_col[i]['_2']:\n",
    "                print(temp)"
   ]
  },
  {
   "cell_type": "code",
   "execution_count": null,
   "id": "endless-russell",
   "metadata": {},
   "outputs": [],
   "source": []
  }
 ],
 "metadata": {
  "kernelspec": {
   "display_name": "Python 3",
   "language": "python",
   "name": "python3"
  },
  "language_info": {
   "codemirror_mode": {
    "name": "ipython",
    "version": 3
   },
   "file_extension": ".py",
   "mimetype": "text/x-python",
   "name": "python",
   "nbconvert_exporter": "python",
   "pygments_lexer": "ipython3",
   "version": "3.7.7"
  }
 },
 "nbformat": 4,
 "nbformat_minor": 5
}
