{
 "cells": [
  {
   "cell_type": "code",
   "execution_count": 3,
   "id": "11ff01d1",
   "metadata": {},
   "outputs": [],
   "source": [
    "from PIL import Image\n",
    "import os"
   ]
  },
  {
   "cell_type": "code",
   "execution_count": 5,
   "id": "42628926",
   "metadata": {},
   "outputs": [
    {
     "name": "stdout",
     "output_type": "stream",
     "text": [
      "Please input your png file:C:/Users/yhqian/OneDrive - University of Maryland/PhD_study/Graphs and Tables/Forman Gradient/Graphs/PDF/Cos_TIN_1.png\n"
     ]
    }
   ],
   "source": [
    "# Replace 'your_image.png' with the path to your PNG file\n",
    "image_path = input(\"Please input your png file:\") \n",
    "\n",
    "file_directory = os.path.dirname(image_path)# /local/data/yuehui/pyspark/data/Idaho_Moscow_Mountain.off\n",
    "\n",
    "file_basename = os.path.basename(image_path) # input_vertices_2.off\n",
    "\n",
    "file_filename = os.path.splitext(file_basename)[0] # input_vertices_2\n",
    "file_extension = os.path.splitext(file_basename)[1] # .off\n",
    "  \n",
    "image = Image.open(image_path)\n",
    "\n",
    "# Convert the image to RGB mode if it is not already\n",
    "if image.mode != 'RGB':\n",
    "    image = image.convert('RGB')\n",
    "\n",
    "# Replace 'output.pdf' with the desired output PDF file path\n",
    "output_path = file_directory + '/' + file_filename  + '.pdf'\n",
    "image.save(output_path, 'PDF')"
   ]
  },
  {
   "cell_type": "code",
   "execution_count": null,
   "id": "6941f6ef",
   "metadata": {},
   "outputs": [],
   "source": []
  }
 ],
 "metadata": {
  "kernelspec": {
   "display_name": "Python 3 (ipykernel)",
   "language": "python",
   "name": "python3"
  },
  "language_info": {
   "codemirror_mode": {
    "name": "ipython",
    "version": 3
   },
   "file_extension": ".py",
   "mimetype": "text/x-python",
   "name": "python",
   "nbconvert_exporter": "python",
   "pygments_lexer": "ipython3",
   "version": "3.7.12"
  }
 },
 "nbformat": 4,
 "nbformat_minor": 5
}
