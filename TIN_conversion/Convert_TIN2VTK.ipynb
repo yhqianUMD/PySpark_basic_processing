{
 "cells": [
  {
   "cell_type": "code",
   "execution_count": 1,
   "id": "4b764a8f",
   "metadata": {},
   "outputs": [],
   "source": [
    "import sys\n",
    "import os\n",
    "import numpy as np\n",
    "import time"
   ]
  },
  {
   "cell_type": "code",
   "execution_count": 15,
   "id": "f2c4ed94",
   "metadata": {},
   "outputs": [],
   "source": [
    "def Convert_tri2vtk(tin_file,tin_output_folder):\n",
    "    '''\n",
    "    Convert a TIN file in the format of tri to VTK\n",
    "    Return\n",
    "    tin_file: name of TIN .off file\n",
    "    points1: updated 2D points (x,y). each pair of (x,y) is unique\n",
    "    zs1: updated z values of points, in the same order of points1\n",
    "    tris: triangles of TIN. each triangle is saved as [vid1, vid2, vid3]. vid is point index based on points1\n",
    "    '''\n",
    "    tin_basename = os.path.basename(tin_file)\n",
    "    VTK_file = tin_output_folder + '/' + os.path.splitext(tin_basename)[0]  + '_test.VTK'\n",
    "    \n",
    "    if os.path.splitext(tin_basename)[1] == '.tri':\n",
    "        with open(tin_file) as infile:\n",
    "            line = (infile.readline()).split()\n",
    "            vertices_num=int(line[0])\n",
    "            print(\"vnum: {}\".format(vertices_num))\n",
    "            with open(VTK_file, 'w', newline='') as writer:\n",
    "                # writer = csv.writer(ofs_pts)\n",
    "                writer.write('# vtk DataFile Version 2.0\\n')\n",
    "                writer.write('\\n')\n",
    "                writer.write('ASCII\\n')\n",
    "                writer.write('\\n')\n",
    "                writer.write('DATASET UNSTRUCTURED_GRID\\n')\n",
    "                writer.write('\\n')\n",
    "                writer.write(f'POINTS {vertices_num} float\\n')\n",
    "                \n",
    "                for l in range(vertices_num):\n",
    "                    line = infile.readline().split()\n",
    "                    v = [float(line[0]),float(line[1]),float(line[2])] # x,y,ele,self_index, ele_order\n",
    "                    writer.write(f\"{v[0]} {v[1]} {v[2]}\\n\")\n",
    "                \n",
    "                line = (infile.readline()).split()\n",
    "                triangles_num = int(line[0])\n",
    "                print(\"tnum: {}\".format(triangles_num))\n",
    "                \n",
    "                writer.write('\\n')\n",
    "                writer.write(f'CELLS {triangles_num} {triangles_num * 4}\\n')\n",
    "                for l in range(triangles_num):\n",
    "                    line = infile.readline().split()\n",
    "                    t = [3, int(line[0]),int(line[1]),int(line[2])] # x,y,ele,self_index, ele_order\n",
    "                    writer.write(f\"{t[0]} {t[1]} {t[2]} {t[3]}\\n\")\n",
    "                    \n",
    "                writer.write('\\n')\n",
    "                writer.write(f\"CELL_TYPES {triangles_num}\\n\")\n",
    "                for l in range(triangles_num):\n",
    "                    writer.write(\"7 \")\n",
    "                writer.write('\\n')\n",
    "                writer.close()\n",
    "                \n",
    "        print(\"Conversion complete.\")\n",
    "    \n",
    "    if os.path.splitext(tin_basename)[1] == '.off':\n",
    "        with open(tin_file) as infile:\n",
    "            trash = infile.readline()\n",
    "            line = (infile.readline()).split()\n",
    "            vertices_num=int(line[0])\n",
    "            triangles_num = int(line[1])\n",
    "            print(\"vnum: {}\".format(vertices_num))\n",
    "            print(\"tnum: {}\".format(triangles_num))\n",
    "            \n",
    "            with open(VTK_file, 'w', newline='') as writer:\n",
    "                # writer = csv.writer(ofs_pts)\n",
    "                writer.write('# vtk DataFile Version 2.0\\n')\n",
    "                writer.write('\\n')\n",
    "                writer.write('ASCII\\n')\n",
    "                writer.write('\\n')\n",
    "                writer.write('DATASET UNSTRUCTURED_GRID\\n')\n",
    "                writer.write('\\n')\n",
    "                writer.write(f'CELLS {vertices_num} float\\n')\n",
    "                \n",
    "                for l in range(vertices_num):\n",
    "                    line = infile.readline().split()\n",
    "                    v = [float(line[0]),float(line[1]),float(line[2])] # x,y,ele,self_index, ele_order\n",
    "                    writer.write(f\"{v[0]} {v[1]} {v[2]}\\n\")\n",
    "                \n",
    "                writer.write('\\n')\n",
    "                writer.write(f'CELLS {triangles_num} {triangles_num * 4}\\n')\n",
    "                for l in range(triangles_num):\n",
    "                    line = infile.readline().split()\n",
    "                    t = [3, int(line[0]),int(line[1]),int(line[2])] # x,y,ele,self_index, ele_order\n",
    "                    writer.write(f\"{t[0]} {t[1]} {t[2]} {t[3]}\\n\")\n",
    "                    \n",
    "                writer.write('\\n')\n",
    "                writer.write(f\"CELL_TYPES {triangles_num}\\n\")\n",
    "                for l in range(triangles_num):\n",
    "                    writer.write(\"7 \")\n",
    "                writer.write('\\n')\n",
    "                writer.close()\n",
    "                \n",
    "        print(\"Conversion complete.\")\n",
    "            \n",
    "    return VTK_file"
   ]
  },
  {
   "cell_type": "code",
   "execution_count": 16,
   "id": "4b2dbea9",
   "metadata": {},
   "outputs": [],
   "source": [
    "tin_file = 'C:/Users/yhqian/Documents/cos_sum.tri'\n",
    "tin_output_folder = 'C:/Users/yhqian/Documents'"
   ]
  },
  {
   "cell_type": "code",
   "execution_count": 17,
   "id": "796fc5ac",
   "metadata": {},
   "outputs": [
    {
     "name": "stdout",
     "output_type": "stream",
     "text": [
      "vnum: 625\n",
      "tnum: 1152\n",
      "Conversion complete.\n"
     ]
    }
   ],
   "source": [
    "VTK_file = Convert_tri2vtk(tin_file,tin_output_folder)"
   ]
  },
  {
   "cell_type": "code",
   "execution_count": null,
   "id": "959b4206",
   "metadata": {},
   "outputs": [],
   "source": []
  }
 ],
 "metadata": {
  "kernelspec": {
   "display_name": "Python 3 (ipykernel)",
   "language": "python",
   "name": "python3"
  },
  "language_info": {
   "codemirror_mode": {
    "name": "ipython",
    "version": 3
   },
   "file_extension": ".py",
   "mimetype": "text/x-python",
   "name": "python",
   "nbconvert_exporter": "python",
   "pygments_lexer": "ipython3",
   "version": "3.7.12"
  }
 },
 "nbformat": 4,
 "nbformat_minor": 5
}
