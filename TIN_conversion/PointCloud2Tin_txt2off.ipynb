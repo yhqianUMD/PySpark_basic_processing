{
 "cells": [
  {
   "cell_type": "code",
   "execution_count": 1,
   "id": "688645f0",
   "metadata": {},
   "outputs": [],
   "source": [
    "import sys\n",
    "import os\n",
    "\n",
    "from reader import Reader\n",
    "# generate \n",
    "\n",
    "from scipy.spatial import Delaunay \n",
    "import numpy as np\n",
    "import time"
   ]
  },
  {
   "cell_type": "code",
   "execution_count": 2,
   "id": "d468bc4b",
   "metadata": {},
   "outputs": [],
   "source": [
    "def generate_TIN(pts_file,tin_output_folder):\n",
    "    '''\n",
    "    Generate TIN from input point file.\n",
    "    Return\n",
    "    tin_file: name of TIN .off file\n",
    "    points1: updated 2D points (x,y). each pair of (x,y) is unique\n",
    "    zs1: updated z values of points, in the same order of points1\n",
    "    tris: triangles of TIN. each triangle is saved as [vid1, vid2, vid3]. vid is point index based on points1\n",
    "    '''\n",
    "    points = np.empty(shape=[0, 2])\n",
    "    zs=list()\n",
    "    \n",
    "    # count the lines of the whole txt file\n",
    "    lines_num = 0\n",
    "    for lines_num,line in enumerate(open(pts_file,'rU').readlines()):\n",
    "        lines_num += 1\n",
    "    \n",
    "    with open(pts_file) as infile:\n",
    "        # lines_num= infile.readline().strip()\n",
    "        # lines_num=int(lines_num)\n",
    "        for l in range(lines_num):\n",
    "            line = (infile.readline()).split()\n",
    "            v1 = float(line[0])\n",
    "            v2 = float(line[1])\n",
    "            existed_p = False\n",
    "            for p in points:\n",
    "                if p[0]==v1 and p[1]==v2:\n",
    "                    existed_p = True\n",
    "                    break\n",
    "            if existed_p == False:\n",
    "                points = np.append(points, [[v1,v2]], axis=0)\n",
    "                zs.append(float(line[2]))\n",
    "    \n",
    "    triangles = Delaunay(points) \n",
    "    \n",
    "     \n",
    "    used_pts = set()\n",
    "    for tri in triangles.simplices:\n",
    "        used_pts.add(tri[0])\n",
    "        used_pts.add(tri[1])\n",
    "        used_pts.add(tri[2])\n",
    "    o2n = dict()\n",
    "    n2o = list()\n",
    "    zs1 = list()\n",
    "    points1= np.empty(shape=[0, 2])\n",
    "    for pid in used_pts:\n",
    "        points1 = np.append(points1,[[points[pid][0], points[pid][1]]],axis=0)\n",
    "        o2n[pid] = len(points1)-1\n",
    "        n2o.append(pid)\n",
    "        zs1.append(zs[pid])\n",
    "        \n",
    "    tris = np.empty(shape=[0, 3])\n",
    "    for tri in triangles.simplices:\n",
    "        v1 = tri[0]\n",
    "        v2 = tri[1]\n",
    "        v3 = tri[2]\n",
    "        nv1 = o2n[v1]\n",
    "        nv2 = o2n[v2]\n",
    "        nv3 = o2n[v3]\n",
    "        tris = np.append(tris,[[nv1, nv2, nv3]],axis=0)\n",
    "   \n",
    "   # output TIN file, the finename is the same as input file but with different suffix\n",
    "    tin_file = tin_output_file + '/' + os.path.basename(pts_file).split('.')[0]  + '.off'\n",
    "    # tin_file = \"pts-dt.off\" \n",
    "    with open(tin_file,'w') as ofs:\n",
    "        ofs.write(\"OFF\\n\")\n",
    "        ofs.write(\"{} {} 0\\n\".format(len(points1), len(tris)))\n",
    "        for pid in range(len(points1)):\n",
    "            ofs.write(\"{} {} {}\\n\".format(points[pid][0], points[pid][1],zs1[pid]))\n",
    "        for tri in tris:\n",
    "            ofs.write(\"3 {} {} {}\\n\".format(int(tri[0]), int(tri[1]), int(tri[2])))\n",
    "    \n",
    "    #return tin_file, points1, zs1, tris\n",
    "    return tin_file"
   ]
  },
  {
   "cell_type": "code",
   "execution_count": 6,
   "id": "4b2f4de0",
   "metadata": {},
   "outputs": [
    {
     "name": "stdout",
     "output_type": "stream",
     "text": [
      "time: 0.008997678756713867\n"
     ]
    },
    {
     "name": "stderr",
     "output_type": "stream",
     "text": [
      "C:\\Users\\yhqian\\Anaconda3\\envs\\python37\\lib\\site-packages\\ipykernel_launcher.py:15: DeprecationWarning: 'U' mode is deprecated\n",
      "  from ipykernel import kernelapp as app\n"
     ]
    }
   ],
   "source": [
    "t1 = time.time()\n",
    "\n",
    "pts_file = 'C:/Users/yhqian/Programming/data/pointcloud_test.txt'\n",
    "tin_output_folder = 'C:/Users/yhqian/Programming/data'\n",
    "tin_file = generate_TIN(pts_file, tin_output_folder)\n",
    "t2 = time.time()\n",
    "\n",
    "print(\"time:\",t2-t1)"
   ]
  }
 ],
 "metadata": {
  "kernelspec": {
   "display_name": "Python 3 (ipykernel)",
   "language": "python",
   "name": "python3"
  },
  "language_info": {
   "codemirror_mode": {
    "name": "ipython",
    "version": 3
   },
   "file_extension": ".py",
   "mimetype": "text/x-python",
   "name": "python",
   "nbconvert_exporter": "python",
   "pygments_lexer": "ipython3",
   "version": "3.7.12"
  }
 },
 "nbformat": 4,
 "nbformat_minor": 5
}
