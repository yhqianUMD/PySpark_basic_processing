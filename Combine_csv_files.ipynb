{
 "cells": [
  {
   "cell_type": "code",
   "execution_count": 1,
   "id": "f5756b91",
   "metadata": {},
   "outputs": [],
   "source": [
    "import pandas as pd\n",
    "import glob\n",
    "import os"
   ]
  },
  {
   "cell_type": "code",
   "execution_count": 2,
   "id": "cee72888",
   "metadata": {},
   "outputs": [],
   "source": [
    "files = os.path.join(\"D:/Programming/Python/GEOG770/Project/data/tree_top/locMax_x=320534.27/locMax_y=4990792.31\", \"*.csv\")\n",
    "\n",
    "files = glob.glob(files)"
   ]
  },
  {
   "cell_type": "code",
   "execution_count": 3,
   "id": "2a974c9f",
   "metadata": {},
   "outputs": [
    {
     "data": {
      "text/plain": [
       "43"
      ]
     },
     "execution_count": 3,
     "metadata": {},
     "output_type": "execute_result"
    }
   ],
   "source": [
    "len(files)"
   ]
  },
  {
   "cell_type": "code",
   "execution_count": 4,
   "id": "37f716bb",
   "metadata": {},
   "outputs": [],
   "source": [
    "for i in files:\n",
    "    fr = open(i,'r',encoding='utf-8').read()\n",
    "    with open('D:/Programming/Python/GEOG770/Project/data/tree_top/locMax_x=320534.27/total.txt','a',encoding='utf-8') as f:\n",
    "        f.write(fr)"
   ]
  },
  {
   "cell_type": "code",
   "execution_count": 5,
   "id": "286fbc1e",
   "metadata": {},
   "outputs": [],
   "source": [
    "for i in files:\n",
    "    fr = open(i,'r',encoding='utf-8').read()\n",
    "    with open('D:/Programming/Python/GEOG770/Project/data/tree_top/locMax_x=320534.27/total.csv','a',encoding='utf-8') as f:\n",
    "        f.write(fr)"
   ]
  }
 ],
 "metadata": {
  "kernelspec": {
   "display_name": "Python 3 (ipykernel)",
   "language": "python",
   "name": "python3"
  },
  "language_info": {
   "codemirror_mode": {
    "name": "ipython",
    "version": 3
   },
   "file_extension": ".py",
   "mimetype": "text/x-python",
   "name": "python",
   "nbconvert_exporter": "python",
   "pygments_lexer": "ipython3",
   "version": "3.7.12"
  }
 },
 "nbformat": 4,
 "nbformat_minor": 5
}
