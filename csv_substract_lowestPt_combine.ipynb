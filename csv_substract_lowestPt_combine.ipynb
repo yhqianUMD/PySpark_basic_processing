{
 "cells": [
  {
   "cell_type": "code",
   "execution_count": 1,
   "id": "9e00cef0",
   "metadata": {},
   "outputs": [],
   "source": [
    "import pandas as pd\n",
    "import glob\n",
    "import csv\n",
    "import os"
   ]
  },
  {
   "cell_type": "code",
   "execution_count": 2,
   "id": "d5950d4d",
   "metadata": {},
   "outputs": [],
   "source": [
    "files = os.path.join(\"D:/Programming/Python/GEOG770/Project/data/ALS_04/cluster_locMax_onefile_3col_combine\", \"*.csv\")\n",
    "\n",
    "files = glob.glob(files) # files is a list of file name with abosolute path"
   ]
  },
  {
   "cell_type": "code",
   "execution_count": 3,
   "id": "dcc9f0cd",
   "metadata": {},
   "outputs": [
    {
     "data": {
      "text/plain": [
       "42"
      ]
     },
     "execution_count": 3,
     "metadata": {},
     "output_type": "execute_result"
    }
   ],
   "source": [
    "# head is the path to this file, like D:/Programming\n",
    "# tail is the name of this file, like app.csv\n",
    "# head, tail = os.path.split(files[0])\n",
    "\n",
    "# basenmae is the name of this file, like app.csv\n",
    "# basenmae = os.path.basename(files[0])\n",
    "\n",
    "len(files)"
   ]
  },
  {
   "cell_type": "code",
   "execution_count": 7,
   "id": "506a02a5",
   "metadata": {},
   "outputs": [],
   "source": [
    "folder = \"D:/Programming/Python/GEOG770/Project/data/ALS_04/cluster_locMax_onefile_3col_combine_modify/\"\n",
    "for i in files:\n",
    "    # read the csv file\n",
    "    fr = pd.read_csv(i,sep=\",\",header=None,names=['x','y','ele'])\n",
    "    fr = fr.add({'x':-320559.40,'y':-4990809.23,'ele':-1.76}, axis='columns')\n",
    "    \n",
    "    #fr = open(i,'r',encoding='utf-8').read() # i is the whole file path and name of a file\n",
    "    basename = os.path.basename(i) # basename is the name of a file, like app.csv\n",
    "    final_path = folder+basename\n",
    "    with open(final_path, \"w\", newline='') as output:\n",
    "        field_names = ['x', 'y', 'ele']\n",
    "        writer = csv.DictWriter(output, fieldnames=field_names)\n",
    "        # writer.writeheader()\n",
    "        for pid in range(len(fr)):\n",
    "            #output.write(\"{} {} {}\\n\".format({'x_cor':P['x'][pid], 'y_cor':P['y'][pid],'elevation':P['ele'][pid]}))\n",
    "            writer.writerow({'x':fr['x'][pid], 'y':fr['y'][pid],'ele':fr['ele'][pid]})\n",
    "        "
   ]
  },
  {
   "cell_type": "code",
   "execution_count": null,
   "id": "ab073624",
   "metadata": {},
   "outputs": [],
   "source": []
  }
 ],
 "metadata": {
  "kernelspec": {
   "display_name": "Python 3 (ipykernel)",
   "language": "python",
   "name": "python3"
  },
  "language_info": {
   "codemirror_mode": {
    "name": "ipython",
    "version": 3
   },
   "file_extension": ".py",
   "mimetype": "text/x-python",
   "name": "python",
   "nbconvert_exporter": "python",
   "pygments_lexer": "ipython3",
   "version": "3.7.12"
  }
 },
 "nbformat": 4,
 "nbformat_minor": 5
}
